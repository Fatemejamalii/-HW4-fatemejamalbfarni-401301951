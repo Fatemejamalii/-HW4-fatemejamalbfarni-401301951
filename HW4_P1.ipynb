{
  "nbformat": 4,
  "nbformat_minor": 0,
  "metadata": {
    "colab": {
      "provenance": [],
      "machine_shape": "hm",
      "collapsed_sections": [
        "KxfVvEP_yvCo",
        "sur7WjtAc3U2",
        "1VDxjqHjW8YH",
        "nROxhPocgY7Q",
        "UvItu9EvbXXs",
        "LSrmpBkNc8-7"
      ]
    },
    "kernelspec": {
      "name": "python3",
      "display_name": "Python 3"
    },
    "language_info": {
      "name": "python"
    },
    "accelerator": "GPU",
    "gpuClass": "standard"
  },
  "cells": [
    {
      "cell_type": "markdown",
      "source": [
        "##**Dataset**"
      ],
      "metadata": {
        "id": "KxfVvEP_yvCo"
      }
    },
    {
      "cell_type": "code",
      "execution_count": null,
      "metadata": {
        "id": "4cyUeGt5kXiU"
      },
      "outputs": [],
      "source": [
        "file1 = open('/content/drive/MyDrive/deep_learning_hws/HWs/4/ferdousi.txt', 'r')\n",
        "Lines = file1.readlines()"
      ]
    },
    {
      "cell_type": "code",
      "source": [
        "inputs=[]\n",
        "outputs=[]\n",
        "for i in range(2,len(Lines)-1,2):\n",
        "  inputs.append(Lines[i].strip('\\n'))\n",
        "  outputs.append(Lines[i+1].strip('\\n'))"
      ],
      "metadata": {
        "id": "q_f3w5igk_EB"
      },
      "execution_count": null,
      "outputs": []
    },
    {
      "cell_type": "code",
      "source": [
        "inputs[0]"
      ],
      "metadata": {
        "colab": {
          "base_uri": "https://localhost:8080/",
          "height": 35
        },
        "id": "mdylqMDslAs5",
        "outputId": "f95c7e57-76d0-4536-8980-eb95d9a640d2"
      },
      "execution_count": null,
      "outputs": [
        {
          "output_type": "execute_result",
          "data": {
            "text/plain": [
              "'به نام خداوند جان و خرد'"
            ],
            "application/vnd.google.colaboratory.intrinsic+json": {
              "type": "string"
            }
          },
          "metadata": {},
          "execution_count": 3
        }
      ]
    },
    {
      "cell_type": "code",
      "source": [
        "outputs[0]"
      ],
      "metadata": {
        "colab": {
          "base_uri": "https://localhost:8080/",
          "height": 35
        },
        "id": "NU7v5wCils05",
        "outputId": "2663291a-58e6-4870-8558-10a9cd4b769e"
      },
      "execution_count": null,
      "outputs": [
        {
          "output_type": "execute_result",
          "data": {
            "text/plain": [
              "'کزین برتر اندیشه برنگذرد'"
            ],
            "application/vnd.google.colaboratory.intrinsic+json": {
              "type": "string"
            }
          },
          "metadata": {},
          "execution_count": 4
        }
      ]
    },
    {
      "cell_type": "code",
      "source": [
        "import os, sys\n",
        "\n",
        "from keras.models import Model\n",
        "from keras.layers import Input, LSTM, GRU, Dense, Embedding\n",
        "from keras.preprocessing.text import Tokenizer\n",
        "from keras_preprocessing.sequence import pad_sequences\n",
        "from keras.utils import to_categorical\n",
        "import numpy as np\n",
        "import matplotlib.pyplot as plt"
      ],
      "metadata": {
        "id": "0LVfh9tOlzAU"
      },
      "execution_count": null,
      "outputs": []
    },
    {
      "cell_type": "code",
      "source": [
        "BATCH_SIZE = 8\n",
        "EPOCHS = 20\n",
        "LSTM_NODES =256\n",
        "NUM_SENTENCES = 20000\n",
        "MAX_SENTENCE_LENGTH = 50\n",
        "MAX_NUM_WORDS = 20000\n",
        "EMBEDDING_SIZE = 100"
      ],
      "metadata": {
        "id": "0XZJMrbXcDG3"
      },
      "execution_count": null,
      "outputs": []
    },
    {
      "cell_type": "code",
      "source": [
        "input_sentences=[]\n",
        "output_sentences=[]\n",
        "output_sentences_inputs = []\n",
        "count = 0\n",
        "for i in range(2,len(Lines)-1,2):\n",
        "  input_sentence = Lines[i].strip('\\n')\n",
        "  output = Lines[i+1].strip('\\n')\n",
        "  count += 1\n",
        "\n",
        "  if count > NUM_SENTENCES:\n",
        "    break\n",
        "\n",
        "  output_sentence = output + ' <eos>'\n",
        "  output_sentence_input = '<sos> ' + output\n",
        "\n",
        "  input_sentences.append(input_sentence)\n",
        "  output_sentences.append(output_sentence)\n",
        "  output_sentences_inputs.append(output_sentence_input)\n",
        "\n",
        "print(\"num samples input:\", len(input_sentences))\n",
        "print(\"num samples output:\", len(output_sentences))\n",
        "print(\"num samples output input:\", len(output_sentences_inputs))"
      ],
      "metadata": {
        "colab": {
          "base_uri": "https://localhost:8080/"
        },
        "id": "pb1zJ6SAciJJ",
        "outputId": "ef8febb7-c258-48c1-d78c-29f250491436"
      },
      "execution_count": null,
      "outputs": [
        {
          "output_type": "stream",
          "name": "stdout",
          "text": [
            "num samples input: 20000\n",
            "num samples output: 20000\n",
            "num samples output input: 20000\n"
          ]
        }
      ]
    },
    {
      "cell_type": "code",
      "source": [
        "print(input_sentences[172])\n",
        "print(output_sentences[172])\n",
        "print(output_sentences_inputs[172])"
      ],
      "metadata": {
        "colab": {
          "base_uri": "https://localhost:8080/"
        },
        "id": "psRpNEXddpFJ",
        "outputId": "bb83ca40-2a3c-43c4-af89-6459e6404057"
      },
      "execution_count": null,
      "outputs": [
        {
          "output_type": "stream",
          "name": "stdout",
          "text": [
            "دریغ آن کمربند و آن گردگاه\n",
            "دریغ آن کیی برز و بالای شاه <eos>\n",
            "<sos> دریغ آن کیی برز و بالای شاه\n"
          ]
        }
      ]
    },
    {
      "cell_type": "code",
      "source": [
        "input_tokenizer = Tokenizer(num_words=MAX_NUM_WORDS)\n",
        "input_tokenizer.fit_on_texts(input_sentences)\n",
        "input_integer_seq = input_tokenizer.texts_to_sequences(input_sentences)\n",
        "\n",
        "word2idx_inputs = input_tokenizer.word_index\n",
        "print('Total unique words in the input: %s' % len(word2idx_inputs))\n",
        "\n",
        "num_words_input = len(word2idx_inputs) + 1\n",
        "max_input_len = max(len(sen) for sen in input_integer_seq)\n",
        "print(\"Length of longest sentence in input: %g\" % max_input_len)"
      ],
      "metadata": {
        "colab": {
          "base_uri": "https://localhost:8080/"
        },
        "id": "gHgUgOw-eANz",
        "outputId": "1d35562e-8fbe-4aad-c6f5-f9060f571916"
      },
      "execution_count": null,
      "outputs": [
        {
          "output_type": "stream",
          "name": "stdout",
          "text": [
            "Total unique words in the input: 7396\n",
            "Length of longest sentence in input: 11\n"
          ]
        }
      ]
    },
    {
      "cell_type": "code",
      "source": [
        "output_tokenizer = Tokenizer(num_words=MAX_NUM_WORDS, filters='')\n",
        "output_tokenizer.fit_on_texts(output_sentences + output_sentences_inputs)\n",
        "output_integer_seq = output_tokenizer.texts_to_sequences(output_sentences)\n",
        "output_input_integer_seq = output_tokenizer.texts_to_sequences(output_sentences_inputs)\n",
        "\n",
        "word2idx_outputs = output_tokenizer.word_index\n",
        "print('Total unique words in the output: %s' % len(word2idx_outputs))\n",
        "\n",
        "num_words_output = len(word2idx_outputs) + 1\n",
        "max_out_len = max(len(sen) for sen in output_integer_seq)\n",
        "print(\"Length of longest sentence in the output: %g\" % max_out_len)"
      ],
      "metadata": {
        "colab": {
          "base_uri": "https://localhost:8080/"
        },
        "id": "ePnchyr-eUfJ",
        "outputId": "be7e3b53-2ef1-43ce-d968-404ed6446a59"
      },
      "execution_count": null,
      "outputs": [
        {
          "output_type": "stream",
          "name": "stdout",
          "text": [
            "Total unique words in the output: 7922\n",
            "Length of longest sentence in the output: 12\n"
          ]
        }
      ]
    },
    {
      "cell_type": "code",
      "source": [
        "encoder_input_sequences = pad_sequences(input_integer_seq, maxlen=max_input_len)\n",
        "print(\"encoder_input_sequences.shape:\", encoder_input_sequences.shape)\n",
        "print(\"encoder_input_sequences[172]:\", encoder_input_sequences[172])"
      ],
      "metadata": {
        "colab": {
          "base_uri": "https://localhost:8080/"
        },
        "id": "ttyJveQjelyx",
        "outputId": "3b08c51b-2817-43b9-9fd1-7299ea859e04"
      },
      "execution_count": null,
      "outputs": [
        {
          "output_type": "stream",
          "name": "stdout",
          "text": [
            "encoder_input_sequences.shape: (20000, 11)\n",
            "encoder_input_sequences[172]: [   0    0    0    0    0  810   21  844    1   21 4319]\n"
          ]
        }
      ]
    },
    {
      "cell_type": "code",
      "source": [
        "decoder_input_sequences = pad_sequences(output_input_integer_seq, maxlen=max_out_len, padding='post')\n",
        "print(\"decoder_input_sequences.shape:\", decoder_input_sequences.shape)\n",
        "print(\"decoder_input_sequences[172]:\", decoder_input_sequences[172])"
      ],
      "metadata": {
        "colab": {
          "base_uri": "https://localhost:8080/"
        },
        "id": "sDfyrmxKe4M5",
        "outputId": "ac4856d6-651b-4480-d8e0-62a480cdfb40"
      },
      "execution_count": null,
      "outputs": [
        {
          "output_type": "stream",
          "name": "stdout",
          "text": [
            "decoder_input_sequences.shape: (20000, 12)\n",
            "decoder_input_sequences[172]: [   2 1007   27 1786  703    3  586   28    0    0    0    0]\n"
          ]
        }
      ]
    },
    {
      "cell_type": "code",
      "source": [
        "decoder_output_sequences = pad_sequences(output_integer_seq, maxlen=max_out_len, padding='post')\n",
        "print(\"decoder_input_sequences.shape:\", decoder_output_sequences.shape)\n",
        "print(\"decoder_input_sequences[172]:\", decoder_output_sequences[172])"
      ],
      "metadata": {
        "colab": {
          "base_uri": "https://localhost:8080/"
        },
        "id": "8BF_XPOtdLw5",
        "outputId": "ca06edf0-ddc6-4737-e83c-1260ec8bb224"
      },
      "execution_count": null,
      "outputs": [
        {
          "output_type": "stream",
          "name": "stdout",
          "text": [
            "decoder_input_sequences.shape: (20000, 12)\n",
            "decoder_input_sequences[172]: [1007   27 1786  703    3  586   28    1    0    0    0    0]\n"
          ]
        }
      ]
    },
    {
      "cell_type": "code",
      "source": [
        "!pip install fasttext"
      ],
      "metadata": {
        "colab": {
          "base_uri": "https://localhost:8080/"
        },
        "id": "VmeJ-_7j-hp6",
        "outputId": "dde915e0-2d12-4369-c15a-74ff59d5f3d0"
      },
      "execution_count": null,
      "outputs": [
        {
          "output_type": "stream",
          "name": "stdout",
          "text": [
            "Looking in indexes: https://pypi.org/simple, https://us-python.pkg.dev/colab-wheels/public/simple/\n",
            "Requirement already satisfied: fasttext in /usr/local/lib/python3.8/dist-packages (0.9.2)\n",
            "Requirement already satisfied: setuptools>=0.7.0 in /usr/local/lib/python3.8/dist-packages (from fasttext) (57.4.0)\n",
            "Requirement already satisfied: pybind11>=2.2 in /usr/local/lib/python3.8/dist-packages (from fasttext) (2.10.3)\n",
            "Requirement already satisfied: numpy in /usr/local/lib/python3.8/dist-packages (from fasttext) (1.21.6)\n"
          ]
        }
      ]
    },
    {
      "cell_type": "code",
      "source": [
        "import fasttext\n",
        "import fasttext.util\n",
        "fasttext.util.download_model('fa', if_exists='ignore')  # Persian"
      ],
      "metadata": {
        "colab": {
          "base_uri": "https://localhost:8080/",
          "height": 35
        },
        "id": "qTzI7Ync-n7d",
        "outputId": "083a981e-34b0-4e54-a359-11e9588c32df"
      },
      "execution_count": null,
      "outputs": [
        {
          "output_type": "execute_result",
          "data": {
            "text/plain": [
              "'cc.fa.300.bin'"
            ],
            "application/vnd.google.colaboratory.intrinsic+json": {
              "type": "string"
            }
          },
          "metadata": {},
          "execution_count": 15
        }
      ]
    },
    {
      "cell_type": "code",
      "source": [
        "ft = fasttext.load_model('cc.fa.300.bin')\n",
        "ft.get_dimension()\n",
        "fasttext.util.reduce_model(ft, 100)\n",
        "ft.get_dimension()"
      ],
      "metadata": {
        "colab": {
          "base_uri": "https://localhost:8080/"
        },
        "id": "ukGaTURT-vq4",
        "outputId": "74874f14-47eb-46dd-ea32-81bd405c40aa"
      },
      "execution_count": null,
      "outputs": [
        {
          "output_type": "stream",
          "name": "stderr",
          "text": [
            "Warning : `load_model` does not return WordVectorModel or SupervisedModel any more, but a `FastText` object which is very similar.\n"
          ]
        },
        {
          "output_type": "execute_result",
          "data": {
            "text/plain": [
              "100"
            ]
          },
          "metadata": {},
          "execution_count": 16
        }
      ]
    },
    {
      "cell_type": "code",
      "source": [
        "!rm -r /content/cc.fa.300.bin.gz"
      ],
      "metadata": {
        "id": "xSspJUSeXcyD",
        "colab": {
          "base_uri": "https://localhost:8080/"
        },
        "outputId": "f3e0d906-1715-42b0-ac94-1ebc73b4b988"
      },
      "execution_count": null,
      "outputs": [
        {
          "output_type": "stream",
          "name": "stdout",
          "text": [
            "rm: cannot remove '/content/cc.fa.300.bin.gz': No such file or directory\n"
          ]
        }
      ]
    },
    {
      "cell_type": "code",
      "source": [
        "num_words = min(MAX_NUM_WORDS, len(word2idx_inputs) + 1)\n",
        "embedding_matrix = np.zeros((num_words, EMBEDDING_SIZE))\n",
        "for word, index in word2idx_inputs.items():\n",
        "    embedding_vector = ft.get_word_vector(word)\n",
        "    if embedding_vector is not None:\n",
        "        embedding_matrix[index] = embedding_vector"
      ],
      "metadata": {
        "id": "2-aHiLz-S8-r"
      },
      "execution_count": null,
      "outputs": []
    },
    {
      "cell_type": "code",
      "source": [
        "print(embedding_matrix[539])"
      ],
      "metadata": {
        "id": "tVi0g753TtoV",
        "colab": {
          "base_uri": "https://localhost:8080/"
        },
        "outputId": "82544e7e-d34f-41e9-9f16-e1326715e675"
      },
      "execution_count": null,
      "outputs": [
        {
          "output_type": "stream",
          "name": "stdout",
          "text": [
            "[-0.1557155   0.00252043  0.10223792  0.07381915 -0.08709624  0.19270158\n",
            " -0.09906357 -0.06595844 -0.049062   -0.04832852 -0.12825242  0.06963368\n",
            "  0.08702582  0.05197926 -0.03041364 -0.03755385 -0.02755375  0.06748731\n",
            " -0.03004631 -0.0670621   0.08433469 -0.02011502 -0.02465971  0.07285171\n",
            " -0.11777939  0.04727184 -0.04733373 -0.02902734 -0.07392121  0.10239594\n",
            "  0.06023012 -0.03176318  0.05785254  0.0049776   0.03579669  0.04224243\n",
            " -0.02525595  0.06847513 -0.00893902  0.09192023 -0.09349605  0.01060967\n",
            "  0.01171269 -0.0288957   0.05119859  0.06175212  0.07594294  0.04438259\n",
            "  0.02903671 -0.00453236 -0.05587432  0.00580842  0.01893761  0.0249174\n",
            "  0.04737693 -0.00217094  0.07116451 -0.02416988 -0.06583928  0.03848156\n",
            " -0.02577743 -0.03372969  0.03457469  0.00094749  0.05096736 -0.01395384\n",
            " -0.06325597 -0.02920677  0.00218947 -0.01312318 -0.02231554 -0.00939316\n",
            " -0.00921615 -0.02176376  0.01757556  0.01764314  0.0126503  -0.03228202\n",
            "  0.02327092  0.00295267 -0.02351361 -0.02224538  0.01869566 -0.00806634\n",
            " -0.02827051 -0.02651784  0.04003698  0.00878134 -0.04475364 -0.02282128\n",
            "  0.05153042 -0.02890697  0.01360433  0.01428692  0.05672063 -0.00338753\n",
            " -0.03063969  0.06678092  0.05281631  0.0311824 ]\n"
          ]
        }
      ]
    },
    {
      "cell_type": "code",
      "source": [
        "embedding_layer = Embedding(num_words, EMBEDDING_SIZE, weights=[embedding_matrix], input_length=max_input_len)"
      ],
      "metadata": {
        "id": "QnKuR8UhTw4z"
      },
      "execution_count": null,
      "outputs": []
    },
    {
      "cell_type": "code",
      "source": [
        "decoder_targets_one_hot = np.zeros((\n",
        "        len(input_sentences),\n",
        "        max_out_len,\n",
        "        num_words_output\n",
        "    ),\n",
        "    dtype='float32'\n",
        ")"
      ],
      "metadata": {
        "id": "LbQDJTatjhXW"
      },
      "execution_count": null,
      "outputs": []
    },
    {
      "cell_type": "code",
      "source": [
        "decoder_targets_one_hot.shape"
      ],
      "metadata": {
        "id": "FFznE7dUUBRf",
        "colab": {
          "base_uri": "https://localhost:8080/"
        },
        "outputId": "aa266b27-c35c-401e-dd03-6be4601b26f6"
      },
      "execution_count": null,
      "outputs": [
        {
          "output_type": "execute_result",
          "data": {
            "text/plain": [
              "(20000, 12, 7923)"
            ]
          },
          "metadata": {},
          "execution_count": 22
        }
      ]
    },
    {
      "cell_type": "code",
      "source": [
        "for i, d in enumerate(decoder_output_sequences):\n",
        "    for t, word in enumerate(d):\n",
        "        decoder_targets_one_hot[i, t, word] = 1"
      ],
      "metadata": {
        "id": "3j1WVEmBUFUf"
      },
      "execution_count": null,
      "outputs": []
    },
    {
      "cell_type": "markdown",
      "source": [
        "##  **LSTM**"
      ],
      "metadata": {
        "id": "okyN7ZuqjOqQ"
      }
    },
    {
      "cell_type": "code",
      "source": [
        "encoder_inputs_placeholder = Input(shape=(max_input_len,))\n",
        "x = embedding_layer(encoder_inputs_placeholder)\n",
        "encoder = LSTM(LSTM_NODES, return_state=True)\n",
        "\n",
        "encoder_outputs, h, c = encoder(x)\n",
        "encoder_states = [h, c]"
      ],
      "metadata": {
        "id": "iAMqJBwgj086"
      },
      "execution_count": null,
      "outputs": []
    },
    {
      "cell_type": "code",
      "source": [
        "decoder_inputs_placeholder = Input(shape=(max_out_len,))\n",
        "\n",
        "decoder_embedding = Embedding(num_words_output, LSTM_NODES)\n",
        "decoder_inputs_x = decoder_embedding(decoder_inputs_placeholder)\n",
        "\n",
        "decoder_lstm = LSTM(LSTM_NODES, return_sequences=True, return_state=True)\n",
        "decoder_outputs, _, _ = decoder_lstm(decoder_inputs_x, initial_state=encoder_states)"
      ],
      "metadata": {
        "id": "lrji91Ak1ET1"
      },
      "execution_count": null,
      "outputs": []
    },
    {
      "cell_type": "code",
      "source": [
        "decoder_dense = Dense(num_words_output, activation='softmax')\n",
        "decoder_outputs = decoder_dense(decoder_outputs)"
      ],
      "metadata": {
        "id": "J0KVo26t1E7s"
      },
      "execution_count": null,
      "outputs": []
    },
    {
      "cell_type": "code",
      "source": [
        "model = Model([encoder_inputs_placeholder,\n",
        "  decoder_inputs_placeholder], decoder_outputs)\n",
        "model.compile(\n",
        "    optimizer='adam',   #rmsprop\n",
        "    loss='categorical_crossentropy',\n",
        "    metrics=['accuracy']\n",
        ")"
      ],
      "metadata": {
        "id": "HPe7Ahsl4mSe"
      },
      "execution_count": null,
      "outputs": []
    },
    {
      "cell_type": "code",
      "source": [
        "from keras.utils import plot_model\n",
        "plot_model(model, to_file='model_plot4a.png', show_shapes=True, show_layer_names=True)"
      ],
      "metadata": {
        "colab": {
          "base_uri": "https://localhost:8080/",
          "height": 533
        },
        "id": "2A6739Yi4osk",
        "outputId": "5584ea7e-dfaf-49c9-9b5a-cb8ba076cb4e"
      },
      "execution_count": null,
      "outputs": [
        {
          "output_type": "execute_result",
          "data": {
            "image/png": "[encoded data removed]",
            "text/plain": [
              "<IPython.core.display.Image object>"
            ]
          },
          "metadata": {},
          "execution_count": 28
        }
      ]
    },
    {
      "cell_type": "code",
      "source": [
        "from keras.callbacks import ModelCheckpoint\n",
        "filepath = '/content/drive/MyDrive/deep_learning_hws/HWs/4/P1/my_best_lstm_model.epoch{epoch:02d}-loss{val_loss:.2f}.hdf5'\n",
        "checkpoint = ModelCheckpoint(filepath, monitor=\"val_loss\", mode=\"min\",\n",
        "\tsave_best_only=True, verbose=1)\n",
        "callbacks = [checkpoint]"
      ],
      "metadata": {
        "id": "ln_98YNHb6qB"
      },
      "execution_count": null,
      "outputs": []
    },
    {
      "cell_type": "code",
      "source": [
        "r = model.fit(\n",
        "    [encoder_input_sequences, decoder_input_sequences],\n",
        "    decoder_targets_one_hot,\n",
        "    batch_size=BATCH_SIZE,\n",
        "    epochs=EPOCHS,\n",
        "    validation_split=0.1,\n",
        "    callbacks=callbacks,\n",
        "    verbose=2\n",
        ")"
      ],
      "metadata": {
        "colab": {
          "base_uri": "https://localhost:8080/"
        },
        "id": "zT9IW1Zi4rm4",
        "outputId": "960673de-8c3a-4724-b183-1e0e9b06376f"
      },
      "execution_count": null,
      "outputs": [
        {
          "output_type": "stream",
          "name": "stdout",
          "text": [
            "Epoch 1/20\n",
            "\n",
            "Epoch 1: val_loss improved from inf to 3.04285, saving model to /content/drive/MyDrive/deep_learning_hws/HWs/4/P1/my_best_lstm_model.epoch01-loss3.04.hdf5\n",
            "2250/2250 - 27s - loss: 3.3156 - accuracy: 0.5450 - val_loss: 3.0429 - val_accuracy: 0.5714 - 27s/epoch - 12ms/step\n",
            "Epoch 2/20\n",
            "\n",
            "Epoch 2: val_loss improved from 3.04285 to 2.89997, saving model to /content/drive/MyDrive/deep_learning_hws/HWs/4/P1/my_best_lstm_model.epoch02-loss2.90.hdf5\n",
            "2250/2250 - 17s - loss: 2.9062 - accuracy: 0.5646 - val_loss: 2.9000 - val_accuracy: 0.5844 - 17s/epoch - 8ms/step\n",
            "Epoch 3/20\n",
            "\n",
            "Epoch 3: val_loss improved from 2.89997 to 2.83622, saving model to /content/drive/MyDrive/deep_learning_hws/HWs/4/P1/my_best_lstm_model.epoch03-loss2.84.hdf5\n",
            "2250/2250 - 17s - loss: 2.6674 - accuracy: 0.5794 - val_loss: 2.8362 - val_accuracy: 0.5899 - 17s/epoch - 8ms/step\n",
            "Epoch 4/20\n",
            "\n",
            "Epoch 4: val_loss improved from 2.83622 to 2.80707, saving model to /content/drive/MyDrive/deep_learning_hws/HWs/4/P1/my_best_lstm_model.epoch04-loss2.81.hdf5\n",
            "2250/2250 - 17s - loss: 2.4609 - accuracy: 0.5930 - val_loss: 2.8071 - val_accuracy: 0.5958 - 17s/epoch - 8ms/step\n",
            "Epoch 5/20\n",
            "\n",
            "Epoch 5: val_loss improved from 2.80707 to 2.80556, saving model to /content/drive/MyDrive/deep_learning_hws/HWs/4/P1/my_best_lstm_model.epoch05-loss2.81.hdf5\n",
            "2250/2250 - 17s - loss: 2.2733 - accuracy: 0.6065 - val_loss: 2.8056 - val_accuracy: 0.6002 - 17s/epoch - 8ms/step\n",
            "Epoch 6/20\n",
            "\n",
            "Epoch 6: val_loss did not improve from 2.80556\n",
            "2250/2250 - 17s - loss: 2.1011 - accuracy: 0.6211 - val_loss: 2.8463 - val_accuracy: 0.6022 - 17s/epoch - 8ms/step\n",
            "Epoch 7/20\n",
            "\n",
            "Epoch 7: val_loss did not improve from 2.80556\n",
            "2250/2250 - 17s - loss: 1.9433 - accuracy: 0.6393 - val_loss: 2.9028 - val_accuracy: 0.6027 - 17s/epoch - 8ms/step\n",
            "Epoch 8/20\n",
            "\n",
            "Epoch 8: val_loss did not improve from 2.80556\n",
            "2250/2250 - 17s - loss: 1.8037 - accuracy: 0.6593 - val_loss: 2.9669 - val_accuracy: 0.6028 - 17s/epoch - 8ms/step\n",
            "Epoch 9/20\n",
            "\n",
            "Epoch 9: val_loss did not improve from 2.80556\n",
            "2250/2250 - 17s - loss: 1.6812 - accuracy: 0.6788 - val_loss: 3.0278 - val_accuracy: 0.6030 - 17s/epoch - 8ms/step\n",
            "Epoch 10/20\n",
            "\n",
            "Epoch 10: val_loss did not improve from 2.80556\n",
            "2250/2250 - 17s - loss: 1.5752 - accuracy: 0.6975 - val_loss: 3.0956 - val_accuracy: 0.6043 - 17s/epoch - 8ms/step\n",
            "Epoch 11/20\n",
            "\n",
            "Epoch 11: val_loss did not improve from 2.80556\n",
            "2250/2250 - 17s - loss: 1.4832 - accuracy: 0.7138 - val_loss: 3.1762 - val_accuracy: 0.6040 - 17s/epoch - 8ms/step\n",
            "Epoch 12/20\n",
            "\n",
            "Epoch 12: val_loss did not improve from 2.80556\n",
            "2250/2250 - 17s - loss: 1.4025 - accuracy: 0.7291 - val_loss: 3.2443 - val_accuracy: 0.6012 - 17s/epoch - 8ms/step\n",
            "Epoch 13/20\n",
            "\n",
            "Epoch 13: val_loss did not improve from 2.80556\n",
            "2250/2250 - 17s - loss: 1.3315 - accuracy: 0.7419 - val_loss: 3.2987 - val_accuracy: 0.6032 - 17s/epoch - 8ms/step\n",
            "Epoch 14/20\n",
            "\n",
            "Epoch 14: val_loss did not improve from 2.80556\n",
            "2250/2250 - 17s - loss: 1.2686 - accuracy: 0.7529 - val_loss: 3.3663 - val_accuracy: 0.6033 - 17s/epoch - 8ms/step\n",
            "Epoch 15/20\n",
            "\n",
            "Epoch 15: val_loss did not improve from 2.80556\n",
            "2250/2250 - 17s - loss: 1.2132 - accuracy: 0.7643 - val_loss: 3.4334 - val_accuracy: 0.6033 - 17s/epoch - 8ms/step\n",
            "Epoch 16/20\n",
            "\n",
            "Epoch 16: val_loss did not improve from 2.80556\n",
            "2250/2250 - 17s - loss: 1.1639 - accuracy: 0.7737 - val_loss: 3.4945 - val_accuracy: 0.6005 - 17s/epoch - 8ms/step\n",
            "Epoch 17/20\n",
            "\n",
            "Epoch 17: val_loss did not improve from 2.80556\n",
            "2250/2250 - 17s - loss: 1.1210 - accuracy: 0.7812 - val_loss: 3.5661 - val_accuracy: 0.6017 - 17s/epoch - 8ms/step\n",
            "Epoch 18/20\n",
            "\n",
            "Epoch 18: val_loss did not improve from 2.80556\n",
            "2250/2250 - 17s - loss: 1.0812 - accuracy: 0.7883 - val_loss: 3.6307 - val_accuracy: 0.5994 - 17s/epoch - 8ms/step\n",
            "Epoch 19/20\n",
            "\n",
            "Epoch 19: val_loss did not improve from 2.80556\n",
            "2250/2250 - 17s - loss: 1.0463 - accuracy: 0.7950 - val_loss: 3.6842 - val_accuracy: 0.6005 - 17s/epoch - 8ms/step\n",
            "Epoch 20/20\n",
            "\n",
            "Epoch 20: val_loss did not improve from 2.80556\n",
            "2250/2250 - 17s - loss: 1.0145 - accuracy: 0.8010 - val_loss: 3.7507 - val_accuracy: 0.5989 - 17s/epoch - 8ms/step\n"
          ]
        }
      ]
    },
    {
      "cell_type": "markdown",
      "source": [
        "#### plot losse and accuracy"
      ],
      "metadata": {
        "id": "sur7WjtAc3U2"
      }
    },
    {
      "cell_type": "code",
      "source": [
        "print(r.history.keys())\n",
        "# summarize history for accuracy\n",
        "plt.plot(r.history['accuracy'])\n",
        "plt.plot(r.history['val_accuracy'])\n",
        "plt.title('model accuracy')\n",
        "plt.ylabel('accuracy')\n",
        "plt.xlabel('epoch')\n",
        "plt.legend(['train', 'test'], loc='upper left')\n",
        "plt.show()\n",
        "# summarize history for loss\n",
        "plt.plot(r.history['loss'])\n",
        "plt.plot(r.history['val_loss'])\n",
        "plt.title('model loss')\n",
        "plt.ylabel('loss')\n",
        "plt.xlabel('epoch')\n",
        "plt.legend(['train', 'test'], loc='upper left')\n",
        "plt.show()"
      ],
      "metadata": {
        "colab": {
          "base_uri": "https://localhost:8080/",
          "height": 590
        },
        "outputId": "33a130fd-1ffa-4d0b-cc09-acce2ef1840e",
        "id": "_TxCobrIc3U3"
      },
      "execution_count": null,
      "outputs": [
        {
          "output_type": "stream",
          "name": "stdout",
          "text": [
            "dict_keys(['loss', 'accuracy', 'val_loss', 'val_accuracy'])\n"
          ]
        },
        {
          "output_type": "display_data",
          "data": {
            "text/plain": [
              "<Figure size 432x288 with 1 Axes>"
            ],
            "image/png": "[encoded data removed]"
          },
          "metadata": {
            "needs_background": "light"
          }
        },
        {
          "output_type": "display_data",
          "data": {
            "text/plain": [
              "<Figure size 432x288 with 1 Axes>"
            ],
            "image/png": "[encoded data removed]"
          },
          "metadata": {
            "needs_background": "light"
          }
        }
      ]
    },
    {
      "cell_type": "markdown",
      "source": [
        "### Prediction"
      ],
      "metadata": {
        "id": "1VDxjqHjW8YH"
      }
    },
    {
      "cell_type": "code",
      "source": [
        "encoder_model = Model(encoder_inputs_placeholder, encoder_states)"
      ],
      "metadata": {
        "id": "uPmTE92Z5kMJ"
      },
      "execution_count": null,
      "outputs": []
    },
    {
      "cell_type": "code",
      "source": [
        "decoder_state_input_h = Input(shape=(LSTM_NODES,))\n",
        "decoder_state_input_c = Input(shape=(LSTM_NODES,))\n",
        "decoder_states_inputs = [decoder_state_input_h, decoder_state_input_c]"
      ],
      "metadata": {
        "id": "AtckdFoM5nlB"
      },
      "execution_count": null,
      "outputs": []
    },
    {
      "cell_type": "code",
      "source": [
        "decoder_inputs_single = Input(shape=(1,))\n",
        "decoder_inputs_single_x = decoder_embedding(decoder_inputs_single)"
      ],
      "metadata": {
        "id": "mUlmb17s5pu-"
      },
      "execution_count": null,
      "outputs": []
    },
    {
      "cell_type": "code",
      "source": [
        "decoder_outputs, h, c = decoder_lstm(decoder_inputs_single_x, initial_state=decoder_states_inputs)"
      ],
      "metadata": {
        "id": "Tpjxiues5sVB"
      },
      "execution_count": null,
      "outputs": []
    },
    {
      "cell_type": "code",
      "source": [
        "decoder_states = [h, c]\n",
        "decoder_outputs = decoder_dense(decoder_outputs)"
      ],
      "metadata": {
        "id": "6pQfvGQT5uYw"
      },
      "execution_count": null,
      "outputs": []
    },
    {
      "cell_type": "code",
      "source": [
        "decoder_model = Model(\n",
        "    [decoder_inputs_single] + decoder_states_inputs,\n",
        "    [decoder_outputs] + decoder_states\n",
        ")"
      ],
      "metadata": {
        "id": "sht4Rrp95wgG"
      },
      "execution_count": null,
      "outputs": []
    },
    {
      "cell_type": "code",
      "source": [
        "from keras.utils import plot_model\n",
        "plot_model(decoder_model, to_file='model_plot_dec.png', show_shapes=True, show_layer_names=True)"
      ],
      "metadata": {
        "colab": {
          "base_uri": "https://localhost:8080/",
          "height": 422
        },
        "id": "o5z0_GXA5zFo",
        "outputId": "d7bf0c74-c8d8-4699-b5e6-0ef665fa8b4f"
      },
      "execution_count": null,
      "outputs": [
        {
          "output_type": "execute_result",
          "data": {
            "image/png": "[encoded data removed]",
            "text/plain": [
              "<IPython.core.display.Image object>"
            ]
          },
          "metadata": {},
          "execution_count": 42
        }
      ]
    },
    {
      "cell_type": "code",
      "source": [
        "idx2word_input = {v:k for k, v in word2idx_inputs.items()}\n",
        "idx2word_target = {v:k for k, v in word2idx_outputs.items()}"
      ],
      "metadata": {
        "id": "xQyoH4B_51us"
      },
      "execution_count": null,
      "outputs": []
    },
    {
      "cell_type": "code",
      "source": [
        "def translate_sentence(input_seq):\n",
        "    states_value = encoder_model.predict(input_seq)\n",
        "    target_seq = np.zeros((1, 1))\n",
        "    target_seq[0, 0] = word2idx_outputs['<sos>']\n",
        "    eos = word2idx_outputs['<eos>']\n",
        "    output_sentence = []\n",
        "\n",
        "    for _ in range(max_out_len):\n",
        "        output_tokens, h, c = decoder_model.predict([target_seq] + states_value)\n",
        "        idx = np.argmax(output_tokens[0, 0, :])\n",
        "\n",
        "        if eos == idx:\n",
        "            break\n",
        "\n",
        "        word = ''\n",
        "\n",
        "        if idx > 0:\n",
        "            word = idx2word_target[idx]\n",
        "            output_sentence.append(word)\n",
        "\n",
        "        target_seq[0, 0] = idx\n",
        "        states_value = [h, c]\n",
        "\n",
        "    return ' '.join(output_sentence)"
      ],
      "metadata": {
        "id": "yryq7kHm57qC"
      },
      "execution_count": null,
      "outputs": []
    },
    {
      "cell_type": "code",
      "source": [
        "i = np.random.choice(len(input_sentences))\n",
        "input_seq = encoder_input_sequences[i:i+1]\n",
        "translation = translate_sentence(input_seq)\n",
        "print('-')\n",
        "print('Input:', input_sentences[i])\n",
        "print('Response:', translation)"
      ],
      "metadata": {
        "colab": {
          "base_uri": "https://localhost:8080/"
        },
        "id": "tIzord775-0g",
        "outputId": "d658c482-f034-4671-e045-7059cd9d74d0"
      },
      "execution_count": null,
      "outputs": [
        {
          "output_type": "stream",
          "name": "stdout",
          "text": [
            "1/1 [==============================] - 0s 336ms/step\n",
            "1/1 [==============================] - 0s 328ms/step\n",
            "1/1 [==============================] - 0s 15ms/step\n",
            "1/1 [==============================] - 0s 15ms/step\n",
            "1/1 [==============================] - 0s 14ms/step\n",
            "1/1 [==============================] - 0s 14ms/step\n",
            "1/1 [==============================] - 0s 15ms/step\n",
            "1/1 [==============================] - 0s 14ms/step\n",
            "1/1 [==============================] - 0s 15ms/step\n",
            "-\n",
            "Input: بپیش سپه بود پولادوند\n",
            "Response: که با لشکر آیند چون چند جست\n"
          ]
        }
      ]
    },
    {
      "cell_type": "markdown",
      "source": [
        "##  **GRU**"
      ],
      "metadata": {
        "id": "nROxhPocgY7Q"
      }
    },
    {
      "cell_type": "code",
      "source": [
        "encoder_inputs_placeholder = Input(shape=(max_input_len,))\n",
        "x = embedding_layer(encoder_inputs_placeholder)\n",
        "# encoder = LSTM(LSTM_NODES, return_state=True)\n",
        "encoder = GRU(LSTM_NODES, return_state=True)\n",
        "\n",
        "encoder_outputs, h = encoder(x)\n",
        "encoder_states = h"
      ],
      "metadata": {
        "id": "rksfknSXZHpB"
      },
      "execution_count": null,
      "outputs": []
    },
    {
      "cell_type": "code",
      "source": [
        "decoder_inputs_placeholder = Input(shape=(max_out_len,))\n",
        "\n",
        "decoder_embedding = Embedding(num_words_output, LSTM_NODES)\n",
        "decoder_inputs_x = decoder_embedding(decoder_inputs_placeholder)\n",
        "\n",
        "decoder_gru = GRU(LSTM_NODES, return_sequences=True, return_state=True)\n",
        "decoder_outputs, _ = decoder_gru(decoder_inputs_x, initial_state=encoder_states)"
      ],
      "metadata": {
        "id": "TRf1-4tKZeT7"
      },
      "execution_count": null,
      "outputs": []
    },
    {
      "cell_type": "code",
      "source": [
        "decoder_dense = Dense(num_words_output, activation='softmax')\n",
        "decoder_outputs = decoder_dense(decoder_outputs)"
      ],
      "metadata": {
        "id": "yQyjK_xMZX3M"
      },
      "execution_count": null,
      "outputs": []
    },
    {
      "cell_type": "code",
      "source": [
        "model = Model([encoder_inputs_placeholder,\n",
        "  decoder_inputs_placeholder], decoder_outputs)\n",
        "model.compile(\n",
        "    optimizer='adam',   #rmsprop\n",
        "    loss='categorical_crossentropy',\n",
        "    metrics=['accuracy']\n",
        ")"
      ],
      "metadata": {
        "id": "O6JV4yvxZ4IT"
      },
      "execution_count": null,
      "outputs": []
    },
    {
      "cell_type": "code",
      "source": [
        "from keras.utils import plot_model\n",
        "plot_model(model, to_file='model_plot4b.png', show_shapes=True, show_layer_names=True)"
      ],
      "metadata": {
        "colab": {
          "base_uri": "https://localhost:8080/",
          "height": 533
        },
        "id": "D9ok5TU6ZeNI",
        "outputId": "d7054e5b-5e61-4d29-87b1-083a88fb7646"
      },
      "execution_count": null,
      "outputs": [
        {
          "output_type": "execute_result",
          "data": {
            "image/png": "[encoded data removed]",
            "text/plain": [
              "<IPython.core.display.Image object>"
            ]
          },
          "metadata": {},
          "execution_count": 28
        }
      ]
    },
    {
      "cell_type": "code",
      "source": [
        "from keras.callbacks import ModelCheckpoint\n",
        "filepath = '/content/drive/MyDrive/deep_learning_hws/HWs/4/P1/my_best_gru_model.epoch{epoch:02d}-loss{val_loss:.2f}.hdf5'\n",
        "checkpoint = ModelCheckpoint(filepath, monitor=\"val_loss\", mode=\"min\",\n",
        "\tsave_best_only=True, verbose=1)\n",
        "callbacks = [checkpoint]"
      ],
      "metadata": {
        "id": "91Jft0H1iXKa"
      },
      "execution_count": null,
      "outputs": []
    },
    {
      "cell_type": "code",
      "source": [
        "g = model.fit(\n",
        "    [encoder_input_sequences, decoder_input_sequences],\n",
        "    decoder_targets_one_hot,\n",
        "    batch_size=BATCH_SIZE,\n",
        "    epochs=EPOCHS,\n",
        "    validation_split=0.1,\n",
        "    callbacks=callbacks,\n",
        "    verbose=2\n",
        ")"
      ],
      "metadata": {
        "colab": {
          "base_uri": "https://localhost:8080/"
        },
        "id": "X7R-gESQaXax",
        "outputId": "727ea4e4-f6d1-4a01-eda7-cd9fe0815186"
      },
      "execution_count": null,
      "outputs": [
        {
          "output_type": "stream",
          "name": "stdout",
          "text": [
            "Epoch 1/20\n",
            "\n",
            "Epoch 1: val_loss improved from inf to 2.94004, saving model to /content/drive/MyDrive/deep_learning_hws/HWs/4/P1/my_best_gru_model.epoch01-loss2.94.hdf5\n",
            "2250/2250 - 27s - loss: 3.2834 - accuracy: 0.5466 - val_loss: 2.9400 - val_accuracy: 0.5817 - 27s/epoch - 12ms/step\n",
            "Epoch 2/20\n",
            "\n",
            "Epoch 2: val_loss improved from 2.94004 to 2.64385, saving model to /content/drive/MyDrive/deep_learning_hws/HWs/4/P1/my_best_gru_model.epoch02-loss2.64.hdf5\n",
            "2250/2250 - 17s - loss: 2.6726 - accuracy: 0.5880 - val_loss: 2.6438 - val_accuracy: 0.6060 - 17s/epoch - 8ms/step\n",
            "Epoch 3/20\n",
            "\n",
            "Epoch 3: val_loss improved from 2.64385 to 2.55709, saving model to /content/drive/MyDrive/deep_learning_hws/HWs/4/P1/my_best_gru_model.epoch03-loss2.56.hdf5\n",
            "2250/2250 - 17s - loss: 2.2409 - accuracy: 0.6239 - val_loss: 2.5571 - val_accuracy: 0.6201 - 17s/epoch - 8ms/step\n",
            "Epoch 4/20\n",
            "\n",
            "Epoch 4: val_loss did not improve from 2.55709\n",
            "2250/2250 - 17s - loss: 1.9032 - accuracy: 0.6551 - val_loss: 2.5595 - val_accuracy: 0.6267 - 17s/epoch - 7ms/step\n",
            "Epoch 5/20\n",
            "\n",
            "Epoch 5: val_loss did not improve from 2.55709\n",
            "2250/2250 - 17s - loss: 1.6049 - accuracy: 0.6913 - val_loss: 2.6230 - val_accuracy: 0.6261 - 17s/epoch - 7ms/step\n",
            "Epoch 6/20\n",
            "\n",
            "Epoch 6: val_loss did not improve from 2.55709\n",
            "2250/2250 - 17s - loss: 1.3387 - accuracy: 0.7313 - val_loss: 2.7021 - val_accuracy: 0.6263 - 17s/epoch - 7ms/step\n",
            "Epoch 7/20\n",
            "\n",
            "Epoch 7: val_loss did not improve from 2.55709\n",
            "2250/2250 - 17s - loss: 1.1101 - accuracy: 0.7697 - val_loss: 2.8063 - val_accuracy: 0.6220 - 17s/epoch - 7ms/step\n",
            "Epoch 8/20\n",
            "\n",
            "Epoch 8: val_loss did not improve from 2.55709\n",
            "2250/2250 - 17s - loss: 0.9142 - accuracy: 0.8066 - val_loss: 2.9108 - val_accuracy: 0.6207 - 17s/epoch - 7ms/step\n",
            "Epoch 9/20\n",
            "\n",
            "Epoch 9: val_loss did not improve from 2.55709\n",
            "2250/2250 - 17s - loss: 0.7444 - accuracy: 0.8392 - val_loss: 3.0400 - val_accuracy: 0.6186 - 17s/epoch - 7ms/step\n",
            "Epoch 10/20\n",
            "\n",
            "Epoch 10: val_loss did not improve from 2.55709\n",
            "2250/2250 - 17s - loss: 0.6010 - accuracy: 0.8693 - val_loss: 3.1544 - val_accuracy: 0.6168 - 17s/epoch - 7ms/step\n",
            "Epoch 11/20\n",
            "\n",
            "Epoch 11: val_loss did not improve from 2.55709\n",
            "2250/2250 - 17s - loss: 0.4829 - accuracy: 0.8944 - val_loss: 3.2903 - val_accuracy: 0.6157 - 17s/epoch - 7ms/step\n",
            "Epoch 12/20\n",
            "\n",
            "Epoch 12: val_loss did not improve from 2.55709\n",
            "2250/2250 - 17s - loss: 0.3852 - accuracy: 0.9162 - val_loss: 3.4371 - val_accuracy: 0.6123 - 17s/epoch - 7ms/step\n",
            "Epoch 13/20\n",
            "\n",
            "Epoch 13: val_loss did not improve from 2.55709\n",
            "2250/2250 - 17s - loss: 0.3065 - accuracy: 0.9339 - val_loss: 3.5583 - val_accuracy: 0.6108 - 17s/epoch - 7ms/step\n",
            "Epoch 14/20\n",
            "\n",
            "Epoch 14: val_loss did not improve from 2.55709\n",
            "2250/2250 - 17s - loss: 0.2431 - accuracy: 0.9484 - val_loss: 3.6899 - val_accuracy: 0.6087 - 17s/epoch - 7ms/step\n",
            "Epoch 15/20\n",
            "\n",
            "Epoch 15: val_loss did not improve from 2.55709\n",
            "2250/2250 - 17s - loss: 0.1965 - accuracy: 0.9585 - val_loss: 3.8234 - val_accuracy: 0.6077 - 17s/epoch - 7ms/step\n",
            "Epoch 16/20\n",
            "\n",
            "Epoch 16: val_loss did not improve from 2.55709\n",
            "2250/2250 - 17s - loss: 0.1609 - accuracy: 0.9666 - val_loss: 3.9469 - val_accuracy: 0.6089 - 17s/epoch - 7ms/step\n",
            "Epoch 17/20\n",
            "\n",
            "Epoch 17: val_loss did not improve from 2.55709\n",
            "2250/2250 - 17s - loss: 0.1329 - accuracy: 0.9729 - val_loss: 4.0647 - val_accuracy: 0.6087 - 17s/epoch - 7ms/step\n",
            "Epoch 18/20\n",
            "\n",
            "Epoch 18: val_loss did not improve from 2.55709\n",
            "2250/2250 - 17s - loss: 0.1109 - accuracy: 0.9778 - val_loss: 4.1718 - val_accuracy: 0.6085 - 17s/epoch - 7ms/step\n",
            "Epoch 19/20\n",
            "\n",
            "Epoch 19: val_loss did not improve from 2.55709\n",
            "2250/2250 - 17s - loss: 0.0936 - accuracy: 0.9814 - val_loss: 4.3054 - val_accuracy: 0.6074 - 17s/epoch - 7ms/step\n",
            "Epoch 20/20\n",
            "\n",
            "Epoch 20: val_loss did not improve from 2.55709\n",
            "2250/2250 - 17s - loss: 0.0876 - accuracy: 0.9820 - val_loss: 4.3930 - val_accuracy: 0.6065 - 17s/epoch - 7ms/step\n"
          ]
        }
      ]
    },
    {
      "cell_type": "markdown",
      "source": [
        "#### plot losse and accuracy"
      ],
      "metadata": {
        "id": "UvItu9EvbXXs"
      }
    },
    {
      "cell_type": "code",
      "source": [
        "print(g.history.keys())\n",
        "# summarize history for accuracy\n",
        "plt.plot(g.history['accuracy'])\n",
        "plt.plot(g.history['val_accuracy'])\n",
        "plt.title('model accuracy')\n",
        "plt.ylabel('accuracy')\n",
        "plt.xlabel('epoch')\n",
        "plt.legend(['train', 'test'], loc='upper left')\n",
        "plt.show()\n",
        "# summarize history for loss\n",
        "plt.plot(g.history['loss'])\n",
        "plt.plot(g.history['val_loss'])\n",
        "plt.title('model loss')\n",
        "plt.ylabel('loss')\n",
        "plt.xlabel('epoch')\n",
        "plt.legend(['train', 'test'], loc='upper left')\n",
        "plt.show()"
      ],
      "metadata": {
        "colab": {
          "base_uri": "https://localhost:8080/",
          "height": 590
        },
        "id": "3VJUEi_1aewZ",
        "outputId": "09fd2b0a-524a-4466-c024-0b8788c95630"
      },
      "execution_count": null,
      "outputs": [
        {
          "output_type": "stream",
          "name": "stdout",
          "text": [
            "dict_keys(['loss', 'accuracy', 'val_loss', 'val_accuracy'])\n"
          ]
        },
        {
          "output_type": "display_data",
          "data": {
            "text/plain": [
              "<Figure size 432x288 with 1 Axes>"
            ],
            "image/png": "[encoded data removed]"
          },
          "metadata": {
            "needs_background": "light"
          }
        },
        {
          "output_type": "display_data",
          "data": {
            "text/plain": [
              "<Figure size 432x288 with 1 Axes>"
            ],
            "image/png": "[encoded data removed]"
          },
          "metadata": {
            "needs_background": "light"
          }
        }
      ]
    },
    {
      "cell_type": "markdown",
      "source": [
        "### Prediction"
      ],
      "metadata": {
        "id": "LSrmpBkNc8-7"
      }
    },
    {
      "cell_type": "code",
      "source": [
        "encoder_model = Model(encoder_inputs_placeholder, encoder_states)"
      ],
      "metadata": {
        "id": "oUQyGIQWxd4p"
      },
      "execution_count": null,
      "outputs": []
    },
    {
      "cell_type": "code",
      "source": [
        "decoder_state_input_h = Input(shape=(LSTM_NODES,))\n",
        "decoder_states_inputs = [decoder_state_input_h]"
      ],
      "metadata": {
        "id": "N9K39wkixd4q"
      },
      "execution_count": null,
      "outputs": []
    },
    {
      "cell_type": "code",
      "source": [
        "decoder_inputs_single = Input(shape=(1,))\n",
        "decoder_inputs_single_x = decoder_embedding(decoder_inputs_single)"
      ],
      "metadata": {
        "id": "mXmuHge-xd4q"
      },
      "execution_count": null,
      "outputs": []
    },
    {
      "cell_type": "code",
      "source": [
        "decoder_outputs, h = decoder_gru(decoder_inputs_single_x, initial_state=decoder_states_inputs)"
      ],
      "metadata": {
        "id": "rFS_p589xd4q"
      },
      "execution_count": null,
      "outputs": []
    },
    {
      "cell_type": "code",
      "source": [
        "decoder_states = [h]\n",
        "decoder_outputs = decoder_dense(decoder_outputs)"
      ],
      "metadata": {
        "id": "hmbRtTGSxd4q"
      },
      "execution_count": null,
      "outputs": []
    },
    {
      "cell_type": "code",
      "source": [
        "decoder_model = Model(\n",
        "    [decoder_inputs_single] + decoder_states_inputs,\n",
        "    [decoder_outputs] + decoder_states\n",
        ")"
      ],
      "metadata": {
        "id": "pEGAz8_sxd4q"
      },
      "execution_count": null,
      "outputs": []
    },
    {
      "cell_type": "code",
      "source": [
        "from keras.utils import plot_model\n",
        "plot_model(decoder_model, to_file='model_plot_gru_dec.png', show_shapes=True, show_layer_names=True)"
      ],
      "metadata": {
        "colab": {
          "base_uri": "https://localhost:8080/",
          "height": 422
        },
        "outputId": "b8ff2cf3-dc01-40d2-edbd-485f4389fc51",
        "id": "ud06LIMFxd4q"
      },
      "execution_count": null,
      "outputs": [
        {
          "output_type": "execute_result",
          "data": {
            "image/png": "[encoded data removed]",
            "text/plain": [
              "<IPython.core.display.Image object>"
            ]
          },
          "metadata": {},
          "execution_count": 74
        }
      ]
    },
    {
      "cell_type": "code",
      "source": [
        "idx2word_input = {v:k for k, v in word2idx_inputs.items()}\n",
        "idx2word_target = {v:k for k, v in word2idx_outputs.items()}"
      ],
      "metadata": {
        "id": "rhlbBIrRxd4r"
      },
      "execution_count": null,
      "outputs": []
    },
    {
      "cell_type": "code",
      "source": [
        "def translate_sentence(input_seq):\n",
        "    states_value = encoder_model.predict(input_seq)\n",
        "    target_seq = np.zeros((1, 1))\n",
        "    target_seq[0, 0] = word2idx_outputs['<sos>']\n",
        "    eos = word2idx_outputs['<eos>']\n",
        "    output_sentence = []\n",
        "\n",
        "    for _ in range(max_out_len):\n",
        "        output_tokens, h = decoder_model.predict([target_seq] + states_value)\n",
        "        idx = np.argmax(output_tokens[0, 0, :])\n",
        "\n",
        "        if eos == idx:\n",
        "            break\n",
        "\n",
        "        word = ''\n",
        "\n",
        "        if idx > 0:\n",
        "            word = idx2word_target[idx]\n",
        "            output_sentence.append(word)\n",
        "\n",
        "        target_seq[0, 0] = idx\n",
        "        states_value = [h]\n",
        "\n",
        "    return ' '.join(output_sentence)"
      ],
      "metadata": {
        "id": "uu0l5kvFxd4r"
      },
      "execution_count": null,
      "outputs": []
    },
    {
      "cell_type": "code",
      "source": [
        "i = np.random.choice(len(input_sentences))\n",
        "input_seq = encoder_input_sequences[i:i+1]\n",
        "translation = translate_sentence(input_seq)\n",
        "print('-')\n",
        "print('Input:', input_sentences[i])\n",
        "print('Response:', translation)"
      ],
      "metadata": {
        "id": "Rc6Zhc7Hxd4r"
      },
      "execution_count": null,
      "outputs": []
    }
  ]
}