{
  "cells": [
    {
      "cell_type": "code",
      "execution_count": 2,
      "metadata": {
        "colab": {
          "base_uri": "https://localhost:8080/"
        },
        "id": "LziRyIIWL8K1",
        "outputId": "65860d49-ee75-495a-f278-0f7946a52ee5"
      },
      "outputs": [
        {
          "output_type": "stream",
          "name": "stdout",
          "text": [
            "fatal: destination path 'Persian_poems_corpus' already exists and is not an empty directory.\n"
          ]
        }
      ],
      "source": [
        "!git clone https://github.com/amnghd/Persian_poems_corpus.git"
      ]
    },
    {
      "cell_type": "code",
      "execution_count": 3,
      "metadata": {
        "colab": {
          "base_uri": "https://localhost:8080/"
        },
        "id": "d9jldWmawbkj",
        "outputId": "9133b1b0-2a67-4b16-c83a-ca10ad48e3b1"
      },
      "outputs": [
        {
          "output_type": "stream",
          "name": "stdout",
          "text": [
            "Looking in indexes: https://pypi.org/simple, https://us-python.pkg.dev/colab-wheels/public/simple/\n",
            "Requirement already satisfied: transformers in /usr/local/lib/python3.8/dist-packages (4.26.0)\n",
            "Requirement already satisfied: tqdm>=4.27 in /usr/local/lib/python3.8/dist-packages (from transformers) (4.64.1)\n",
            "Requirement already satisfied: numpy>=1.17 in /usr/local/lib/python3.8/dist-packages (from transformers) (1.21.6)\n",
            "Requirement already satisfied: huggingface-hub<1.0,>=0.11.0 in /usr/local/lib/python3.8/dist-packages (from transformers) (0.12.0)\n",
            "Requirement already satisfied: regex!=2019.12.17 in /usr/local/lib/python3.8/dist-packages (from transformers) (2022.6.2)\n",
            "Requirement already satisfied: requests in /usr/local/lib/python3.8/dist-packages (from transformers) (2.25.1)\n",
            "Requirement already satisfied: packaging>=20.0 in /usr/local/lib/python3.8/dist-packages (from transformers) (23.0)\n",
            "Requirement already satisfied: tokenizers!=0.11.3,<0.14,>=0.11.1 in /usr/local/lib/python3.8/dist-packages (from transformers) (0.13.2)\n",
            "Requirement already satisfied: filelock in /usr/local/lib/python3.8/dist-packages (from transformers) (3.9.0)\n",
            "Requirement already satisfied: pyyaml>=5.1 in /usr/local/lib/python3.8/dist-packages (from transformers) (6.0)\n",
            "Requirement already satisfied: typing-extensions>=3.7.4.3 in /usr/local/lib/python3.8/dist-packages (from huggingface-hub<1.0,>=0.11.0->transformers) (4.4.0)\n",
            "Requirement already satisfied: certifi>=2017.4.17 in /usr/local/lib/python3.8/dist-packages (from requests->transformers) (2022.12.7)\n",
            "Requirement already satisfied: chardet<5,>=3.0.2 in /usr/local/lib/python3.8/dist-packages (from requests->transformers) (4.0.0)\n",
            "Requirement already satisfied: idna<3,>=2.5 in /usr/local/lib/python3.8/dist-packages (from requests->transformers) (2.10)\n",
            "Requirement already satisfied: urllib3<1.27,>=1.21.1 in /usr/local/lib/python3.8/dist-packages (from requests->transformers) (1.24.3)\n"
          ]
        }
      ],
      "source": [
        "!pip install transformers"
      ]
    },
    {
      "cell_type": "code",
      "execution_count": 4,
      "metadata": {
        "id": "Aa0bZdOXtaMk"
      },
      "outputs": [],
      "source": [
        "import pandas as pd\n",
        "import numpy as np\n",
        "import csv\n",
        "import os\n",
        "import re\n",
        "import tensorflow as tf\n",
        "import tensorflow_datasets as tfds\n",
        "\n",
        "from sklearn.model_selection import train_test_split\n",
        "from transformers import BertTokenizer, BasicTokenizer\n",
        "from transformers import TFBertModel, TFBertPreTrainedModel, TFBertForSequenceClassification\n",
        "from transformers import glue_convert_examples_to_features, InputExample\n",
        "\n",
        "import transformers\n",
        "import matplotlib.pyplot as plt\n",
        "from sklearn import metrics\n",
        "import seaborn as sns"
      ]
    },
    {
      "cell_type": "code",
      "execution_count": 5,
      "metadata": {
        "id": "w3CdanxIrZKL"
      },
      "outputs": [],
      "source": [
        "normalized_path ='/content/Persian_poems_corpus/normalized/'\n",
        "my_poets = ['amir','attar', 'bahar', 'farrokhi', 'ferdousi', 'hafez','feyz',  'parvin', 'saadi',  'vahshi']\n",
        "dataset_df = pd.DataFrame(columns = ['poems', 'label' , 'counts'])\n",
        "poems=[]\n",
        "labels=[]\n",
        "len_Lines=[]\n",
        "counts=[]\n",
        "l=[]\n",
        "for i in range(len(my_poets)):\n",
        "  file1 = open(normalized_path + my_poets[i] + '_norm.txt', 'r')\n",
        "  Lines = file1.readlines()\n",
        "  c = 1\n",
        "  for Line in Lines:\n",
        "    Line = Line.strip('\\n')\n",
        "    Line = Line.strip('\\t')\n",
        "    if len(Line.split())>3:\n",
        "      poems.append(Line)\n",
        "      labels.append(str(i))\n",
        "      counts.append(c)\n",
        "      l.append(len(Line.split()))\n",
        "      c+=1\n",
        "\n",
        "dataset_df['label'] = labels\n",
        "dataset_df['poems'] = poems\n",
        "dataset_df['counts'] = counts"
      ]
    },
    {
      "cell_type": "code",
      "execution_count": 6,
      "metadata": {
        "id": "JTU82T73xF9o"
      },
      "outputs": [],
      "source": [
        "for i in range(10):\n",
        "  len_Lines.append(len(dataset_df.loc[dataset_df['label']==str(i)]))"
      ]
    },
    {
      "cell_type": "code",
      "execution_count": 7,
      "metadata": {
        "colab": {
          "base_uri": "https://localhost:8080/"
        },
        "id": "5yRwTmu1CKmV",
        "outputId": "2bd6ca58-8dc3-4ac6-f594-61d284af7338"
      },
      "outputs": [
        {
          "output_type": "execute_result",
          "data": {
            "text/plain": [
              "18"
            ]
          },
          "metadata": {},
          "execution_count": 7
        }
      ],
      "source": [
        "np.max(l)"
      ]
    },
    {
      "cell_type": "code",
      "execution_count": 8,
      "metadata": {
        "colab": {
          "base_uri": "https://localhost:8080/"
        },
        "id": "uoNl-gcB1bQ1",
        "outputId": "d7ad1a52-2021-4f30-d516-7854d927509a"
      },
      "outputs": [
        {
          "output_type": "execute_result",
          "data": {
            "text/plain": [
              "9430"
            ]
          },
          "metadata": {},
          "execution_count": 8
        }
      ],
      "source": [
        "np.min(len_Lines)"
      ]
    },
    {
      "cell_type": "code",
      "execution_count": 9,
      "metadata": {
        "colab": {
          "base_uri": "https://localhost:8080/",
          "height": 206
        },
        "id": "EdZnoPPJu4ZM",
        "outputId": "1c8060b3-4a40-42e4-9616-d681a25d6ffd"
      },
      "outputs": [
        {
          "output_type": "execute_result",
          "data": {
            "text/plain": [
              "                             poems label  counts\n",
              "0  با نصرت و فتح و ظفر و دولت والا     0       1\n",
              "1     بنگر علم شاه جهان بر سر بالا     0       2\n",
              "2   لشکر شده آسوده و ترمذ شده ایمن     0       3\n",
              "3  نصرت شده پیوسته و دولت شده والا     0       4\n",
              "4   فتح آمده و تهنیت آورده جهان را     0       5"
            ],
            "text/html": [
              "\n",
              "  <div id=\"df-319c261a-4e3e-4170-b8f8-87b60e71e083\">\n",
              "    <div class=\"colab-df-container\">\n",
              "      <div>\n",
              "<style scoped>\n",
              "    .dataframe tbody tr th:only-of-type {\n",
              "        vertical-align: middle;\n",
              "    }\n",
              "\n",
              "    .dataframe tbody tr th {\n",
              "        vertical-align: top;\n",
              "    }\n",
              "\n",
              "    .dataframe thead th {\n",
              "        text-align: right;\n",
              "    }\n",
              "</style>\n",
              "<table border=\"1\" class=\"dataframe\">\n",
              "  <thead>\n",
              "    <tr style=\"text-align: right;\">\n",
              "      <th></th>\n",
              "      <th>poems</th>\n",
              "      <th>label</th>\n",
              "      <th>counts</th>\n",
              "    </tr>\n",
              "  </thead>\n",
              "  <tbody>\n",
              "    <tr>\n",
              "      <th>0</th>\n",
              "      <td>با نصرت و فتح و ظفر و دولت والا</td>\n",
              "      <td>0</td>\n",
              "      <td>1</td>\n",
              "    </tr>\n",
              "    <tr>\n",
              "      <th>1</th>\n",
              "      <td>بنگر علم شاه جهان بر سر بالا</td>\n",
              "      <td>0</td>\n",
              "      <td>2</td>\n",
              "    </tr>\n",
              "    <tr>\n",
              "      <th>2</th>\n",
              "      <td>لشکر شده آسوده و ترمذ شده ایمن</td>\n",
              "      <td>0</td>\n",
              "      <td>3</td>\n",
              "    </tr>\n",
              "    <tr>\n",
              "      <th>3</th>\n",
              "      <td>نصرت شده پیوسته و دولت شده والا</td>\n",
              "      <td>0</td>\n",
              "      <td>4</td>\n",
              "    </tr>\n",
              "    <tr>\n",
              "      <th>4</th>\n",
              "      <td>فتح آمده و تهنیت آورده جهان را</td>\n",
              "      <td>0</td>\n",
              "      <td>5</td>\n",
              "    </tr>\n",
              "  </tbody>\n",
              "</table>\n",
              "</div>\n",
              "      <button class=\"colab-df-convert\" onclick=\"convertToInteractive('df-319c261a-4e3e-4170-b8f8-87b60e71e083')\"\n",
              "              title=\"Convert this dataframe to an interactive table.\"\n",
              "              style=\"display:none;\">\n",
              "        \n",
              "  <svg xmlns=\"http://www.w3.org/2000/svg\" height=\"24px\"viewBox=\"0 0 24 24\"\n",
              "       width=\"24px\">\n",
              "    <path d=\"M0 0h24v24H0V0z\" fill=\"none\"/>\n",
              "    <path d=\"M18.56 5.44l.94 2.06.94-2.06 2.06-.94-2.06-.94-.94-2.06-.94 2.06-2.06.94zm-11 1L8.5 8.5l.94-2.06 2.06-.94-2.06-.94L8.5 2.5l-.94 2.06-2.06.94zm10 10l.94 2.06.94-2.06 2.06-.94-2.06-.94-.94-2.06-.94 2.06-2.06.94z\"/><path d=\"M17.41 7.96l-1.37-1.37c-.4-.4-.92-.59-1.43-.59-.52 0-1.04.2-1.43.59L10.3 9.45l-7.72 7.72c-.78.78-.78 2.05 0 2.83L4 21.41c.39.39.9.59 1.41.59.51 0 1.02-.2 1.41-.59l7.78-7.78 2.81-2.81c.8-.78.8-2.07 0-2.86zM5.41 20L4 18.59l7.72-7.72 1.47 1.35L5.41 20z\"/>\n",
              "  </svg>\n",
              "      </button>\n",
              "      \n",
              "  <style>\n",
              "    .colab-df-container {\n",
              "      display:flex;\n",
              "      flex-wrap:wrap;\n",
              "      gap: 12px;\n",
              "    }\n",
              "\n",
              "    .colab-df-convert {\n",
              "      background-color: #E8F0FE;\n",
              "      border: none;\n",
              "      border-radius: 50%;\n",
              "      cursor: pointer;\n",
              "      display: none;\n",
              "      fill: #1967D2;\n",
              "      height: 32px;\n",
              "      padding: 0 0 0 0;\n",
              "      width: 32px;\n",
              "    }\n",
              "\n",
              "    .colab-df-convert:hover {\n",
              "      background-color: #E2EBFA;\n",
              "      box-shadow: 0px 1px 2px rgba(60, 64, 67, 0.3), 0px 1px 3px 1px rgba(60, 64, 67, 0.15);\n",
              "      fill: #174EA6;\n",
              "    }\n",
              "\n",
              "    [theme=dark] .colab-df-convert {\n",
              "      background-color: #3B4455;\n",
              "      fill: #D2E3FC;\n",
              "    }\n",
              "\n",
              "    [theme=dark] .colab-df-convert:hover {\n",
              "      background-color: #434B5C;\n",
              "      box-shadow: 0px 1px 3px 1px rgba(0, 0, 0, 0.15);\n",
              "      filter: drop-shadow(0px 1px 2px rgba(0, 0, 0, 0.3));\n",
              "      fill: #FFFFFF;\n",
              "    }\n",
              "  </style>\n",
              "\n",
              "      <script>\n",
              "        const buttonEl =\n",
              "          document.querySelector('#df-319c261a-4e3e-4170-b8f8-87b60e71e083 button.colab-df-convert');\n",
              "        buttonEl.style.display =\n",
              "          google.colab.kernel.accessAllowed ? 'block' : 'none';\n",
              "\n",
              "        async function convertToInteractive(key) {\n",
              "          const element = document.querySelector('#df-319c261a-4e3e-4170-b8f8-87b60e71e083');\n",
              "          const dataTable =\n",
              "            await google.colab.kernel.invokeFunction('convertToInteractive',\n",
              "                                                     [key], {});\n",
              "          if (!dataTable) return;\n",
              "\n",
              "          const docLinkHtml = 'Like what you see? Visit the ' +\n",
              "            '<a target=\"_blank\" href=https://colab.research.google.com/notebooks/data_table.ipynb>data table notebook</a>'\n",
              "            + ' to learn more about interactive tables.';\n",
              "          element.innerHTML = '';\n",
              "          dataTable['output_type'] = 'display_data';\n",
              "          await google.colab.output.renderOutput(dataTable, element);\n",
              "          const docLink = document.createElement('div');\n",
              "          docLink.innerHTML = docLinkHtml;\n",
              "          element.appendChild(docLink);\n",
              "        }\n",
              "      </script>\n",
              "    </div>\n",
              "  </div>\n",
              "  "
            ]
          },
          "metadata": {},
          "execution_count": 9
        }
      ],
      "source": [
        "dataset_df.head()"
      ]
    },
    {
      "cell_type": "code",
      "execution_count": 10,
      "metadata": {
        "colab": {
          "base_uri": "https://localhost:8080/",
          "height": 206
        },
        "id": "4J3cu8UnyTWx",
        "outputId": "bfe23347-019c-4ba4-acdf-946a8f153ad7"
      },
      "outputs": [
        {
          "output_type": "execute_result",
          "data": {
            "text/plain": [
              "   index                            poems label  counts\n",
              "0      0  با نصرت و فتح و ظفر و دولت والا     0       1\n",
              "1      1     بنگر علم شاه جهان بر سر بالا     0       2\n",
              "2      2   لشکر شده آسوده و ترمذ شده ایمن     0       3\n",
              "3      3  نصرت شده پیوسته و دولت شده والا     0       4\n",
              "4      4   فتح آمده و تهنیت آورده جهان را     0       5"
            ],
            "text/html": [
              "\n",
              "  <div id=\"df-c99d9c84-078e-4422-9dce-c47556916e40\">\n",
              "    <div class=\"colab-df-container\">\n",
              "      <div>\n",
              "<style scoped>\n",
              "    .dataframe tbody tr th:only-of-type {\n",
              "        vertical-align: middle;\n",
              "    }\n",
              "\n",
              "    .dataframe tbody tr th {\n",
              "        vertical-align: top;\n",
              "    }\n",
              "\n",
              "    .dataframe thead th {\n",
              "        text-align: right;\n",
              "    }\n",
              "</style>\n",
              "<table border=\"1\" class=\"dataframe\">\n",
              "  <thead>\n",
              "    <tr style=\"text-align: right;\">\n",
              "      <th></th>\n",
              "      <th>index</th>\n",
              "      <th>poems</th>\n",
              "      <th>label</th>\n",
              "      <th>counts</th>\n",
              "    </tr>\n",
              "  </thead>\n",
              "  <tbody>\n",
              "    <tr>\n",
              "      <th>0</th>\n",
              "      <td>0</td>\n",
              "      <td>با نصرت و فتح و ظفر و دولت والا</td>\n",
              "      <td>0</td>\n",
              "      <td>1</td>\n",
              "    </tr>\n",
              "    <tr>\n",
              "      <th>1</th>\n",
              "      <td>1</td>\n",
              "      <td>بنگر علم شاه جهان بر سر بالا</td>\n",
              "      <td>0</td>\n",
              "      <td>2</td>\n",
              "    </tr>\n",
              "    <tr>\n",
              "      <th>2</th>\n",
              "      <td>2</td>\n",
              "      <td>لشکر شده آسوده و ترمذ شده ایمن</td>\n",
              "      <td>0</td>\n",
              "      <td>3</td>\n",
              "    </tr>\n",
              "    <tr>\n",
              "      <th>3</th>\n",
              "      <td>3</td>\n",
              "      <td>نصرت شده پیوسته و دولت شده والا</td>\n",
              "      <td>0</td>\n",
              "      <td>4</td>\n",
              "    </tr>\n",
              "    <tr>\n",
              "      <th>4</th>\n",
              "      <td>4</td>\n",
              "      <td>فتح آمده و تهنیت آورده جهان را</td>\n",
              "      <td>0</td>\n",
              "      <td>5</td>\n",
              "    </tr>\n",
              "  </tbody>\n",
              "</table>\n",
              "</div>\n",
              "      <button class=\"colab-df-convert\" onclick=\"convertToInteractive('df-c99d9c84-078e-4422-9dce-c47556916e40')\"\n",
              "              title=\"Convert this dataframe to an interactive table.\"\n",
              "              style=\"display:none;\">\n",
              "        \n",
              "  <svg xmlns=\"http://www.w3.org/2000/svg\" height=\"24px\"viewBox=\"0 0 24 24\"\n",
              "       width=\"24px\">\n",
              "    <path d=\"M0 0h24v24H0V0z\" fill=\"none\"/>\n",
              "    <path d=\"M18.56 5.44l.94 2.06.94-2.06 2.06-.94-2.06-.94-.94-2.06-.94 2.06-2.06.94zm-11 1L8.5 8.5l.94-2.06 2.06-.94-2.06-.94L8.5 2.5l-.94 2.06-2.06.94zm10 10l.94 2.06.94-2.06 2.06-.94-2.06-.94-.94-2.06-.94 2.06-2.06.94z\"/><path d=\"M17.41 7.96l-1.37-1.37c-.4-.4-.92-.59-1.43-.59-.52 0-1.04.2-1.43.59L10.3 9.45l-7.72 7.72c-.78.78-.78 2.05 0 2.83L4 21.41c.39.39.9.59 1.41.59.51 0 1.02-.2 1.41-.59l7.78-7.78 2.81-2.81c.8-.78.8-2.07 0-2.86zM5.41 20L4 18.59l7.72-7.72 1.47 1.35L5.41 20z\"/>\n",
              "  </svg>\n",
              "      </button>\n",
              "      \n",
              "  <style>\n",
              "    .colab-df-container {\n",
              "      display:flex;\n",
              "      flex-wrap:wrap;\n",
              "      gap: 12px;\n",
              "    }\n",
              "\n",
              "    .colab-df-convert {\n",
              "      background-color: #E8F0FE;\n",
              "      border: none;\n",
              "      border-radius: 50%;\n",
              "      cursor: pointer;\n",
              "      display: none;\n",
              "      fill: #1967D2;\n",
              "      height: 32px;\n",
              "      padding: 0 0 0 0;\n",
              "      width: 32px;\n",
              "    }\n",
              "\n",
              "    .colab-df-convert:hover {\n",
              "      background-color: #E2EBFA;\n",
              "      box-shadow: 0px 1px 2px rgba(60, 64, 67, 0.3), 0px 1px 3px 1px rgba(60, 64, 67, 0.15);\n",
              "      fill: #174EA6;\n",
              "    }\n",
              "\n",
              "    [theme=dark] .colab-df-convert {\n",
              "      background-color: #3B4455;\n",
              "      fill: #D2E3FC;\n",
              "    }\n",
              "\n",
              "    [theme=dark] .colab-df-convert:hover {\n",
              "      background-color: #434B5C;\n",
              "      box-shadow: 0px 1px 3px 1px rgba(0, 0, 0, 0.15);\n",
              "      filter: drop-shadow(0px 1px 2px rgba(0, 0, 0, 0.3));\n",
              "      fill: #FFFFFF;\n",
              "    }\n",
              "  </style>\n",
              "\n",
              "      <script>\n",
              "        const buttonEl =\n",
              "          document.querySelector('#df-c99d9c84-078e-4422-9dce-c47556916e40 button.colab-df-convert');\n",
              "        buttonEl.style.display =\n",
              "          google.colab.kernel.accessAllowed ? 'block' : 'none';\n",
              "\n",
              "        async function convertToInteractive(key) {\n",
              "          const element = document.querySelector('#df-c99d9c84-078e-4422-9dce-c47556916e40');\n",
              "          const dataTable =\n",
              "            await google.colab.kernel.invokeFunction('convertToInteractive',\n",
              "                                                     [key], {});\n",
              "          if (!dataTable) return;\n",
              "\n",
              "          const docLinkHtml = 'Like what you see? Visit the ' +\n",
              "            '<a target=\"_blank\" href=https://colab.research.google.com/notebooks/data_table.ipynb>data table notebook</a>'\n",
              "            + ' to learn more about interactive tables.';\n",
              "          element.innerHTML = '';\n",
              "          dataTable['output_type'] = 'display_data';\n",
              "          await google.colab.output.renderOutput(dataTable, element);\n",
              "          const docLink = document.createElement('div');\n",
              "          docLink.innerHTML = docLinkHtml;\n",
              "          element.appendChild(docLink);\n",
              "        }\n",
              "      </script>\n",
              "    </div>\n",
              "  </div>\n",
              "  "
            ]
          },
          "metadata": {},
          "execution_count": 10
        }
      ],
      "source": [
        "#create balance dataset\n",
        "dataset_df_2 = dataset_df.loc[(dataset_df['counts'] <= np.min(len_Lines))]\n",
        "dataset_df_2 =dataset_df_2.reset_index()\n",
        "dataset_df_2.head()"
      ]
    },
    {
      "cell_type": "code",
      "execution_count": 11,
      "metadata": {
        "colab": {
          "base_uri": "https://localhost:8080/"
        },
        "id": "7gTTRkWNzYnP",
        "outputId": "cd0ddb02-2d21-4785-b914-091107bb25da"
      },
      "outputs": [
        {
          "output_type": "execute_result",
          "data": {
            "text/plain": [
              "94300"
            ]
          },
          "metadata": {},
          "execution_count": 11
        }
      ],
      "source": [
        "len(dataset_df_2)"
      ]
    },
    {
      "cell_type": "code",
      "execution_count": 12,
      "metadata": {
        "colab": {
          "base_uri": "https://localhost:8080/",
          "height": 206
        },
        "id": "44YG688IwYYx",
        "outputId": "26dfc84e-5b13-4282-e8e2-8dd3f550e7c9"
      },
      "outputs": [
        {
          "output_type": "execute_result",
          "data": {
            "text/plain": [
              "                             poems label\n",
              "0  با نصرت و فتح و ظفر و دولت والا     0\n",
              "1     بنگر علم شاه جهان بر سر بالا     0\n",
              "2   لشکر شده آسوده و ترمذ شده ایمن     0\n",
              "3  نصرت شده پیوسته و دولت شده والا     0\n",
              "4   فتح آمده و تهنیت آورده جهان را     0"
            ],
            "text/html": [
              "\n",
              "  <div id=\"df-6c753203-0f3d-4ef9-9c87-a8fc1c34519a\">\n",
              "    <div class=\"colab-df-container\">\n",
              "      <div>\n",
              "<style scoped>\n",
              "    .dataframe tbody tr th:only-of-type {\n",
              "        vertical-align: middle;\n",
              "    }\n",
              "\n",
              "    .dataframe tbody tr th {\n",
              "        vertical-align: top;\n",
              "    }\n",
              "\n",
              "    .dataframe thead th {\n",
              "        text-align: right;\n",
              "    }\n",
              "</style>\n",
              "<table border=\"1\" class=\"dataframe\">\n",
              "  <thead>\n",
              "    <tr style=\"text-align: right;\">\n",
              "      <th></th>\n",
              "      <th>poems</th>\n",
              "      <th>label</th>\n",
              "    </tr>\n",
              "  </thead>\n",
              "  <tbody>\n",
              "    <tr>\n",
              "      <th>0</th>\n",
              "      <td>با نصرت و فتح و ظفر و دولت والا</td>\n",
              "      <td>0</td>\n",
              "    </tr>\n",
              "    <tr>\n",
              "      <th>1</th>\n",
              "      <td>بنگر علم شاه جهان بر سر بالا</td>\n",
              "      <td>0</td>\n",
              "    </tr>\n",
              "    <tr>\n",
              "      <th>2</th>\n",
              "      <td>لشکر شده آسوده و ترمذ شده ایمن</td>\n",
              "      <td>0</td>\n",
              "    </tr>\n",
              "    <tr>\n",
              "      <th>3</th>\n",
              "      <td>نصرت شده پیوسته و دولت شده والا</td>\n",
              "      <td>0</td>\n",
              "    </tr>\n",
              "    <tr>\n",
              "      <th>4</th>\n",
              "      <td>فتح آمده و تهنیت آورده جهان را</td>\n",
              "      <td>0</td>\n",
              "    </tr>\n",
              "  </tbody>\n",
              "</table>\n",
              "</div>\n",
              "      <button class=\"colab-df-convert\" onclick=\"convertToInteractive('df-6c753203-0f3d-4ef9-9c87-a8fc1c34519a')\"\n",
              "              title=\"Convert this dataframe to an interactive table.\"\n",
              "              style=\"display:none;\">\n",
              "        \n",
              "  <svg xmlns=\"http://www.w3.org/2000/svg\" height=\"24px\"viewBox=\"0 0 24 24\"\n",
              "       width=\"24px\">\n",
              "    <path d=\"M0 0h24v24H0V0z\" fill=\"none\"/>\n",
              "    <path d=\"M18.56 5.44l.94 2.06.94-2.06 2.06-.94-2.06-.94-.94-2.06-.94 2.06-2.06.94zm-11 1L8.5 8.5l.94-2.06 2.06-.94-2.06-.94L8.5 2.5l-.94 2.06-2.06.94zm10 10l.94 2.06.94-2.06 2.06-.94-2.06-.94-.94-2.06-.94 2.06-2.06.94z\"/><path d=\"M17.41 7.96l-1.37-1.37c-.4-.4-.92-.59-1.43-.59-.52 0-1.04.2-1.43.59L10.3 9.45l-7.72 7.72c-.78.78-.78 2.05 0 2.83L4 21.41c.39.39.9.59 1.41.59.51 0 1.02-.2 1.41-.59l7.78-7.78 2.81-2.81c.8-.78.8-2.07 0-2.86zM5.41 20L4 18.59l7.72-7.72 1.47 1.35L5.41 20z\"/>\n",
              "  </svg>\n",
              "      </button>\n",
              "      \n",
              "  <style>\n",
              "    .colab-df-container {\n",
              "      display:flex;\n",
              "      flex-wrap:wrap;\n",
              "      gap: 12px;\n",
              "    }\n",
              "\n",
              "    .colab-df-convert {\n",
              "      background-color: #E8F0FE;\n",
              "      border: none;\n",
              "      border-radius: 50%;\n",
              "      cursor: pointer;\n",
              "      display: none;\n",
              "      fill: #1967D2;\n",
              "      height: 32px;\n",
              "      padding: 0 0 0 0;\n",
              "      width: 32px;\n",
              "    }\n",
              "\n",
              "    .colab-df-convert:hover {\n",
              "      background-color: #E2EBFA;\n",
              "      box-shadow: 0px 1px 2px rgba(60, 64, 67, 0.3), 0px 1px 3px 1px rgba(60, 64, 67, 0.15);\n",
              "      fill: #174EA6;\n",
              "    }\n",
              "\n",
              "    [theme=dark] .colab-df-convert {\n",
              "      background-color: #3B4455;\n",
              "      fill: #D2E3FC;\n",
              "    }\n",
              "\n",
              "    [theme=dark] .colab-df-convert:hover {\n",
              "      background-color: #434B5C;\n",
              "      box-shadow: 0px 1px 3px 1px rgba(0, 0, 0, 0.15);\n",
              "      filter: drop-shadow(0px 1px 2px rgba(0, 0, 0, 0.3));\n",
              "      fill: #FFFFFF;\n",
              "    }\n",
              "  </style>\n",
              "\n",
              "      <script>\n",
              "        const buttonEl =\n",
              "          document.querySelector('#df-6c753203-0f3d-4ef9-9c87-a8fc1c34519a button.colab-df-convert');\n",
              "        buttonEl.style.display =\n",
              "          google.colab.kernel.accessAllowed ? 'block' : 'none';\n",
              "\n",
              "        async function convertToInteractive(key) {\n",
              "          const element = document.querySelector('#df-6c753203-0f3d-4ef9-9c87-a8fc1c34519a');\n",
              "          const dataTable =\n",
              "            await google.colab.kernel.invokeFunction('convertToInteractive',\n",
              "                                                     [key], {});\n",
              "          if (!dataTable) return;\n",
              "\n",
              "          const docLinkHtml = 'Like what you see? Visit the ' +\n",
              "            '<a target=\"_blank\" href=https://colab.research.google.com/notebooks/data_table.ipynb>data table notebook</a>'\n",
              "            + ' to learn more about interactive tables.';\n",
              "          element.innerHTML = '';\n",
              "          dataTable['output_type'] = 'display_data';\n",
              "          await google.colab.output.renderOutput(dataTable, element);\n",
              "          const docLink = document.createElement('div');\n",
              "          docLink.innerHTML = docLinkHtml;\n",
              "          element.appendChild(docLink);\n",
              "        }\n",
              "      </script>\n",
              "    </div>\n",
              "  </div>\n",
              "  "
            ]
          },
          "metadata": {},
          "execution_count": 12
        }
      ],
      "source": [
        "dataset = dataset_df_2[['poems', 'label']]\n",
        "dataset.head()"
      ]
    },
    {
      "cell_type": "code",
      "execution_count": 13,
      "metadata": {
        "colab": {
          "base_uri": "https://localhost:8080/",
          "height": 310
        },
        "id": "qMsW5ZH1K7G_",
        "outputId": "d04d4380-4d33-4c50-b8a8-4cf69da4ac7b"
      },
      "outputs": [
        {
          "output_type": "stream",
          "name": "stderr",
          "text": [
            "<ipython-input-13-a85f7d74aca2>:1: SettingWithCopyWarning: \n",
            "A value is trying to be set on a copy of a slice from a DataFrame.\n",
            "Try using .loc[row_indexer,col_indexer] = value instead\n",
            "\n",
            "See the caveats in the documentation: https://pandas.pydata.org/pandas-docs/stable/user_guide/indexing.html#returning-a-view-versus-a-copy\n",
            "  dataset['Labels'] = dataset['label'].map({'0': 0,'1': 1,'2': 2,'3': 3,'4': 4, '5':5, '6':6, '7':7, '8':8, '9':9})\n"
          ]
        },
        {
          "output_type": "execute_result",
          "data": {
            "text/plain": [
              "                             poems  Labels\n",
              "0  با نصرت و فتح و ظفر و دولت والا       0\n",
              "1     بنگر علم شاه جهان بر سر بالا       0\n",
              "2   لشکر شده آسوده و ترمذ شده ایمن       0\n",
              "3  نصرت شده پیوسته و دولت شده والا       0\n",
              "4   فتح آمده و تهنیت آورده جهان را       0"
            ],
            "text/html": [
              "\n",
              "  <div id=\"df-5ea09644-4abb-4b4c-8bc2-71c2a4c3f46b\">\n",
              "    <div class=\"colab-df-container\">\n",
              "      <div>\n",
              "<style scoped>\n",
              "    .dataframe tbody tr th:only-of-type {\n",
              "        vertical-align: middle;\n",
              "    }\n",
              "\n",
              "    .dataframe tbody tr th {\n",
              "        vertical-align: top;\n",
              "    }\n",
              "\n",
              "    .dataframe thead th {\n",
              "        text-align: right;\n",
              "    }\n",
              "</style>\n",
              "<table border=\"1\" class=\"dataframe\">\n",
              "  <thead>\n",
              "    <tr style=\"text-align: right;\">\n",
              "      <th></th>\n",
              "      <th>poems</th>\n",
              "      <th>Labels</th>\n",
              "    </tr>\n",
              "  </thead>\n",
              "  <tbody>\n",
              "    <tr>\n",
              "      <th>0</th>\n",
              "      <td>با نصرت و فتح و ظفر و دولت والا</td>\n",
              "      <td>0</td>\n",
              "    </tr>\n",
              "    <tr>\n",
              "      <th>1</th>\n",
              "      <td>بنگر علم شاه جهان بر سر بالا</td>\n",
              "      <td>0</td>\n",
              "    </tr>\n",
              "    <tr>\n",
              "      <th>2</th>\n",
              "      <td>لشکر شده آسوده و ترمذ شده ایمن</td>\n",
              "      <td>0</td>\n",
              "    </tr>\n",
              "    <tr>\n",
              "      <th>3</th>\n",
              "      <td>نصرت شده پیوسته و دولت شده والا</td>\n",
              "      <td>0</td>\n",
              "    </tr>\n",
              "    <tr>\n",
              "      <th>4</th>\n",
              "      <td>فتح آمده و تهنیت آورده جهان را</td>\n",
              "      <td>0</td>\n",
              "    </tr>\n",
              "  </tbody>\n",
              "</table>\n",
              "</div>\n",
              "      <button class=\"colab-df-convert\" onclick=\"convertToInteractive('df-5ea09644-4abb-4b4c-8bc2-71c2a4c3f46b')\"\n",
              "              title=\"Convert this dataframe to an interactive table.\"\n",
              "              style=\"display:none;\">\n",
              "        \n",
              "  <svg xmlns=\"http://www.w3.org/2000/svg\" height=\"24px\"viewBox=\"0 0 24 24\"\n",
              "       width=\"24px\">\n",
              "    <path d=\"M0 0h24v24H0V0z\" fill=\"none\"/>\n",
              "    <path d=\"M18.56 5.44l.94 2.06.94-2.06 2.06-.94-2.06-.94-.94-2.06-.94 2.06-2.06.94zm-11 1L8.5 8.5l.94-2.06 2.06-.94-2.06-.94L8.5 2.5l-.94 2.06-2.06.94zm10 10l.94 2.06.94-2.06 2.06-.94-2.06-.94-.94-2.06-.94 2.06-2.06.94z\"/><path d=\"M17.41 7.96l-1.37-1.37c-.4-.4-.92-.59-1.43-.59-.52 0-1.04.2-1.43.59L10.3 9.45l-7.72 7.72c-.78.78-.78 2.05 0 2.83L4 21.41c.39.39.9.59 1.41.59.51 0 1.02-.2 1.41-.59l7.78-7.78 2.81-2.81c.8-.78.8-2.07 0-2.86zM5.41 20L4 18.59l7.72-7.72 1.47 1.35L5.41 20z\"/>\n",
              "  </svg>\n",
              "      </button>\n",
              "      \n",
              "  <style>\n",
              "    .colab-df-container {\n",
              "      display:flex;\n",
              "      flex-wrap:wrap;\n",
              "      gap: 12px;\n",
              "    }\n",
              "\n",
              "    .colab-df-convert {\n",
              "      background-color: #E8F0FE;\n",
              "      border: none;\n",
              "      border-radius: 50%;\n",
              "      cursor: pointer;\n",
              "      display: none;\n",
              "      fill: #1967D2;\n",
              "      height: 32px;\n",
              "      padding: 0 0 0 0;\n",
              "      width: 32px;\n",
              "    }\n",
              "\n",
              "    .colab-df-convert:hover {\n",
              "      background-color: #E2EBFA;\n",
              "      box-shadow: 0px 1px 2px rgba(60, 64, 67, 0.3), 0px 1px 3px 1px rgba(60, 64, 67, 0.15);\n",
              "      fill: #174EA6;\n",
              "    }\n",
              "\n",
              "    [theme=dark] .colab-df-convert {\n",
              "      background-color: #3B4455;\n",
              "      fill: #D2E3FC;\n",
              "    }\n",
              "\n",
              "    [theme=dark] .colab-df-convert:hover {\n",
              "      background-color: #434B5C;\n",
              "      box-shadow: 0px 1px 3px 1px rgba(0, 0, 0, 0.15);\n",
              "      filter: drop-shadow(0px 1px 2px rgba(0, 0, 0, 0.3));\n",
              "      fill: #FFFFFF;\n",
              "    }\n",
              "  </style>\n",
              "\n",
              "      <script>\n",
              "        const buttonEl =\n",
              "          document.querySelector('#df-5ea09644-4abb-4b4c-8bc2-71c2a4c3f46b button.colab-df-convert');\n",
              "        buttonEl.style.display =\n",
              "          google.colab.kernel.accessAllowed ? 'block' : 'none';\n",
              "\n",
              "        async function convertToInteractive(key) {\n",
              "          const element = document.querySelector('#df-5ea09644-4abb-4b4c-8bc2-71c2a4c3f46b');\n",
              "          const dataTable =\n",
              "            await google.colab.kernel.invokeFunction('convertToInteractive',\n",
              "                                                     [key], {});\n",
              "          if (!dataTable) return;\n",
              "\n",
              "          const docLinkHtml = 'Like what you see? Visit the ' +\n",
              "            '<a target=\"_blank\" href=https://colab.research.google.com/notebooks/data_table.ipynb>data table notebook</a>'\n",
              "            + ' to learn more about interactive tables.';\n",
              "          element.innerHTML = '';\n",
              "          dataTable['output_type'] = 'display_data';\n",
              "          await google.colab.output.renderOutput(dataTable, element);\n",
              "          const docLink = document.createElement('div');\n",
              "          docLink.innerHTML = docLinkHtml;\n",
              "          element.appendChild(docLink);\n",
              "        }\n",
              "      </script>\n",
              "    </div>\n",
              "  </div>\n",
              "  "
            ]
          },
          "metadata": {},
          "execution_count": 13
        }
      ],
      "source": [
        "dataset['Labels'] = dataset['label'].map({'0': 0,'1': 1,'2': 2,'3': 3,'4': 4, '5':5, '6':6, '7':7, '8':8, '9':9})\n",
        "dataset = dataset.drop([\"label\"], axis=1)\n",
        "\n",
        "dataset.head()"
      ]
    },
    {
      "cell_type": "code",
      "execution_count": 14,
      "metadata": {
        "colab": {
          "base_uri": "https://localhost:8080/",
          "height": 677
        },
        "id": "4b_Zlmhl-Sxq",
        "outputId": "31cd95ed-486a-44cb-a0a2-b8ee8f5326e9"
      },
      "outputs": [
        {
          "output_type": "execute_result",
          "data": {
            "text/plain": [
              "                                 poems  Labels\n",
              "0     هست اندر آن نشان اوستا و ریک وید       2\n",
              "1    هست به صورت بلند لیک به معنی قصیر       8\n",
              "2   همی مردم بیازاری و جای مردمی خواهی       7\n",
              "3      تاریخ نصرت و ظفر از روزگار اوست       0\n",
              "4           تودوری ره صعب و کمی آب نگر       3\n",
              "5       خامش  گرت هزار عروسیست  ور عزا       2\n",
              "6     زین فتنه ها که دامن آخرزمان گرفت       5\n",
              "7     ای برادر تا نبینی غمگسار خویش را       8\n",
              "8      بخت بلند و جام تو طوبی و کوثرست       0\n",
              "9             پهلو نه خوش است بر حریرم       8\n",
              "10             او فارغ و ناشنیده میرفت       6\n",
              "11          روغن بچراغ جان ز علم افزای       7\n",
              "12              بر سر هر کوچه کوری دگر       6\n",
              "13        چو گردی به مردی میان را ببست       4\n",
              "14   بی خویشتنم کردی بوی گل و ریحان ها       8\n",
              "15    چو تو کریم کدام و چو تو بزرگ کجا       0\n",
              "16     در طریق عشقبازی هستم اما هوشیار       6\n",
              "17             به سخن گرچه منم عیسی دم       1\n",
              "18     با رخ زرد و دم سرد و سر پر سودا       1\n",
              "19      خبر گرفته  که من بر عزیمت سفرم       0"
            ],
            "text/html": [
              "\n",
              "  <div id=\"df-35daca27-6615-42d3-aeb3-e1dea59e6566\">\n",
              "    <div class=\"colab-df-container\">\n",
              "      <div>\n",
              "<style scoped>\n",
              "    .dataframe tbody tr th:only-of-type {\n",
              "        vertical-align: middle;\n",
              "    }\n",
              "\n",
              "    .dataframe tbody tr th {\n",
              "        vertical-align: top;\n",
              "    }\n",
              "\n",
              "    .dataframe thead th {\n",
              "        text-align: right;\n",
              "    }\n",
              "</style>\n",
              "<table border=\"1\" class=\"dataframe\">\n",
              "  <thead>\n",
              "    <tr style=\"text-align: right;\">\n",
              "      <th></th>\n",
              "      <th>poems</th>\n",
              "      <th>Labels</th>\n",
              "    </tr>\n",
              "  </thead>\n",
              "  <tbody>\n",
              "    <tr>\n",
              "      <th>0</th>\n",
              "      <td>هست اندر آن نشان اوستا و ریک وید</td>\n",
              "      <td>2</td>\n",
              "    </tr>\n",
              "    <tr>\n",
              "      <th>1</th>\n",
              "      <td>هست به صورت بلند لیک به معنی قصیر</td>\n",
              "      <td>8</td>\n",
              "    </tr>\n",
              "    <tr>\n",
              "      <th>2</th>\n",
              "      <td>همی مردم بیازاری و جای مردمی خواهی</td>\n",
              "      <td>7</td>\n",
              "    </tr>\n",
              "    <tr>\n",
              "      <th>3</th>\n",
              "      <td>تاریخ نصرت و ظفر از روزگار اوست</td>\n",
              "      <td>0</td>\n",
              "    </tr>\n",
              "    <tr>\n",
              "      <th>4</th>\n",
              "      <td>تودوری ره صعب و کمی آب نگر</td>\n",
              "      <td>3</td>\n",
              "    </tr>\n",
              "    <tr>\n",
              "      <th>5</th>\n",
              "      <td>خامش  گرت هزار عروسیست  ور عزا</td>\n",
              "      <td>2</td>\n",
              "    </tr>\n",
              "    <tr>\n",
              "      <th>6</th>\n",
              "      <td>زین فتنه ها که دامن آخرزمان گرفت</td>\n",
              "      <td>5</td>\n",
              "    </tr>\n",
              "    <tr>\n",
              "      <th>7</th>\n",
              "      <td>ای برادر تا نبینی غمگسار خویش را</td>\n",
              "      <td>8</td>\n",
              "    </tr>\n",
              "    <tr>\n",
              "      <th>8</th>\n",
              "      <td>بخت بلند و جام تو طوبی و کوثرست</td>\n",
              "      <td>0</td>\n",
              "    </tr>\n",
              "    <tr>\n",
              "      <th>9</th>\n",
              "      <td>پهلو نه خوش است بر حریرم</td>\n",
              "      <td>8</td>\n",
              "    </tr>\n",
              "    <tr>\n",
              "      <th>10</th>\n",
              "      <td>او فارغ و ناشنیده میرفت</td>\n",
              "      <td>6</td>\n",
              "    </tr>\n",
              "    <tr>\n",
              "      <th>11</th>\n",
              "      <td>روغن بچراغ جان ز علم افزای</td>\n",
              "      <td>7</td>\n",
              "    </tr>\n",
              "    <tr>\n",
              "      <th>12</th>\n",
              "      <td>بر سر هر کوچه کوری دگر</td>\n",
              "      <td>6</td>\n",
              "    </tr>\n",
              "    <tr>\n",
              "      <th>13</th>\n",
              "      <td>چو گردی به مردی میان را ببست</td>\n",
              "      <td>4</td>\n",
              "    </tr>\n",
              "    <tr>\n",
              "      <th>14</th>\n",
              "      <td>بی خویشتنم کردی بوی گل و ریحان ها</td>\n",
              "      <td>8</td>\n",
              "    </tr>\n",
              "    <tr>\n",
              "      <th>15</th>\n",
              "      <td>چو تو کریم کدام و چو تو بزرگ کجا</td>\n",
              "      <td>0</td>\n",
              "    </tr>\n",
              "    <tr>\n",
              "      <th>16</th>\n",
              "      <td>در طریق عشقبازی هستم اما هوشیار</td>\n",
              "      <td>6</td>\n",
              "    </tr>\n",
              "    <tr>\n",
              "      <th>17</th>\n",
              "      <td>به سخن گرچه منم عیسی دم</td>\n",
              "      <td>1</td>\n",
              "    </tr>\n",
              "    <tr>\n",
              "      <th>18</th>\n",
              "      <td>با رخ زرد و دم سرد و سر پر سودا</td>\n",
              "      <td>1</td>\n",
              "    </tr>\n",
              "    <tr>\n",
              "      <th>19</th>\n",
              "      <td>خبر گرفته  که من بر عزیمت سفرم</td>\n",
              "      <td>0</td>\n",
              "    </tr>\n",
              "  </tbody>\n",
              "</table>\n",
              "</div>\n",
              "      <button class=\"colab-df-convert\" onclick=\"convertToInteractive('df-35daca27-6615-42d3-aeb3-e1dea59e6566')\"\n",
              "              title=\"Convert this dataframe to an interactive table.\"\n",
              "              style=\"display:none;\">\n",
              "        \n",
              "  <svg xmlns=\"http://www.w3.org/2000/svg\" height=\"24px\"viewBox=\"0 0 24 24\"\n",
              "       width=\"24px\">\n",
              "    <path d=\"M0 0h24v24H0V0z\" fill=\"none\"/>\n",
              "    <path d=\"M18.56 5.44l.94 2.06.94-2.06 2.06-.94-2.06-.94-.94-2.06-.94 2.06-2.06.94zm-11 1L8.5 8.5l.94-2.06 2.06-.94-2.06-.94L8.5 2.5l-.94 2.06-2.06.94zm10 10l.94 2.06.94-2.06 2.06-.94-2.06-.94-.94-2.06-.94 2.06-2.06.94z\"/><path d=\"M17.41 7.96l-1.37-1.37c-.4-.4-.92-.59-1.43-.59-.52 0-1.04.2-1.43.59L10.3 9.45l-7.72 7.72c-.78.78-.78 2.05 0 2.83L4 21.41c.39.39.9.59 1.41.59.51 0 1.02-.2 1.41-.59l7.78-7.78 2.81-2.81c.8-.78.8-2.07 0-2.86zM5.41 20L4 18.59l7.72-7.72 1.47 1.35L5.41 20z\"/>\n",
              "  </svg>\n",
              "      </button>\n",
              "      \n",
              "  <style>\n",
              "    .colab-df-container {\n",
              "      display:flex;\n",
              "      flex-wrap:wrap;\n",
              "      gap: 12px;\n",
              "    }\n",
              "\n",
              "    .colab-df-convert {\n",
              "      background-color: #E8F0FE;\n",
              "      border: none;\n",
              "      border-radius: 50%;\n",
              "      cursor: pointer;\n",
              "      display: none;\n",
              "      fill: #1967D2;\n",
              "      height: 32px;\n",
              "      padding: 0 0 0 0;\n",
              "      width: 32px;\n",
              "    }\n",
              "\n",
              "    .colab-df-convert:hover {\n",
              "      background-color: #E2EBFA;\n",
              "      box-shadow: 0px 1px 2px rgba(60, 64, 67, 0.3), 0px 1px 3px 1px rgba(60, 64, 67, 0.15);\n",
              "      fill: #174EA6;\n",
              "    }\n",
              "\n",
              "    [theme=dark] .colab-df-convert {\n",
              "      background-color: #3B4455;\n",
              "      fill: #D2E3FC;\n",
              "    }\n",
              "\n",
              "    [theme=dark] .colab-df-convert:hover {\n",
              "      background-color: #434B5C;\n",
              "      box-shadow: 0px 1px 3px 1px rgba(0, 0, 0, 0.15);\n",
              "      filter: drop-shadow(0px 1px 2px rgba(0, 0, 0, 0.3));\n",
              "      fill: #FFFFFF;\n",
              "    }\n",
              "  </style>\n",
              "\n",
              "      <script>\n",
              "        const buttonEl =\n",
              "          document.querySelector('#df-35daca27-6615-42d3-aeb3-e1dea59e6566 button.colab-df-convert');\n",
              "        buttonEl.style.display =\n",
              "          google.colab.kernel.accessAllowed ? 'block' : 'none';\n",
              "\n",
              "        async function convertToInteractive(key) {\n",
              "          const element = document.querySelector('#df-35daca27-6615-42d3-aeb3-e1dea59e6566');\n",
              "          const dataTable =\n",
              "            await google.colab.kernel.invokeFunction('convertToInteractive',\n",
              "                                                     [key], {});\n",
              "          if (!dataTable) return;\n",
              "\n",
              "          const docLinkHtml = 'Like what you see? Visit the ' +\n",
              "            '<a target=\"_blank\" href=https://colab.research.google.com/notebooks/data_table.ipynb>data table notebook</a>'\n",
              "            + ' to learn more about interactive tables.';\n",
              "          element.innerHTML = '';\n",
              "          dataTable['output_type'] = 'display_data';\n",
              "          await google.colab.output.renderOutput(dataTable, element);\n",
              "          const docLink = document.createElement('div');\n",
              "          docLink.innerHTML = docLinkHtml;\n",
              "          element.appendChild(docLink);\n",
              "        }\n",
              "      </script>\n",
              "    </div>\n",
              "  </div>\n",
              "  "
            ]
          },
          "metadata": {},
          "execution_count": 14
        }
      ],
      "source": [
        "\n",
        "#shuffling\n",
        "dataset = dataset.sample(frac=1).reset_index(drop=True)\n",
        "dataset.head(20)"
      ]
    },
    {
      "cell_type": "code",
      "execution_count": 15,
      "metadata": {
        "id": "-wO1wHcg-fZe"
      },
      "outputs": [],
      "source": [
        "tokenizer = BertTokenizer.from_pretrained('bert-base-multilingual-cased', do_lower_case=False)"
      ]
    },
    {
      "cell_type": "code",
      "execution_count": 16,
      "metadata": {
        "id": "ZkU22Ugh-U8h"
      },
      "outputs": [],
      "source": [
        "labels = tf.keras.utils.to_categorical(dataset[\"Labels\"].values, num_classes=10)"
      ]
    },
    {
      "cell_type": "code",
      "execution_count": 17,
      "metadata": {
        "colab": {
          "base_uri": "https://localhost:8080/"
        },
        "id": "2u8UQc3lG1VQ",
        "outputId": "d38ac446-6a09-40a3-a335-fa3f2f1d1e8c"
      },
      "outputs": [
        {
          "output_type": "execute_result",
          "data": {
            "text/plain": [
              "array([[0., 0., 1., ..., 0., 0., 0.],\n",
              "       [0., 0., 0., ..., 0., 1., 0.],\n",
              "       [0., 0., 0., ..., 1., 0., 0.],\n",
              "       ...,\n",
              "       [0., 0., 0., ..., 1., 0., 0.],\n",
              "       [0., 0., 0., ..., 0., 0., 0.],\n",
              "       [0., 0., 0., ..., 0., 0., 0.]], dtype=float32)"
            ]
          },
          "metadata": {},
          "execution_count": 17
        }
      ],
      "source": [
        "labels"
      ]
    },
    {
      "cell_type": "code",
      "execution_count": 18,
      "metadata": {
        "colab": {
          "base_uri": "https://localhost:8080/",
          "height": 424
        },
        "id": "7ePDHoQVNGh_",
        "outputId": "ff854c38-1d19-431b-b3e7-e2182bcb3818"
      },
      "outputs": [
        {
          "output_type": "execute_result",
          "data": {
            "text/plain": [
              "                                    poems  Labels\n",
              "0        هست اندر آن نشان اوستا و ریک وید       2\n",
              "1       هست به صورت بلند لیک به معنی قصیر       8\n",
              "2      همی مردم بیازاری و جای مردمی خواهی       7\n",
              "3         تاریخ نصرت و ظفر از روزگار اوست       0\n",
              "4              تودوری ره صعب و کمی آب نگر       3\n",
              "...                                   ...     ...\n",
              "94295         شد درون و کرد آن در را فراز       7\n",
              "94296        جان ندارد هر که جانانیش نیست       8\n",
              "94297          از چه معنی خویشی ما ننگ شد       7\n",
              "94298      وین زلف و غمزه مار است و عقرب        6\n",
              "94299             جوانی برآراست از خویشتن       4\n",
              "\n",
              "[94300 rows x 2 columns]"
            ],
            "text/html": [
              "\n",
              "  <div id=\"df-daa9643c-b24f-4b92-b58d-19a716fd4419\">\n",
              "    <div class=\"colab-df-container\">\n",
              "      <div>\n",
              "<style scoped>\n",
              "    .dataframe tbody tr th:only-of-type {\n",
              "        vertical-align: middle;\n",
              "    }\n",
              "\n",
              "    .dataframe tbody tr th {\n",
              "        vertical-align: top;\n",
              "    }\n",
              "\n",
              "    .dataframe thead th {\n",
              "        text-align: right;\n",
              "    }\n",
              "</style>\n",
              "<table border=\"1\" class=\"dataframe\">\n",
              "  <thead>\n",
              "    <tr style=\"text-align: right;\">\n",
              "      <th></th>\n",
              "      <th>poems</th>\n",
              "      <th>Labels</th>\n",
              "    </tr>\n",
              "  </thead>\n",
              "  <tbody>\n",
              "    <tr>\n",
              "      <th>0</th>\n",
              "      <td>هست اندر آن نشان اوستا و ریک وید</td>\n",
              "      <td>2</td>\n",
              "    </tr>\n",
              "    <tr>\n",
              "      <th>1</th>\n",
              "      <td>هست به صورت بلند لیک به معنی قصیر</td>\n",
              "      <td>8</td>\n",
              "    </tr>\n",
              "    <tr>\n",
              "      <th>2</th>\n",
              "      <td>همی مردم بیازاری و جای مردمی خواهی</td>\n",
              "      <td>7</td>\n",
              "    </tr>\n",
              "    <tr>\n",
              "      <th>3</th>\n",
              "      <td>تاریخ نصرت و ظفر از روزگار اوست</td>\n",
              "      <td>0</td>\n",
              "    </tr>\n",
              "    <tr>\n",
              "      <th>4</th>\n",
              "      <td>تودوری ره صعب و کمی آب نگر</td>\n",
              "      <td>3</td>\n",
              "    </tr>\n",
              "    <tr>\n",
              "      <th>...</th>\n",
              "      <td>...</td>\n",
              "      <td>...</td>\n",
              "    </tr>\n",
              "    <tr>\n",
              "      <th>94295</th>\n",
              "      <td>شد درون و کرد آن در را فراز</td>\n",
              "      <td>7</td>\n",
              "    </tr>\n",
              "    <tr>\n",
              "      <th>94296</th>\n",
              "      <td>جان ندارد هر که جانانیش نیست</td>\n",
              "      <td>8</td>\n",
              "    </tr>\n",
              "    <tr>\n",
              "      <th>94297</th>\n",
              "      <td>از چه معنی خویشی ما ننگ شد</td>\n",
              "      <td>7</td>\n",
              "    </tr>\n",
              "    <tr>\n",
              "      <th>94298</th>\n",
              "      <td>وین زلف و غمزه مار است و عقرب</td>\n",
              "      <td>6</td>\n",
              "    </tr>\n",
              "    <tr>\n",
              "      <th>94299</th>\n",
              "      <td>جوانی برآراست از خویشتن</td>\n",
              "      <td>4</td>\n",
              "    </tr>\n",
              "  </tbody>\n",
              "</table>\n",
              "<p>94300 rows × 2 columns</p>\n",
              "</div>\n",
              "      <button class=\"colab-df-convert\" onclick=\"convertToInteractive('df-daa9643c-b24f-4b92-b58d-19a716fd4419')\"\n",
              "              title=\"Convert this dataframe to an interactive table.\"\n",
              "              style=\"display:none;\">\n",
              "        \n",
              "  <svg xmlns=\"http://www.w3.org/2000/svg\" height=\"24px\"viewBox=\"0 0 24 24\"\n",
              "       width=\"24px\">\n",
              "    <path d=\"M0 0h24v24H0V0z\" fill=\"none\"/>\n",
              "    <path d=\"M18.56 5.44l.94 2.06.94-2.06 2.06-.94-2.06-.94-.94-2.06-.94 2.06-2.06.94zm-11 1L8.5 8.5l.94-2.06 2.06-.94-2.06-.94L8.5 2.5l-.94 2.06-2.06.94zm10 10l.94 2.06.94-2.06 2.06-.94-2.06-.94-.94-2.06-.94 2.06-2.06.94z\"/><path d=\"M17.41 7.96l-1.37-1.37c-.4-.4-.92-.59-1.43-.59-.52 0-1.04.2-1.43.59L10.3 9.45l-7.72 7.72c-.78.78-.78 2.05 0 2.83L4 21.41c.39.39.9.59 1.41.59.51 0 1.02-.2 1.41-.59l7.78-7.78 2.81-2.81c.8-.78.8-2.07 0-2.86zM5.41 20L4 18.59l7.72-7.72 1.47 1.35L5.41 20z\"/>\n",
              "  </svg>\n",
              "      </button>\n",
              "      \n",
              "  <style>\n",
              "    .colab-df-container {\n",
              "      display:flex;\n",
              "      flex-wrap:wrap;\n",
              "      gap: 12px;\n",
              "    }\n",
              "\n",
              "    .colab-df-convert {\n",
              "      background-color: #E8F0FE;\n",
              "      border: none;\n",
              "      border-radius: 50%;\n",
              "      cursor: pointer;\n",
              "      display: none;\n",
              "      fill: #1967D2;\n",
              "      height: 32px;\n",
              "      padding: 0 0 0 0;\n",
              "      width: 32px;\n",
              "    }\n",
              "\n",
              "    .colab-df-convert:hover {\n",
              "      background-color: #E2EBFA;\n",
              "      box-shadow: 0px 1px 2px rgba(60, 64, 67, 0.3), 0px 1px 3px 1px rgba(60, 64, 67, 0.15);\n",
              "      fill: #174EA6;\n",
              "    }\n",
              "\n",
              "    [theme=dark] .colab-df-convert {\n",
              "      background-color: #3B4455;\n",
              "      fill: #D2E3FC;\n",
              "    }\n",
              "\n",
              "    [theme=dark] .colab-df-convert:hover {\n",
              "      background-color: #434B5C;\n",
              "      box-shadow: 0px 1px 3px 1px rgba(0, 0, 0, 0.15);\n",
              "      filter: drop-shadow(0px 1px 2px rgba(0, 0, 0, 0.3));\n",
              "      fill: #FFFFFF;\n",
              "    }\n",
              "  </style>\n",
              "\n",
              "      <script>\n",
              "        const buttonEl =\n",
              "          document.querySelector('#df-daa9643c-b24f-4b92-b58d-19a716fd4419 button.colab-df-convert');\n",
              "        buttonEl.style.display =\n",
              "          google.colab.kernel.accessAllowed ? 'block' : 'none';\n",
              "\n",
              "        async function convertToInteractive(key) {\n",
              "          const element = document.querySelector('#df-daa9643c-b24f-4b92-b58d-19a716fd4419');\n",
              "          const dataTable =\n",
              "            await google.colab.kernel.invokeFunction('convertToInteractive',\n",
              "                                                     [key], {});\n",
              "          if (!dataTable) return;\n",
              "\n",
              "          const docLinkHtml = 'Like what you see? Visit the ' +\n",
              "            '<a target=\"_blank\" href=https://colab.research.google.com/notebooks/data_table.ipynb>data table notebook</a>'\n",
              "            + ' to learn more about interactive tables.';\n",
              "          element.innerHTML = '';\n",
              "          dataTable['output_type'] = 'display_data';\n",
              "          await google.colab.output.renderOutput(dataTable, element);\n",
              "          const docLink = document.createElement('div');\n",
              "          docLink.innerHTML = docLinkHtml;\n",
              "          element.appendChild(docLink);\n",
              "        }\n",
              "      </script>\n",
              "    </div>\n",
              "  </div>\n",
              "  "
            ]
          },
          "metadata": {},
          "execution_count": 18
        }
      ],
      "source": [
        "dataset"
      ]
    },
    {
      "cell_type": "code",
      "execution_count": 19,
      "metadata": {
        "id": "cTBMd4hpI_I7"
      },
      "outputs": [],
      "source": [
        "MAX_LENGTH = 128"
      ]
    },
    {
      "cell_type": "code",
      "execution_count": 20,
      "metadata": {
        "id": "f--ZZGun-gBf"
      },
      "outputs": [],
      "source": [
        "def convert_data_into_input_example(df, ids, masks,tokenizer):\n",
        "    for i in range(len(df)):\n",
        "      tokenized_poem = tokenizer.encode_plus(\n",
        "          dataset.loc[i,'poems'],\n",
        "          max_length=MAX_LENGTH,\n",
        "          truncation = True,\n",
        "          padding = 'max_length', \n",
        "          add_special_tokens = True,\n",
        "          return_tensors = 'tf'\n",
        "      )\n",
        "      ids[i,:] = tokenized_poem.input_ids\n",
        "      masks[i,:] = tokenized_poem.attention_mask\n",
        "    return ids, masks"
      ]
    },
    {
      "cell_type": "code",
      "execution_count": 21,
      "metadata": {
        "id": "D0xClUORI3sd"
      },
      "outputs": [],
      "source": [
        "X_input_ids = np.zeros((len(dataset), MAX_LENGTH))\n",
        "X_attention_masks = np.zeros((len(dataset), MAX_LENGTH))"
      ]
    },
    {
      "cell_type": "code",
      "execution_count": 22,
      "metadata": {
        "id": "6lgiAmypI3uI"
      },
      "outputs": [],
      "source": [
        "X_input_ids, X_attention_masks = convert_data_into_input_example(dataset, X_input_ids, X_attention_masks, tokenizer)"
      ]
    },
    {
      "cell_type": "code",
      "execution_count": 23,
      "metadata": {
        "colab": {
          "base_uri": "https://localhost:8080/"
        },
        "id": "u8SnSJ-oI3y4",
        "outputId": "66699ba3-257e-4497-8e19-e9fc4f9995ab"
      },
      "outputs": [
        {
          "output_type": "execute_result",
          "data": {
            "text/plain": [
              "array([[  101.,   790., 15450., ...,     0.,     0.,     0.],\n",
              "       [  101.,   790., 15450., ...,     0.,     0.,     0.],\n",
              "       [  101., 16079., 10278., ...,     0.,     0.,     0.],\n",
              "       ...,\n",
              "       [  101., 10383., 53880., ...,     0.,     0.,     0.],\n",
              "       [  101., 13204., 10582., ...,     0.,     0.,     0.],\n",
              "       [  101., 77622., 10278., ...,     0.,     0.,     0.]])"
            ]
          },
          "metadata": {},
          "execution_count": 23
        }
      ],
      "source": [
        "X_input_ids"
      ]
    },
    {
      "cell_type": "code",
      "execution_count": 24,
      "metadata": {
        "colab": {
          "base_uri": "https://localhost:8080/"
        },
        "id": "FvXGQ-XLI32c",
        "outputId": "f98984bb-d862-46bc-e39c-9c78376c3b23"
      },
      "outputs": [
        {
          "output_type": "execute_result",
          "data": {
            "text/plain": [
              "array([[0., 0., 1., ..., 0., 0., 0.],\n",
              "       [0., 0., 0., ..., 0., 1., 0.],\n",
              "       [0., 0., 0., ..., 1., 0., 0.],\n",
              "       ...,\n",
              "       [0., 0., 0., ..., 1., 0., 0.],\n",
              "       [0., 0., 0., ..., 0., 0., 0.],\n",
              "       [0., 0., 0., ..., 0., 0., 0.]], dtype=float32)"
            ]
          },
          "metadata": {},
          "execution_count": 24
        }
      ],
      "source": [
        "labels"
      ]
    },
    {
      "cell_type": "code",
      "execution_count": 25,
      "metadata": {
        "id": "zNMkAS9uKrO-"
      },
      "outputs": [],
      "source": [
        "final_dataset = tf.data.Dataset.from_tensor_slices((X_input_ids, X_attention_masks, labels))"
      ]
    },
    {
      "cell_type": "code",
      "execution_count": 26,
      "metadata": {
        "id": "TJsolHu7LDum"
      },
      "outputs": [],
      "source": [
        "def DatsetMapFunc(input_ids, attn_masks, labels):\n",
        "  return {\n",
        "      'input_ids':input_ids,\n",
        "      'attention_mask': attn_masks\n",
        "  }, labels"
      ]
    },
    {
      "cell_type": "code",
      "execution_count": 27,
      "metadata": {
        "id": "Dzr2XqI-LkM_"
      },
      "outputs": [],
      "source": [
        "final_dataset = final_dataset.map(DatsetMapFunc)"
      ]
    },
    {
      "cell_type": "code",
      "execution_count": 28,
      "metadata": {
        "id": "nKdwri8bLpgl"
      },
      "outputs": [],
      "source": [
        "def get_dataset_partitions_tf(ds, ds_size, train_split=0.8, val_split=0.1, test_split=0.1):\n",
        "    assert (train_split + test_split + val_split) == 1\n",
        "    \n",
        "    train_size = int((ds_size//BATCH_SIZE)* train_split ) #int(train_split * ds_size)  \n",
        "    val_size = int((ds_size//BATCH_SIZE)* val_split )    #int(val_split * ds_size)\n",
        "    \n",
        "    train_ds = ds.take(train_size)    \n",
        "    val_ds = ds.skip(train_size).take(val_size)\n",
        "    test_ds = ds.skip(train_size).skip(val_size)\n",
        "    \n",
        "    return train_ds, val_ds, test_ds"
      ]
    },
    {
      "cell_type": "code",
      "execution_count": 29,
      "metadata": {
        "id": "YAVVUG6bLq0b"
      },
      "outputs": [],
      "source": [
        "BATCH_SIZE= 32\n",
        "final_dataset = final_dataset.shuffle(10000).batch(BATCH_SIZE, drop_remainder=True)\n",
        "train_dataset, val_dataset, test_dataset = get_dataset_partitions_tf(final_dataset, len(dataset))"
      ]
    },
    {
      "cell_type": "code",
      "execution_count": 30,
      "metadata": {
        "id": "MFMCadJuMNmB",
        "colab": {
          "base_uri": "https://localhost:8080/"
        },
        "outputId": "a64c9334-f042-4e79-d377-4cb13918edf0"
      },
      "outputs": [
        {
          "output_type": "execute_result",
          "data": {
            "text/plain": [
              "2356"
            ]
          },
          "metadata": {},
          "execution_count": 30
        }
      ],
      "source": [
        "len(train_dataset)"
      ]
    },
    {
      "cell_type": "markdown",
      "source": [
        "###### select 1000 poem for Perplexity\n"
      ],
      "metadata": {
        "id": "cIWo1vn4PxQG"
      }
    },
    {
      "cell_type": "code",
      "source": [
        "import random\n",
        "randomlist = random.sample(range(0, len(dataset)), 1000)\n",
        "print(randomlist)"
      ],
      "metadata": {
        "id": "Dp0Pd2QUP0_P",
        "colab": {
          "base_uri": "https://localhost:8080/"
        },
        "outputId": "30c96809-09ae-44c1-a2bb-1811711a9368"
      },
      "execution_count": 31,
      "outputs": [
        {
          "output_type": "stream",
          "name": "stdout",
          "text": [
            "[2702, 25009, 32424, 12249, 10552, 54939, 73316, 63858, 11418, 26946, 79344, 59206, 11453, 93767, 7818, 40974, 91351, 7242, 37703, 42399, 78516, 92565, 23661, 51812, 15569, 38977, 33715, 32575, 66843, 78052, 70973, 83248, 71682, 71257, 56076, 68017, 19262, 14082, 13842, 50413, 93510, 48235, 75102, 74699, 64655, 82193, 39964, 63278, 7202, 18937, 92394, 41688, 54510, 43365, 5493, 85092, 20188, 47613, 30090, 80400, 80353, 50852, 45652, 16487, 19724, 18497, 89381, 73455, 49404, 91258, 37853, 83863, 17030, 8105, 59330, 20894, 77546, 4924, 9231, 17689, 23365, 19599, 86762, 65584, 74334, 55821, 8464, 64201, 71929, 76089, 38396, 73289, 26848, 87471, 20316, 68049, 6265, 20427, 80656, 21374, 69422, 20081, 26558, 15753, 18649, 24500, 856, 55462, 57501, 16977, 40262, 91642, 56983, 55153, 62191, 30072, 23967, 67042, 79457, 23156, 33699, 22713, 40718, 77325, 63636, 13417, 81400, 37890, 42553, 71487, 31547, 60844, 59530, 84203, 71289, 52376, 90301, 69656, 48318, 35211, 3928, 65765, 65349, 36022, 17859, 93655, 68949, 74215, 39906, 55646, 57357, 60144, 19904, 29955, 19588, 5904, 41584, 54950, 22114, 27490, 40392, 56382, 26539, 9872, 29757, 38604, 28460, 25059, 45624, 60443, 2156, 87097, 51275, 87348, 19697, 38240, 92062, 93039, 51264, 16275, 51373, 75350, 7094, 80493, 70162, 78313, 51285, 40401, 69434, 92860, 46067, 31441, 43394, 26034, 85292, 4604, 49144, 71868, 53069, 46852, 62612, 62596, 42168, 43391, 9408, 6000, 6889, 68305, 59832, 5784, 80118, 11317, 33919, 19154, 47134, 10749, 13134, 69394, 56545, 1896, 94, 6732, 42262, 15285, 87710, 84132, 16255, 77184, 57200, 13167, 90866, 19380, 7538, 70950, 49557, 45840, 86701, 41235, 21817, 50813, 68308, 79939, 21992, 7444, 14813, 10160, 58873, 35485, 78118, 12607, 2223, 1274, 77448, 52938, 91707, 27718, 91841, 22750, 36867, 58175, 14018, 12278, 12739, 46088, 8733, 37889, 36449, 84604, 79410, 52277, 27482, 21574, 1273, 43792, 77897, 92914, 83447, 52398, 52070, 78538, 81445, 31094, 81077, 69870, 82838, 43366, 12890, 5818, 26709, 13669, 20792, 91568, 4941, 56903, 93174, 44993, 77128, 4110, 67051, 54941, 1792, 76068, 26127, 94299, 33624, 1549, 9158, 87258, 2496, 55944, 58476, 29740, 20314, 50315, 39181, 48707, 2556, 18629, 19812, 20349, 26718, 91768, 85966, 32851, 21912, 72020, 86293, 48714, 26429, 49581, 83960, 72776, 22990, 17898, 72124, 9357, 59313, 80013, 62680, 50105, 37753, 78953, 48346, 62249, 83852, 93255, 68317, 43508, 50856, 2027, 78025, 3205, 3144, 1432, 74806, 8120, 65962, 71319, 58310, 56877, 63248, 57466, 23838, 54105, 14606, 17279, 47267, 55838, 92036, 73457, 1277, 10306, 11467, 60164, 63124, 13655, 50565, 28676, 89013, 82940, 43635, 23155, 91398, 35031, 56186, 86480, 61456, 13084, 46805, 67512, 83362, 73086, 47521, 47028, 22924, 75960, 8562, 50942, 73199, 9606, 27950, 74362, 28478, 57644, 66827, 3071, 14665, 41920, 7253, 2973, 34834, 14845, 33500, 39751, 82635, 26791, 78095, 17035, 88740, 70265, 51937, 80934, 43109, 42342, 58663, 30926, 61080, 36756, 5917, 52350, 18786, 53412, 88654, 82699, 28674, 50286, 67461, 7089, 11619, 19266, 55035, 61277, 77626, 16095, 93889, 64135, 38407, 15679, 23124, 60620, 4444, 79121, 3019, 44654, 87247, 72967, 55666, 11594, 45354, 69802, 22404, 64488, 77693, 62077, 67729, 55510, 79462, 53635, 60009, 21918, 77594, 46921, 4908, 57439, 36311, 12038, 76161, 36462, 89222, 8873, 46225, 61202, 34930, 50929, 13927, 69492, 69536, 21651, 93276, 63714, 67376, 61105, 46043, 46602, 19997, 89263, 84415, 68100, 18465, 24137, 48661, 29807, 87810, 67270, 12539, 71650, 91444, 42228, 22501, 86997, 45029, 72064, 58893, 65987, 35672, 31346, 65272, 30754, 24461, 68200, 75986, 35113, 69332, 35474, 26246, 5829, 10168, 66761, 89125, 67653, 21472, 36088, 62946, 48372, 78291, 49733, 52338, 56077, 26642, 41083, 43716, 69643, 84080, 45893, 66912, 14304, 46178, 37422, 59857, 85557, 37083, 41333, 47050, 88915, 93651, 30271, 52094, 50496, 89984, 21668, 38935, 2561, 84863, 38622, 11714, 72724, 54156, 62128, 89916, 91477, 9315, 91518, 35593, 58609, 91820, 13888, 48382, 57648, 54785, 57687, 19319, 24179, 13078, 68582, 17582, 46396, 45381, 59917, 28893, 69377, 45553, 24203, 44757, 52628, 85435, 73765, 16348, 14239, 63085, 69560, 43192, 23984, 113, 48309, 79626, 30233, 83084, 73045, 30444, 31209, 76800, 72245, 26588, 60885, 79465, 56444, 73283, 32704, 86451, 59800, 80901, 50574, 19011, 39584, 42708, 85039, 4867, 15717, 7081, 35123, 76748, 20411, 54772, 65454, 33422, 82390, 74221, 91552, 56517, 82883, 16134, 88463, 91875, 12405, 74295, 2170, 7930, 42648, 51332, 65158, 29418, 23883, 6334, 686, 6521, 44466, 49500, 90348, 61812, 27420, 25124, 71314, 47493, 54916, 20112, 14446, 79433, 20638, 58291, 79956, 62523, 54911, 34863, 61157, 19712, 27290, 72051, 27012, 57372, 33791, 52527, 34091, 62601, 80352, 52833, 49779, 79999, 78308, 82531, 29879, 72730, 15242, 90266, 69015, 17409, 91288, 77976, 41825, 46339, 13217, 74526, 13983, 49285, 83291, 24284, 877, 42707, 16189, 84901, 42801, 78823, 71732, 64333, 11158, 51051, 23694, 87573, 19611, 56590, 82286, 83717, 33365, 83620, 27990, 72647, 74291, 76211, 15490, 47347, 72784, 73208, 46207, 85541, 84919, 27794, 16359, 70952, 47838, 63202, 17475, 57958, 61528, 53151, 71864, 42283, 90978, 54816, 51060, 4195, 11832, 6625, 89741, 3552, 68186, 87254, 92190, 7835, 1988, 76439, 10755, 33096, 68276, 83495, 1735, 46750, 35643, 82099, 11554, 33376, 48027, 88433, 82507, 42000, 52268, 22398, 26656, 59561, 25715, 39973, 32727, 16340, 25230, 84420, 50971, 52760, 93129, 72780, 33296, 25500, 55869, 9655, 18623, 86895, 66336, 25647, 4023, 11703, 81475, 12909, 59817, 86768, 39710, 30098, 74385, 6784, 15764, 35001, 62308, 86908, 91738, 42525, 15556, 68425, 90451, 2711, 11581, 57255, 1349, 16122, 40872, 19778, 24155, 58315, 36654, 67966, 54029, 47860, 64242, 5379, 70889, 68729, 74754, 72449, 11644, 74573, 21363, 81864, 17595, 76771, 68968, 16683, 43246, 36220, 53549, 8159, 66787, 53826, 89772, 76299, 6923, 28392, 26665, 14962, 36509, 39551, 74607, 44031, 41202, 12406, 4176, 52422, 77392, 54618, 21652, 64, 89285, 90263, 33862, 7669, 21490, 64649, 38979, 6478, 8335, 24175, 67932, 27672, 28055, 54409, 55672, 59714, 46687, 75974, 40300, 54977, 35737, 79056, 77046, 33784, 30085, 16206, 60502, 46584, 89696, 91678, 14069, 67159, 34657, 20256, 59810, 42716, 21180, 24559, 92968, 93225, 70553, 55873, 29915, 79200, 34729, 23516, 92642, 80237, 93859, 37351, 22752, 65646, 33360, 69292, 29007, 19135, 82765, 18157, 72806, 41826, 78469, 88872, 83531, 56271, 94202, 41543, 27993, 45896, 4562, 32908, 36104, 91998, 65156, 60941, 63169, 30720, 50723, 37720, 66825, 32945, 26735, 87150, 36247, 20052, 11152, 73024, 75177, 25456, 2988, 84173, 82663, 69982, 1618, 41582, 75221, 68701, 24252, 53666, 66338, 18354, 67754, 4094, 64248, 31472, 88132, 35032, 8044, 679, 18118, 33657, 81330, 13126, 71171, 75338, 11037, 62736, 57919, 37046, 82645, 73377, 66703, 49166, 11934, 968, 66908, 2410, 19238, 74912, 43656, 80154, 81766, 86980, 82452, 53536, 13422]\n"
          ]
        }
      ]
    },
    {
      "cell_type": "code",
      "source": [
        "my_1000_samples = dataset.iloc[randomlist]"
      ],
      "metadata": {
        "id": "BcEsB6jiP2mH"
      },
      "execution_count": 32,
      "outputs": []
    },
    {
      "cell_type": "code",
      "execution_count": 33,
      "metadata": {
        "id": "rzTi7vZ4QYsh"
      },
      "outputs": [],
      "source": [
        "my_X_input_ids = np.zeros((len(my_1000_samples), MAX_LENGTH))\n",
        "my_X_attention_masks = np.zeros((len(my_1000_samples), MAX_LENGTH))"
      ]
    },
    {
      "cell_type": "code",
      "execution_count": 34,
      "metadata": {
        "id": "eBymcLH9QYsh"
      },
      "outputs": [],
      "source": [
        "my_X_input_ids, my_X_attention_masks = convert_data_into_input_example(my_1000_samples, my_X_input_ids, my_X_attention_masks, tokenizer)"
      ]
    },
    {
      "cell_type": "code",
      "execution_count": 35,
      "metadata": {
        "id": "KokTlMY-QYsi",
        "colab": {
          "base_uri": "https://localhost:8080/"
        },
        "outputId": "81f171d6-3119-476e-ad94-c10fcd2126e4"
      },
      "outputs": [
        {
          "output_type": "execute_result",
          "data": {
            "text/plain": [
              "array([[  101.,   790., 15450., ...,     0.,     0.,     0.],\n",
              "       [  101.,   790., 15450., ...,     0.,     0.,     0.],\n",
              "       [  101., 16079., 10278., ...,     0.,     0.,     0.],\n",
              "       ...,\n",
              "       [  101., 17534., 10498., ...,     0.,     0.,     0.],\n",
              "       [  101., 16079., 10327., ...,     0.,     0.,     0.],\n",
              "       [  101., 10327., 13879., ...,     0.,     0.,     0.]])"
            ]
          },
          "metadata": {},
          "execution_count": 35
        }
      ],
      "source": [
        "my_X_input_ids"
      ]
    },
    {
      "cell_type": "code",
      "execution_count": 36,
      "metadata": {
        "id": "DH_IJ5zIQYsi",
        "colab": {
          "base_uri": "https://localhost:8080/"
        },
        "outputId": "4740c14c-17af-436c-a12c-5595836c0d7c"
      },
      "outputs": [
        {
          "output_type": "execute_result",
          "data": {
            "text/plain": [
              "array([[0., 0., 0., ..., 0., 1., 0.],\n",
              "       [0., 0., 0., ..., 0., 1., 0.],\n",
              "       [0., 0., 0., ..., 0., 0., 1.],\n",
              "       ...,\n",
              "       [1., 0., 0., ..., 0., 0., 0.],\n",
              "       [0., 0., 0., ..., 1., 0., 0.],\n",
              "       [0., 0., 0., ..., 0., 1., 0.]], dtype=float32)"
            ]
          },
          "metadata": {},
          "execution_count": 36
        }
      ],
      "source": [
        "my_labels = tf.keras.utils.to_categorical(my_1000_samples[\"Labels\"].values, num_classes=10)\n",
        "my_labels"
      ]
    },
    {
      "cell_type": "code",
      "execution_count": 37,
      "metadata": {
        "id": "GPsx7gfrQYsj"
      },
      "outputs": [],
      "source": [
        "final_my_1000_samples = tf.data.Dataset.from_tensor_slices((my_X_input_ids, my_X_attention_masks, my_labels))"
      ]
    },
    {
      "cell_type": "code",
      "source": [
        "def DatsetMapFunc(input_ids, attn_masks, labels):\n",
        "  return {\n",
        "      'input_ids':input_ids,\n",
        "      'attention_mask': attn_masks\n",
        "  }, labels"
      ],
      "metadata": {
        "id": "KJKbxHzjRpJt"
      },
      "execution_count": 38,
      "outputs": []
    },
    {
      "cell_type": "code",
      "execution_count": 39,
      "metadata": {
        "id": "8SNpAUwwQYsj"
      },
      "outputs": [],
      "source": [
        "final_my_1000_samples = final_my_1000_samples.map(DatsetMapFunc)"
      ]
    },
    {
      "cell_type": "code",
      "source": [
        "final_my_1000_samples"
      ],
      "metadata": {
        "colab": {
          "base_uri": "https://localhost:8080/"
        },
        "id": "iqwf27pnRyJs",
        "outputId": "219352ca-4f01-4b8c-a84b-dea2284ecbf1"
      },
      "execution_count": 40,
      "outputs": [
        {
          "output_type": "execute_result",
          "data": {
            "text/plain": [
              "<MapDataset element_spec=({'input_ids': TensorSpec(shape=(128,), dtype=tf.float64, name=None), 'attention_mask': TensorSpec(shape=(128,), dtype=tf.float64, name=None)}, TensorSpec(shape=(10,), dtype=tf.float32, name=None))>"
            ]
          },
          "metadata": {},
          "execution_count": 40
        }
      ]
    },
    {
      "cell_type": "code",
      "execution_count": 41,
      "metadata": {
        "id": "3nCrsOQ8QYsk"
      },
      "outputs": [],
      "source": [
        "BATCH_SIZE= 32\n",
        "final_my_1000_samples = final_my_1000_samples.batch(BATCH_SIZE, drop_remainder=True)"
      ]
    },
    {
      "cell_type": "code",
      "execution_count": 42,
      "metadata": {
        "colab": {
          "base_uri": "https://localhost:8080/"
        },
        "outputId": "ccc23a59-f46a-44b6-ff86-c3c743a98425",
        "id": "327wq8ATQYsl"
      },
      "outputs": [
        {
          "output_type": "execute_result",
          "data": {
            "text/plain": [
              "31"
            ]
          },
          "metadata": {},
          "execution_count": 42
        }
      ],
      "source": [
        "len(final_my_1000_samples)"
      ]
    },
    {
      "cell_type": "markdown",
      "metadata": {
        "id": "oBGtvMPPfNRF"
      },
      "source": [
        "## freeze BERT model"
      ]
    },
    {
      "cell_type": "code",
      "execution_count": null,
      "metadata": {
        "colab": {
          "base_uri": "https://localhost:8080/",
          "referenced_widgets": [
            "0f8b3f25a870443897a1121479574577",
            "7a0e637662524f30aac2dfaabb1f8828",
            "9358fc2c90194de1b0ba6ec070409472",
            "81049c72c8e941e8a69cea611e248bbf",
            "27727e5aa00043e89cf66b3673fbe604",
            "f870099b612e4153b29e08004557524e",
            "a4b7eaf601174605a13dd553929d97a7",
            "db25677b48e94e619951e80cea669437",
            "218f5001ca554804b87084a10985edcc",
            "7439656f83cc4ea5ae0904a69c3426d4",
            "2bf52ad57ac74a93af6169da3af8b43a"
          ]
        },
        "id": "4cL9nDqkfelJ",
        "outputId": "f4ee0472-54af-40b1-abd7-d43bb6092f19"
      },
      "outputs": [
        {
          "output_type": "display_data",
          "data": {
            "text/plain": [
              "Downloading (…)\"tf_model.h5\";:   0%|          | 0.00/1.08G [00:00<?, ?B/s]"
            ],
            "application/vnd.jupyter.widget-view+json": {
              "version_major": 2,
              "version_minor": 0,
              "model_id": "0f8b3f25a870443897a1121479574577"
            }
          },
          "metadata": {}
        },
        {
          "output_type": "stream",
          "name": "stderr",
          "text": [
            "Some layers from the model checkpoint at bert-base-multilingual-cased were not used when initializing TFBertModel: ['mlm___cls', 'nsp___cls']\n",
            "- This IS expected if you are initializing TFBertModel from the checkpoint of a model trained on another task or with another architecture (e.g. initializing a BertForSequenceClassification model from a BertForPreTraining model).\n",
            "- This IS NOT expected if you are initializing TFBertModel from the checkpoint of a model that you expect to be exactly identical (initializing a BertForSequenceClassification model from a BertForSequenceClassification model).\n",
            "All the layers of TFBertModel were initialized from the model checkpoint at bert-base-multilingual-cased.\n",
            "If your task is similar to the task the model of the checkpoint was trained on, you can already use TFBertModel for predictions without further training.\n"
          ]
        }
      ],
      "source": [
        "bert_model = TFBertModel.from_pretrained('bert-base-multilingual-cased')"
      ]
    },
    {
      "cell_type": "code",
      "execution_count": null,
      "metadata": {
        "id": "tf20rB8dkG03"
      },
      "outputs": [],
      "source": [
        "bert_model.trainable = False"
      ]
    },
    {
      "cell_type": "code",
      "execution_count": null,
      "metadata": {
        "colab": {
          "base_uri": "https://localhost:8080/"
        },
        "id": "zn8xdg37k3Ys",
        "outputId": "6a6d922d-40b1-496f-b5cb-282265417cab"
      },
      "outputs": [
        {
          "output_type": "stream",
          "name": "stdout",
          "text": [
            "Model: \"tf_bert_model\"\n",
            "_________________________________________________________________\n",
            " Layer (type)                Output Shape              Param #   \n",
            "=================================================================\n",
            " bert (TFBertMainLayer)      multiple                  177853440 \n",
            "                                                                 \n",
            "=================================================================\n",
            "Total params: 177,853,440\n",
            "Trainable params: 0\n",
            "Non-trainable params: 177,853,440\n",
            "_________________________________________________________________\n"
          ]
        }
      ],
      "source": [
        "bert_model.summary(())"
      ]
    },
    {
      "cell_type": "code",
      "execution_count": null,
      "metadata": {
        "colab": {
          "base_uri": "https://localhost:8080/"
        },
        "id": "GdomC8S4fVvZ",
        "outputId": "c98f0c80-a690-4fb8-fba7-e100fcbfa61a"
      },
      "outputs": [
        {
          "output_type": "stream",
          "name": "stdout",
          "text": [
            "Model: \"model\"\n",
            "__________________________________________________________________________________________________\n",
            " Layer (type)                   Output Shape         Param #     Connected to                     \n",
            "==================================================================================================\n",
            " input_ids (InputLayer)         [(None, 128)]        0           []                               \n",
            "                                                                                                  \n",
            " attention_mask (InputLayer)    [(None, 128)]        0           []                               \n",
            "                                                                                                  \n",
            " tf_bert_model (TFBertModel)    TFBaseModelOutputWi  177853440   ['input_ids[0][0]',              \n",
            "                                thPoolingAndCrossAt               'attention_mask[0][0]']         \n",
            "                                tentions(last_hidde                                               \n",
            "                                n_state=(None, 128,                                               \n",
            "                                 768),                                                            \n",
            "                                 pooler_output=(Non                                               \n",
            "                                e, 768),                                                          \n",
            "                                 past_key_values=No                                               \n",
            "                                ne, hidden_states=N                                               \n",
            "                                one, attentions=Non                                               \n",
            "                                e, cross_attentions                                               \n",
            "                                =None)                                                            \n",
            "                                                                                                  \n",
            " intermeiate_layer (Dense)      (None, 512)          393728      ['tf_bert_model[0][1]']          \n",
            "                                                                                                  \n",
            " output_layer (Dense)           (None, 10)           5130        ['intermeiate_layer[0][0]']      \n",
            "                                                                                                  \n",
            "==================================================================================================\n",
            "Total params: 178,252,298\n",
            "Trainable params: 398,858\n",
            "Non-trainable params: 177,853,440\n",
            "__________________________________________________________________________________________________\n"
          ]
        }
      ],
      "source": [
        "input_ids = tf.keras.layers.Input(shape=(MAX_LENGTH,), name = 'input_ids', dtype= 'int32')\n",
        "attention_masks = tf.keras.layers.Input(shape=(MAX_LENGTH,), name = 'attention_mask', dtype= 'int32')\n",
        "bert_embeds = bert_model(input_ids, attention_mask = attention_masks)[1]\n",
        "\n",
        "intermeiate_layer = tf.keras.layers.Dense(512, activation='relu', name = 'intermeiate_layer')(bert_embeds)\n",
        "output_layer = tf.keras.layers.Dense(10, activation='softmax', name = 'output_layer')(intermeiate_layer)\n",
        "model = tf.keras.Model(inputs=[input_ids, attention_masks], outputs=output_layer)\n",
        "model.summary()"
      ]
    },
    {
      "cell_type": "code",
      "execution_count": null,
      "metadata": {
        "id": "dvJTF-gPjoGz"
      },
      "outputs": [],
      "source": [
        "optimizer = tf.keras.optimizers.Adam(learning_rate=2e-5, epsilon=1e-08, clipnorm=1.0)\n",
        "loss = tf.keras.losses.CategoricalCrossentropy()\n",
        "metric = tf.keras.metrics.CategoricalAccuracy('accuracy')\n",
        "EPOCHS = 5\n",
        "model.compile(optimizer=optimizer, loss=loss, metrics=[metric])"
      ]
    },
    {
      "cell_type": "code",
      "execution_count": null,
      "metadata": {
        "colab": {
          "base_uri": "https://localhost:8080/"
        },
        "id": "psHr34uDjoGz",
        "outputId": "dae13b2f-bf48-4c7a-ee7c-8a0e1376b969"
      },
      "outputs": [
        {
          "output_type": "stream",
          "name": "stdout",
          "text": [
            "Epoch 1/5\n",
            "2356/2356 [==============================] - 761s 320ms/step - loss: 2.2774 - accuracy: 0.1433 - val_loss: 2.2471 - val_accuracy: 0.1749\n",
            "Epoch 2/5\n",
            "2356/2356 [==============================] - 751s 319ms/step - loss: 2.2353 - accuracy: 0.1819 - val_loss: 2.2056 - val_accuracy: 0.2104\n",
            "Epoch 3/5\n",
            "2356/2356 [==============================] - 752s 319ms/step - loss: 2.2075 - accuracy: 0.1956 - val_loss: 2.1801 - val_accuracy: 0.2192\n",
            "Epoch 4/5\n",
            "2356/2356 [==============================] - 752s 319ms/step - loss: 2.1858 - accuracy: 0.2082 - val_loss: 2.1585 - val_accuracy: 0.2256\n",
            "Epoch 5/5\n",
            "2356/2356 [==============================] - 752s 319ms/step - loss: 2.1705 - accuracy: 0.2120 - val_loss: 2.1385 - val_accuracy: 0.2344\n"
          ]
        }
      ],
      "source": [
        "history = model.fit(train_dataset, validation_data=val_dataset, epochs = EPOCHS)"
      ]
    },
    {
      "cell_type": "code",
      "source": [
        "model.save('/content/drive/MyDrive/deep_learning_hws/HWs/4/P3/model_a') "
      ],
      "metadata": {
        "id": "LIBQkjgzT2bL",
        "colab": {
          "base_uri": "https://localhost:8080/"
        },
        "outputId": "12fe517a-04fb-47f9-8027-0bb10f8b6053"
      },
      "execution_count": null,
      "outputs": [
        {
          "output_type": "stream",
          "name": "stderr",
          "text": [
            "WARNING:absl:Found untraced functions such as embeddings_layer_call_fn, embeddings_layer_call_and_return_conditional_losses, encoder_layer_call_fn, encoder_layer_call_and_return_conditional_losses, pooler_layer_call_fn while saving (showing 5 of 420). These functions will not be directly callable after loading.\n"
          ]
        }
      ]
    },
    {
      "cell_type": "markdown",
      "source": [
        "#### evaluation results"
      ],
      "metadata": {
        "id": "B_U39oBC_8ro"
      }
    },
    {
      "cell_type": "code",
      "source": [
        "preds = model.predict(test_dataset)\n",
        "Y_pred_labels = preds.argmax(axis=1)\n",
        "data, labels = tuple(zip(*test_dataset))\n",
        "Y_test=[]\n",
        "for i in range(len(labels)):\n",
        "  for j in range(32):\n",
        "    Y_test.append(labels[i][j])\n",
        "\n",
        "\n",
        "Y_test_labels=np.zeros_like(Y_pred_labels)\n",
        "ind=0\n",
        "for t in Y_test:\n",
        "  Y_test_labels[ind] = (t.numpy()).argmax()\n",
        "  ind+=1"
      ],
      "metadata": {
        "colab": {
          "base_uri": "https://localhost:8080/"
        },
        "id": "bvdmEQC-pHZt",
        "outputId": "8a0ba12e-a76e-42c8-b64d-daa8843efe78"
      },
      "execution_count": null,
      "outputs": [
        {
          "output_type": "stream",
          "name": "stdout",
          "text": [
            "296/296 [==============================] - 82s 266ms/step\n"
          ]
        }
      ]
    },
    {
      "cell_type": "code",
      "source": [
        "\n",
        "\n",
        "# labels = ['amir','attar', 'bahar', 'farrokhi', 'ferdousi', 'hafez','feyz',  'parvin', 'saadi',  'vahshi']\n",
        "cm = metrics.confusion_matrix(list(Y_test_labels), list(Y_pred_labels) )\n",
        "print(cm)\n",
        "fig = plt.figure()\n",
        "ax = fig.add_subplot(111)\n",
        "cax = ax.matshow(cm)\n",
        "plt.title('Confusion matrix of the classifier')\n",
        "fig.colorbar(cax)\n",
        "# ax.set_xticklabels( labels)\n",
        "# ax.set_yticklabels(labels)\n",
        "plt.xlabel('Predicted')\n",
        "plt.ylabel('True')\n",
        "plt.show()\n",
        "\n",
        "print('-'*100)\n",
        "print('loss and acuuracy for test dataset')\n",
        "loss, accuracy = model.evaluate(test_dataset)\n",
        "print('result for test dataset: loss is {}, acuuracy is {}'.format(loss, accuracy))\n",
        "print('-'*100)\n",
        "print('Precision: %.8f' % metrics.precision_score(Y_test_labels, Y_pred_labels,average= 'weighted'))\n",
        "print('Recall: %.8f' % metrics.recall_score(Y_test_labels, Y_pred_labels,average= 'weighted'))\n",
        "print('Accuracy: %.8f' % metrics.accuracy_score(Y_test_labels, Y_pred_labels))\n",
        "print('F1 Score(micro): %.8f' % metrics.f1_score(Y_test_labels, Y_pred_labels,average= 'micro'))\n",
        "print('-'*100)"
      ],
      "metadata": {
        "id": "xI2T4PuTUjs_",
        "colab": {
          "base_uri": "https://localhost:8080/"
        },
        "outputId": "62011cf4-b342-4651-8cf0-3204399b17b0"
      },
      "execution_count": null,
      "outputs": [
        {
          "output_type": "stream",
          "name": "stdout",
          "text": [
            "[[200  72  24  54  93  32  78 255 159   0]\n",
            " [179  94  33  59  74  24  62 238 164   6]\n",
            " [166  88  26  50  95  33  65 227 161   7]\n",
            " [162  94  29  60 107  26  61 260 200   9]\n",
            " [163  84  27  55 110  30  72 258 144   9]\n",
            " [183  84  29  50  93  29  77 243 177   4]\n",
            " [184  91  31  60  86  28  62 248 193   3]\n",
            " [164  79  42  54  96  28  50 223 177   5]\n",
            " [144  90  26  53 109  23  63 235 169   3]\n",
            " [163  85  24  60  82  17  69 250 151   5]]\n"
          ]
        },
        {
          "output_type": "display_data",
          "data": {
            "text/plain": [
              "<Figure size 432x288 with 2 Axes>"
            ],
            "image/png": "[encoded data removed]"
          },
          "metadata": {
            "needs_background": "light"
          }
        },
        {
          "output_type": "stream",
          "name": "stdout",
          "text": [
            "----------------------------------------------------------------------------------------------------\n",
            "loss and acuuracy for test dataset\n",
            "296/296 [==============================] - 81s 268ms/step - loss: 2.1411 - accuracy: 0.2302\n",
            "result for test dataset: loss is 2.141146421432495, acuuracy is 0.23015202581882477\n",
            "----------------------------------------------------------------------------------------------------\n",
            "Precision: 0.10323053\n",
            "Recall: 0.10325169\n",
            "Accuracy: 0.10325169\n",
            "F1 Score(micro): 0.10325169\n",
            "----------------------------------------------------------------------------------------------------\n"
          ]
        }
      ]
    },
    {
      "cell_type": "markdown",
      "metadata": {
        "id": "jeMOlxyWfI06"
      },
      "source": [
        "## finetuning(Adam)"
      ]
    },
    {
      "cell_type": "code",
      "execution_count": null,
      "metadata": {
        "id": "HvlPZiAOfhKh",
        "colab": {
          "base_uri": "https://localhost:8080/"
        },
        "outputId": "0f163ad1-567a-468e-b08e-b7e4ce4ccbb2"
      },
      "outputs": [
        {
          "output_type": "stream",
          "name": "stderr",
          "text": [
            "Some layers from the model checkpoint at bert-base-multilingual-cased were not used when initializing TFBertModel: ['mlm___cls', 'nsp___cls']\n",
            "- This IS expected if you are initializing TFBertModel from the checkpoint of a model trained on another task or with another architecture (e.g. initializing a BertForSequenceClassification model from a BertForPreTraining model).\n",
            "- This IS NOT expected if you are initializing TFBertModel from the checkpoint of a model that you expect to be exactly identical (initializing a BertForSequenceClassification model from a BertForSequenceClassification model).\n",
            "All the layers of TFBertModel were initialized from the model checkpoint at bert-base-multilingual-cased.\n",
            "If your task is similar to the task the model of the checkpoint was trained on, you can already use TFBertModel for predictions without further training.\n"
          ]
        }
      ],
      "source": [
        "bert_model = TFBertModel.from_pretrained('bert-base-multilingual-cased')   #introduced for farsi(link:https://www.youtube.com/watch?v=Gn8gB6CD0ak)"
      ]
    },
    {
      "cell_type": "code",
      "execution_count": null,
      "metadata": {
        "colab": {
          "base_uri": "https://localhost:8080/"
        },
        "id": "GguJxeI1NNu-",
        "outputId": "58ac61ae-d087-46f4-b38a-8c727924d703"
      },
      "outputs": [
        {
          "output_type": "stream",
          "name": "stdout",
          "text": [
            "Model: \"model_2\"\n",
            "__________________________________________________________________________________________________\n",
            " Layer (type)                   Output Shape         Param #     Connected to                     \n",
            "==================================================================================================\n",
            " input_ids (InputLayer)         [(None, 128)]        0           []                               \n",
            "                                                                                                  \n",
            " attention_mask (InputLayer)    [(None, 128)]        0           []                               \n",
            "                                                                                                  \n",
            " tf_bert_model_2 (TFBertModel)  TFBaseModelOutputWi  177853440   ['input_ids[0][0]',              \n",
            "                                thPoolingAndCrossAt               'attention_mask[0][0]']         \n",
            "                                tentions(last_hidde                                               \n",
            "                                n_state=(None, 128,                                               \n",
            "                                 768),                                                            \n",
            "                                 pooler_output=(Non                                               \n",
            "                                e, 768),                                                          \n",
            "                                 past_key_values=No                                               \n",
            "                                ne, hidden_states=N                                               \n",
            "                                one, attentions=Non                                               \n",
            "                                e, cross_attentions                                               \n",
            "                                =None)                                                            \n",
            "                                                                                                  \n",
            " intermeiate_layer (Dense)      (None, 512)          393728      ['tf_bert_model_2[0][1]']        \n",
            "                                                                                                  \n",
            " output_layer (Dense)           (None, 10)           5130        ['intermeiate_layer[0][0]']      \n",
            "                                                                                                  \n",
            "==================================================================================================\n",
            "Total params: 178,252,298\n",
            "Trainable params: 178,252,298\n",
            "Non-trainable params: 0\n",
            "__________________________________________________________________________________________________\n"
          ]
        }
      ],
      "source": [
        "input_ids = tf.keras.layers.Input(shape=(MAX_LENGTH,), name = 'input_ids', dtype= 'int32')\n",
        "attention_masks = tf.keras.layers.Input(shape=(MAX_LENGTH,), name = 'attention_mask', dtype= 'int32')\n",
        "bert_embeds = bert_model(input_ids, attention_mask = attention_masks)[1]\n",
        "intermeiate_layer = tf.keras.layers.Dense(512, activation='relu', name = 'intermeiate_layer')(bert_embeds)\n",
        "output_layer = tf.keras.layers.Dense(10, activation='softmax', name = 'output_layer')(intermeiate_layer)\n",
        "model = tf.keras.Model(inputs=[input_ids, attention_masks], outputs=output_layer)\n",
        "model.summary()"
      ]
    },
    {
      "cell_type": "code",
      "execution_count": null,
      "metadata": {
        "id": "TkGCc0jlOqUs"
      },
      "outputs": [],
      "source": [
        "optimizer = tf.keras.optimizers.Adam(learning_rate=2e-5, epsilon=1e-08, clipnorm=1.0)\n",
        "loss = tf.keras.losses.CategoricalCrossentropy()\n",
        "metric = tf.keras.metrics.CategoricalAccuracy('accuracy')\n",
        "EPOCHS = 5\n",
        "model.compile(optimizer=optimizer, loss=loss, metrics=[metric])"
      ]
    },
    {
      "cell_type": "code",
      "execution_count": null,
      "metadata": {
        "colab": {
          "base_uri": "https://localhost:8080/"
        },
        "id": "2rFvfY5lP7D5",
        "outputId": "659994ec-fd79-4de8-8e98-e36ab568397b"
      },
      "outputs": [
        {
          "output_type": "stream",
          "name": "stdout",
          "text": [
            "Epoch 1/5\n",
            "2356/2356 [==============================] - 2007s 846ms/step - loss: 1.6813 - accuracy: 0.3998 - val_loss: 1.2543 - val_accuracy: 0.5689\n",
            "Epoch 2/5\n",
            "2356/2356 [==============================] - 1995s 847ms/step - loss: 1.2424 - accuracy: 0.5677 - val_loss: 1.0286 - val_accuracy: 0.6567\n",
            "Epoch 3/5\n",
            "2356/2356 [==============================] - 1995s 847ms/step - loss: 1.0124 - accuracy: 0.6512 - val_loss: 0.9051 - val_accuracy: 0.6935\n",
            "Epoch 4/5\n",
            "2356/2356 [==============================] - 1997s 848ms/step - loss: 0.8383 - accuracy: 0.7149 - val_loss: 0.8587 - val_accuracy: 0.7195\n",
            "Epoch 5/5\n",
            "2356/2356 [==============================] - 1994s 846ms/step - loss: 0.6902 - accuracy: 0.7652 - val_loss: 0.7653 - val_accuracy: 0.7509\n"
          ]
        }
      ],
      "source": [
        "history = model.fit(train_dataset, validation_data=val_dataset, epochs = EPOCHS)"
      ]
    },
    {
      "cell_type": "code",
      "source": [
        "model.save('/content/drive/MyDrive/deep_learning_hws/HWs/4/P3/model_b.h5') "
      ],
      "metadata": {
        "id": "gNvwnede4DEQ"
      },
      "execution_count": null,
      "outputs": []
    },
    {
      "cell_type": "markdown",
      "source": [
        "#### evaluation results"
      ],
      "metadata": {
        "id": "B-c57Xce4Dn9"
      }
    },
    {
      "cell_type": "code",
      "source": [
        "# loaded_model = tf.keras.models.load_model('/content/drive/MyDrive/deep_learning_hws/HWs/4/P3/model_b.h5', custom_objects={\"TFBertModel\": transformers.TFBertModel})"
      ],
      "metadata": {
        "id": "GZfg44iBh30j"
      },
      "execution_count": null,
      "outputs": []
    },
    {
      "cell_type": "code",
      "source": [
        "preds = model.predict(test_dataset)\n",
        "Y_pred_labels = preds.argmax(axis=1)\n",
        "data, labels = tuple(zip(*test_dataset))\n",
        "Y_test=[]\n",
        "for i in range(len(labels)):\n",
        "  for j in range(32):\n",
        "    Y_test.append(labels[i][j])\n",
        "\n",
        "\n",
        "Y_test_labels=np.zeros_like(Y_pred_labels)\n",
        "ind=0\n",
        "for t in Y_test:\n",
        "  Y_test_labels[ind] = (t.numpy()).argmax()\n",
        "  ind+=1"
      ],
      "metadata": {
        "colab": {
          "base_uri": "https://localhost:8080/"
        },
        "outputId": "50fac60c-f550-4e54-d877-6e6fffc2bf15",
        "id": "oYc4f0CI4Dn-"
      },
      "execution_count": null,
      "outputs": [
        {
          "output_type": "stream",
          "name": "stdout",
          "text": [
            "296/296 [==============================] - 83s 268ms/step\n"
          ]
        }
      ]
    },
    {
      "cell_type": "code",
      "source": [
        "# labels = ['amir','attar', 'bahar', 'farrokhi', 'ferdousi', 'hafez','feyz',  'parvin', 'saadi',  'vahshi']\n",
        "cm = metrics.confusion_matrix(list(Y_test_labels), list(Y_pred_labels) )\n",
        "print(cm)\n",
        "fig = plt.figure()\n",
        "ax = fig.add_subplot(111)\n",
        "cax = ax.matshow(cm)\n",
        "plt.title('Confusion matrix of the classifier')\n",
        "fig.colorbar(cax)\n",
        "# ax.set_xticklabels( labels)\n",
        "# ax.set_yticklabels(labels)\n",
        "plt.xlabel('Predicted')\n",
        "plt.ylabel('True')\n",
        "plt.show()\n",
        "\n",
        "print('-'*100)\n",
        "print('loss and acuuracy for test dataset')\n",
        "loss, accuracy = model.evaluate(test_dataset)\n",
        "print('result for test dataset: loss is {}, acuuracy is {}'.format(loss, accuracy))\n",
        "print('-'*100)\n",
        "print('Precision: %.8f' % metrics.precision_score(Y_test_labels, Y_pred_labels,average= 'weighted'))\n",
        "print('Recall: %.8f' % metrics.recall_score(Y_test_labels, Y_pred_labels,average= 'weighted'))\n",
        "print('Accuracy: %.8f' % metrics.accuracy_score(Y_test_labels, Y_pred_labels))\n",
        "print('F1 Score(micro): %.8f' % metrics.f1_score(Y_test_labels, Y_pred_labels,average= 'micro'))\n",
        "print('-'*100)"
      ],
      "metadata": {
        "colab": {
          "base_uri": "https://localhost:8080/",
          "height": 636
        },
        "outputId": "e0a79289-8e5e-4a75-cc02-0feac343d498",
        "id": "fT0Bo52q4Dn-"
      },
      "execution_count": null,
      "outputs": [
        {
          "output_type": "stream",
          "name": "stdout",
          "text": [
            "[[ 92  95  78 106  95  48 106  97  79 144]\n",
            " [ 90 104  90 116  92  56 104  88 113 113]\n",
            " [132 102  67  99  95  60 114 116  92 118]\n",
            " [ 86 101  84  85  97  60 120  93  97 111]\n",
            " [ 89  95  73  78 118  54 108  91  97 108]\n",
            " [100  88  73  92  87  72 126 105  90 104]\n",
            " [ 77  99  79  98 111  36  94 106  85 129]\n",
            " [101  99  85  99  81  40  99 113 102 110]\n",
            " [ 82  95  81  84 118  60 103 125 105 120]\n",
            " [ 96 106  74  97 107  57 104  99 118 115]]\n"
          ]
        },
        {
          "output_type": "display_data",
          "data": {
            "text/plain": [
              "<Figure size 432x288 with 2 Axes>"
            ],
            "image/png": "[encoded data removed]"
          },
          "metadata": {
            "needs_background": "light"
          }
        },
        {
          "output_type": "stream",
          "name": "stdout",
          "text": [
            "----------------------------------------------------------------------------------------------------\n",
            "loss and acuuracy for test dataset\n",
            "296/296 [==============================] - 82s 270ms/step - loss: 0.8997 - accuracy: 0.7042\n",
            "result for test dataset: loss is 0.8997077941894531, acuuracy is 0.7041807174682617\n",
            "----------------------------------------------------------------------------------------------------\n",
            "Precision: 0.10290900\n",
            "Recall: 0.10187922\n",
            "Accuracy: 0.10187922\n",
            "F1 Score(micro): 0.10187922\n",
            "----------------------------------------------------------------------------------------------------\n"
          ]
        }
      ]
    },
    {
      "cell_type": "markdown",
      "metadata": {
        "id": "7NGCYuas5vni"
      },
      "source": [
        "## finetuning(SGD)"
      ]
    },
    {
      "cell_type": "code",
      "execution_count": null,
      "metadata": {
        "id": "Z6q1Md8h5vnr",
        "colab": {
          "base_uri": "https://localhost:8080/",
          "height": 156,
          "referenced_widgets": [
            "23452f8ea1db41c5917479f368bc3bd1",
            "8b0efc1ed572407c98b0a5a2bd4bcc8e",
            "f0d206a48d934ff8bbfc6106fe8bf515",
            "570ddba07ede445085cafc64f7ff224a",
            "6ac362f8350246eabf029c717f3dbd63",
            "bf0c0a3b433e44c8879d18938cf5f4b8",
            "55f4c796c1a84343aa99f6b13a8a1bbe",
            "cd767a099dab4be6b32034c818dccc5b",
            "d82fd66799904b61be5071ccac1a6dd4",
            "80ade2b941b2407f9d4718e5b0f96e95",
            "10871aa5cb62402db673579ab129e7cc"
          ]
        },
        "outputId": "fb981a2a-e5d8-4cb3-be65-f64f6bce56a7"
      },
      "outputs": [
        {
          "output_type": "display_data",
          "data": {
            "text/plain": [
              "Downloading (…)\"tf_model.h5\";:   0%|          | 0.00/1.08G [00:00<?, ?B/s]"
            ],
            "application/vnd.jupyter.widget-view+json": {
              "version_major": 2,
              "version_minor": 0,
              "model_id": "23452f8ea1db41c5917479f368bc3bd1"
            }
          },
          "metadata": {}
        },
        {
          "output_type": "stream",
          "name": "stderr",
          "text": [
            "Some layers from the model checkpoint at bert-base-multilingual-cased were not used when initializing TFBertModel: ['nsp___cls', 'mlm___cls']\n",
            "- This IS expected if you are initializing TFBertModel from the checkpoint of a model trained on another task or with another architecture (e.g. initializing a BertForSequenceClassification model from a BertForPreTraining model).\n",
            "- This IS NOT expected if you are initializing TFBertModel from the checkpoint of a model that you expect to be exactly identical (initializing a BertForSequenceClassification model from a BertForSequenceClassification model).\n",
            "All the layers of TFBertModel were initialized from the model checkpoint at bert-base-multilingual-cased.\n",
            "If your task is similar to the task the model of the checkpoint was trained on, you can already use TFBertModel for predictions without further training.\n"
          ]
        }
      ],
      "source": [
        "bert_model = TFBertModel.from_pretrained('bert-base-multilingual-cased')   #introduced for farsi(link:https://www.youtube.com/watch?v=Gn8gB6CD0ak)"
      ]
    },
    {
      "cell_type": "code",
      "execution_count": null,
      "metadata": {
        "id": "6WkYitop5vnr",
        "colab": {
          "base_uri": "https://localhost:8080/"
        },
        "outputId": "63dd187b-7c8d-4b1d-e96b-11e39745e7bc"
      },
      "outputs": [
        {
          "output_type": "stream",
          "name": "stdout",
          "text": [
            "Model: \"model\"\n",
            "__________________________________________________________________________________________________\n",
            " Layer (type)                   Output Shape         Param #     Connected to                     \n",
            "==================================================================================================\n",
            " input_ids (InputLayer)         [(None, 128)]        0           []                               \n",
            "                                                                                                  \n",
            " attention_mask (InputLayer)    [(None, 128)]        0           []                               \n",
            "                                                                                                  \n",
            " tf_bert_model (TFBertModel)    TFBaseModelOutputWi  177853440   ['input_ids[0][0]',              \n",
            "                                thPoolingAndCrossAt               'attention_mask[0][0]']         \n",
            "                                tentions(last_hidde                                               \n",
            "                                n_state=(None, 128,                                               \n",
            "                                 768),                                                            \n",
            "                                 pooler_output=(Non                                               \n",
            "                                e, 768),                                                          \n",
            "                                 past_key_values=No                                               \n",
            "                                ne, hidden_states=N                                               \n",
            "                                one, attentions=Non                                               \n",
            "                                e, cross_attentions                                               \n",
            "                                =None)                                                            \n",
            "                                                                                                  \n",
            " intermeiate_layer (Dense)      (None, 512)          393728      ['tf_bert_model[0][1]']          \n",
            "                                                                                                  \n",
            " output_layer (Dense)           (None, 10)           5130        ['intermeiate_layer[0][0]']      \n",
            "                                                                                                  \n",
            "==================================================================================================\n",
            "Total params: 178,252,298\n",
            "Trainable params: 178,252,298\n",
            "Non-trainable params: 0\n",
            "__________________________________________________________________________________________________\n"
          ]
        }
      ],
      "source": [
        "input_ids = tf.keras.layers.Input(shape=(MAX_LENGTH,), name = 'input_ids', dtype= 'int32')\n",
        "attention_masks = tf.keras.layers.Input(shape=(MAX_LENGTH,), name = 'attention_mask', dtype= 'int32')\n",
        "bert_embeds = bert_model(input_ids, attention_mask = attention_masks)[1]\n",
        "intermeiate_layer = tf.keras.layers.Dense(512, activation='relu', name = 'intermeiate_layer')(bert_embeds)\n",
        "output_layer = tf.keras.layers.Dense(10, activation='softmax', name = 'output_layer')(intermeiate_layer)\n",
        "model = tf.keras.Model(inputs=[input_ids, attention_masks], outputs=output_layer)\n",
        "model.summary()"
      ]
    },
    {
      "cell_type": "code",
      "execution_count": null,
      "metadata": {
        "id": "RCplUlDw5vnr"
      },
      "outputs": [],
      "source": [
        "optimizer = tf.keras.optimizers.experimental.SGD(learning_rate=2e-5, clipnorm=1.0)\n",
        "loss = tf.keras.losses.CategoricalCrossentropy()\n",
        "metric = tf.keras.metrics.CategoricalAccuracy('accuracy')\n",
        "EPOCHS = 5\n",
        "model.compile(optimizer=optimizer, loss=loss, metrics=[metric])"
      ]
    },
    {
      "cell_type": "code",
      "execution_count": null,
      "metadata": {
        "colab": {
          "base_uri": "https://localhost:8080/"
        },
        "outputId": "88b021da-9254-4dfd-d506-fe73cf569e9f",
        "id": "VhC7Gl3v0wjR"
      },
      "outputs": [
        {
          "output_type": "stream",
          "name": "stdout",
          "text": [
            "Epoch 1/5\n",
            "2356/2356 [==============================] - 1816s 771ms/step - loss: 2.3232 - accuracy: 0.1015 - val_loss: 2.3081 - val_accuracy: 0.1050\n",
            "Epoch 2/5\n",
            "2356/2356 [==============================] - 1813s 769ms/step - loss: 2.3068 - accuracy: 0.1068 - val_loss: 2.3009 - val_accuracy: 0.1104\n",
            "Epoch 3/5\n",
            "2356/2356 [==============================] - 1814s 770ms/step - loss: 2.3014 - accuracy: 0.1111 - val_loss: 2.2955 - val_accuracy: 0.1180\n",
            "Epoch 4/5\n",
            "2356/2356 [==============================] - 1814s 770ms/step - loss: 2.2963 - accuracy: 0.1166 - val_loss: 2.2879 - val_accuracy: 0.1273\n",
            "Epoch 5/5\n",
            "2356/2356 [==============================] - 1812s 769ms/step - loss: 2.2894 - accuracy: 0.1265 - val_loss: 2.2815 - val_accuracy: 0.1371\n"
          ]
        }
      ],
      "source": [
        "history = model.fit(train_dataset, validation_data=val_dataset, epochs = EPOCHS)"
      ]
    },
    {
      "cell_type": "code",
      "source": [
        "model.save('/content/drive/MyDrive/deep_learning_hws/HWs/4/P3/model_c.h5') "
      ],
      "metadata": {
        "id": "-dqRsj065vns"
      },
      "execution_count": null,
      "outputs": []
    },
    {
      "cell_type": "markdown",
      "source": [
        "#### evaluation results"
      ],
      "metadata": {
        "id": "lguktOOt5vns"
      }
    },
    {
      "cell_type": "code",
      "source": [
        "# loaded_model = tf.keras.models.load_model('/content/drive/MyDrive/deep_learning_hws/HWs/4/P3/model_c.h5', custom_objects={\"TFBertModel\": transformers.TFBertModel})"
      ],
      "metadata": {
        "id": "pPf3jH7YAhR_"
      },
      "execution_count": null,
      "outputs": []
    },
    {
      "cell_type": "code",
      "source": [
        "preds = model.predict(test_dataset)\n",
        "Y_pred_labels = preds.argmax(axis=1)\n",
        "data, labels = tuple(zip(*test_dataset))\n",
        "Y_test=[]\n",
        "for i in range(len(labels)):\n",
        "  for j in range(32):\n",
        "    Y_test.append(labels[i][j])\n",
        "\n",
        "\n",
        "Y_test_labels=np.zeros_like(Y_pred_labels)\n",
        "ind=0\n",
        "for t in Y_test:\n",
        "  Y_test_labels[ind] = (t.numpy()).argmax()\n",
        "  ind+=1"
      ],
      "metadata": {
        "colab": {
          "base_uri": "https://localhost:8080/"
        },
        "outputId": "66da02bb-899b-4d57-e969-bf4fe3ca71c3",
        "id": "WGKh8TLo03Ds"
      },
      "execution_count": null,
      "outputs": [
        {
          "output_type": "stream",
          "name": "stdout",
          "text": [
            "296/296 [==============================] - 80s 257ms/step\n"
          ]
        }
      ]
    },
    {
      "cell_type": "code",
      "source": [
        "\n",
        "\n",
        "# labels = ['amir','attar', 'bahar', 'farrokhi', 'ferdousi', 'hafez','feyz',  'parvin', 'saadi',  'vahshi']\n",
        "cm = metrics.confusion_matrix(list(Y_test_labels), list(Y_pred_labels) )\n",
        "print(cm)\n",
        "fig = plt.figure()\n",
        "ax = fig.add_subplot(111)\n",
        "cax = ax.matshow(cm)\n",
        "plt.title('Confusion matrix of the classifier')\n",
        "fig.colorbar(cax)\n",
        "# ax.set_xticklabels( labels)\n",
        "# ax.set_yticklabels(labels)\n",
        "plt.xlabel('Predicted')\n",
        "plt.ylabel('True')\n",
        "plt.show()\n",
        "\n",
        "print('-'*100)\n",
        "print('loss and acuuracy for test dataset')\n",
        "loss, accuracy = model.evaluate(test_dataset)\n",
        "print('result for test dataset: loss is {}, acuuracy is {}'.format(loss, accuracy))\n",
        "print('-'*100)\n",
        "print('Precision: %.8f' % metrics.precision_score(Y_test_labels, Y_pred_labels,average= 'weighted'))\n",
        "print('Recall: %.8f' % metrics.recall_score(Y_test_labels, Y_pred_labels,average= 'weighted'))\n",
        "print('Accuracy: %.8f' % metrics.accuracy_score(Y_test_labels, Y_pred_labels))\n",
        "print('F1 Score(micro): %.8f' % metrics.f1_score(Y_test_labels, Y_pred_labels,average= 'micro'))\n",
        "print('-'*100)"
      ],
      "metadata": {
        "colab": {
          "base_uri": "https://localhost:8080/",
          "height": 654
        },
        "outputId": "5db8ff4a-c7cd-4131-e405-c4785a03ea1c",
        "id": "ztXB9s9X03Dt"
      },
      "execution_count": null,
      "outputs": [
        {
          "output_type": "stream",
          "name": "stdout",
          "text": [
            "[[ 34 250  57  36  87  97  82  34 237  27]\n",
            " [ 35 250  52  40  91  86  59  20 274  33]\n",
            " [ 29 238  51  49  91 105  72  17 257  33]\n",
            " [ 43 229  41  38 113 109  70  19 259  41]\n",
            " [ 39 219  58  35  95  98  81  24 246  33]\n",
            " [ 33 231  60  36 108  98  73  30 276  26]\n",
            " [ 34 224  47  51 101  98  74  21 240  45]\n",
            " [ 28 213  67  38 123 110  66  21 262  33]\n",
            " [ 24 229  45  50 100 121  70  15 268  36]\n",
            " [ 39 197  57  41  92 108  73  23 266  38]]\n"
          ]
        },
        {
          "output_type": "display_data",
          "data": {
            "text/plain": [
              "<Figure size 432x288 with 2 Axes>"
            ],
            "image/png": "[encoded data removed]"
          },
          "metadata": {
            "needs_background": "light"
          }
        },
        {
          "output_type": "stream",
          "name": "stdout",
          "text": [
            "----------------------------------------------------------------------------------------------------\n",
            "loss and acuuracy for test dataset\n",
            "296/296 [==============================] - 79s 259ms/step - loss: 2.2790 - accuracy: 0.1428\n",
            "result for test dataset: loss is 2.2790355682373047, acuuracy is 0.14284205436706543\n",
            "----------------------------------------------------------------------------------------------------\n",
            "Precision: 0.09973290\n",
            "Recall: 0.10209037\n",
            "Accuracy: 0.10209037\n",
            "F1 Score(micro): 0.10209037\n",
            "----------------------------------------------------------------------------------------------------\n"
          ]
        }
      ]
    },
    {
      "cell_type": "code",
      "source": [
        "#### Perplexity"
      ],
      "metadata": {
        "id": "JAjBXDvFY8BT"
      },
      "execution_count": null,
      "outputs": []
    },
    {
      "cell_type": "markdown",
      "source": [],
      "metadata": {
        "id": "vAdqxPtGZgtE"
      }
    },
    {
      "cell_type": "markdown",
      "source": [
        "## Perplexity"
      ],
      "metadata": {
        "id": "DpBo_s4XZgwN"
      }
    },
    {
      "cell_type": "code",
      "source": [
        "!pip install keras_nlp"
      ],
      "metadata": {
        "colab": {
          "base_uri": "https://localhost:8080/"
        },
        "id": "l9OsI_CUZG7J",
        "outputId": "546b66af-21ae-4d5d-d55e-ee5f8ac49bd3"
      },
      "execution_count": 43,
      "outputs": [
        {
          "output_type": "stream",
          "name": "stdout",
          "text": [
            "Looking in indexes: https://pypi.org/simple, https://us-python.pkg.dev/colab-wheels/public/simple/\n",
            "Requirement already satisfied: keras_nlp in /usr/local/lib/python3.8/dist-packages (0.4.0)\n",
            "Requirement already satisfied: numpy in /usr/local/lib/python3.8/dist-packages (from keras_nlp) (1.21.6)\n",
            "Requirement already satisfied: tensorflow-text in /usr/local/lib/python3.8/dist-packages (from keras_nlp) (2.9.0)\n",
            "Requirement already satisfied: packaging in /usr/local/lib/python3.8/dist-packages (from keras_nlp) (23.0)\n",
            "Requirement already satisfied: absl-py in /usr/local/lib/python3.8/dist-packages (from keras_nlp) (1.4.0)\n",
            "Requirement already satisfied: tensorflow in /usr/local/lib/python3.8/dist-packages (from keras_nlp) (2.9.2)\n",
            "Requirement already satisfied: typing-extensions>=3.6.6 in /usr/local/lib/python3.8/dist-packages (from tensorflow->keras_nlp) (4.4.0)\n",
            "Requirement already satisfied: libclang>=13.0.0 in /usr/local/lib/python3.8/dist-packages (from tensorflow->keras_nlp) (15.0.6.1)\n",
            "Requirement already satisfied: astunparse>=1.6.0 in /usr/local/lib/python3.8/dist-packages (from tensorflow->keras_nlp) (1.6.3)\n",
            "Requirement already satisfied: setuptools in /usr/local/lib/python3.8/dist-packages (from tensorflow->keras_nlp) (57.4.0)\n",
            "Requirement already satisfied: keras-preprocessing>=1.1.1 in /usr/local/lib/python3.8/dist-packages (from tensorflow->keras_nlp) (1.1.2)\n",
            "Requirement already satisfied: gast<=0.4.0,>=0.2.1 in /usr/local/lib/python3.8/dist-packages (from tensorflow->keras_nlp) (0.4.0)\n",
            "Requirement already satisfied: grpcio<2.0,>=1.24.3 in /usr/local/lib/python3.8/dist-packages (from tensorflow->keras_nlp) (1.51.1)\n",
            "Requirement already satisfied: google-pasta>=0.1.1 in /usr/local/lib/python3.8/dist-packages (from tensorflow->keras_nlp) (0.2.0)\n",
            "Requirement already satisfied: tensorflow-io-gcs-filesystem>=0.23.1 in /usr/local/lib/python3.8/dist-packages (from tensorflow->keras_nlp) (0.30.0)\n",
            "Requirement already satisfied: keras<2.10.0,>=2.9.0rc0 in /usr/local/lib/python3.8/dist-packages (from tensorflow->keras_nlp) (2.9.0)\n",
            "Requirement already satisfied: wrapt>=1.11.0 in /usr/local/lib/python3.8/dist-packages (from tensorflow->keras_nlp) (1.14.1)\n",
            "Requirement already satisfied: tensorboard<2.10,>=2.9 in /usr/local/lib/python3.8/dist-packages (from tensorflow->keras_nlp) (2.9.1)\n",
            "Requirement already satisfied: six>=1.12.0 in /usr/local/lib/python3.8/dist-packages (from tensorflow->keras_nlp) (1.15.0)\n",
            "Requirement already satisfied: protobuf<3.20,>=3.9.2 in /usr/local/lib/python3.8/dist-packages (from tensorflow->keras_nlp) (3.19.6)\n",
            "Requirement already satisfied: opt-einsum>=2.3.2 in /usr/local/lib/python3.8/dist-packages (from tensorflow->keras_nlp) (3.3.0)\n",
            "Requirement already satisfied: tensorflow-estimator<2.10.0,>=2.9.0rc0 in /usr/local/lib/python3.8/dist-packages (from tensorflow->keras_nlp) (2.9.0)\n",
            "Requirement already satisfied: flatbuffers<2,>=1.12 in /usr/local/lib/python3.8/dist-packages (from tensorflow->keras_nlp) (1.12)\n",
            "Requirement already satisfied: h5py>=2.9.0 in /usr/local/lib/python3.8/dist-packages (from tensorflow->keras_nlp) (3.1.0)\n",
            "Requirement already satisfied: termcolor>=1.1.0 in /usr/local/lib/python3.8/dist-packages (from tensorflow->keras_nlp) (2.2.0)\n",
            "Requirement already satisfied: tensorflow-hub>=0.8.0 in /usr/local/lib/python3.8/dist-packages (from tensorflow-text->keras_nlp) (0.12.0)\n",
            "Requirement already satisfied: wheel<1.0,>=0.23.0 in /usr/local/lib/python3.8/dist-packages (from astunparse>=1.6.0->tensorflow->keras_nlp) (0.38.4)\n",
            "Requirement already satisfied: requests<3,>=2.21.0 in /usr/local/lib/python3.8/dist-packages (from tensorboard<2.10,>=2.9->tensorflow->keras_nlp) (2.25.1)\n",
            "Requirement already satisfied: google-auth<3,>=1.6.3 in /usr/local/lib/python3.8/dist-packages (from tensorboard<2.10,>=2.9->tensorflow->keras_nlp) (2.16.0)\n",
            "Requirement already satisfied: tensorboard-data-server<0.7.0,>=0.6.0 in /usr/local/lib/python3.8/dist-packages (from tensorboard<2.10,>=2.9->tensorflow->keras_nlp) (0.6.1)\n",
            "Requirement already satisfied: tensorboard-plugin-wit>=1.6.0 in /usr/local/lib/python3.8/dist-packages (from tensorboard<2.10,>=2.9->tensorflow->keras_nlp) (1.8.1)\n",
            "Requirement already satisfied: werkzeug>=1.0.1 in /usr/local/lib/python3.8/dist-packages (from tensorboard<2.10,>=2.9->tensorflow->keras_nlp) (1.0.1)\n",
            "Requirement already satisfied: markdown>=2.6.8 in /usr/local/lib/python3.8/dist-packages (from tensorboard<2.10,>=2.9->tensorflow->keras_nlp) (3.4.1)\n",
            "Requirement already satisfied: google-auth-oauthlib<0.5,>=0.4.1 in /usr/local/lib/python3.8/dist-packages (from tensorboard<2.10,>=2.9->tensorflow->keras_nlp) (0.4.6)\n",
            "Requirement already satisfied: pyasn1-modules>=0.2.1 in /usr/local/lib/python3.8/dist-packages (from google-auth<3,>=1.6.3->tensorboard<2.10,>=2.9->tensorflow->keras_nlp) (0.2.8)\n",
            "Requirement already satisfied: rsa<5,>=3.1.4 in /usr/local/lib/python3.8/dist-packages (from google-auth<3,>=1.6.3->tensorboard<2.10,>=2.9->tensorflow->keras_nlp) (4.9)\n",
            "Requirement already satisfied: cachetools<6.0,>=2.0.0 in /usr/local/lib/python3.8/dist-packages (from google-auth<3,>=1.6.3->tensorboard<2.10,>=2.9->tensorflow->keras_nlp) (5.3.0)\n",
            "Requirement already satisfied: requests-oauthlib>=0.7.0 in /usr/local/lib/python3.8/dist-packages (from google-auth-oauthlib<0.5,>=0.4.1->tensorboard<2.10,>=2.9->tensorflow->keras_nlp) (1.3.1)\n",
            "Requirement already satisfied: importlib-metadata>=4.4 in /usr/local/lib/python3.8/dist-packages (from markdown>=2.6.8->tensorboard<2.10,>=2.9->tensorflow->keras_nlp) (6.0.0)\n",
            "Requirement already satisfied: certifi>=2017.4.17 in /usr/local/lib/python3.8/dist-packages (from requests<3,>=2.21.0->tensorboard<2.10,>=2.9->tensorflow->keras_nlp) (2022.12.7)\n",
            "Requirement already satisfied: chardet<5,>=3.0.2 in /usr/local/lib/python3.8/dist-packages (from requests<3,>=2.21.0->tensorboard<2.10,>=2.9->tensorflow->keras_nlp) (4.0.0)\n",
            "Requirement already satisfied: urllib3<1.27,>=1.21.1 in /usr/local/lib/python3.8/dist-packages (from requests<3,>=2.21.0->tensorboard<2.10,>=2.9->tensorflow->keras_nlp) (1.24.3)\n",
            "Requirement already satisfied: idna<3,>=2.5 in /usr/local/lib/python3.8/dist-packages (from requests<3,>=2.21.0->tensorboard<2.10,>=2.9->tensorflow->keras_nlp) (2.10)\n",
            "Requirement already satisfied: zipp>=0.5 in /usr/local/lib/python3.8/dist-packages (from importlib-metadata>=4.4->markdown>=2.6.8->tensorboard<2.10,>=2.9->tensorflow->keras_nlp) (3.12.0)\n",
            "Requirement already satisfied: pyasn1<0.5.0,>=0.4.6 in /usr/local/lib/python3.8/dist-packages (from pyasn1-modules>=0.2.1->google-auth<3,>=1.6.3->tensorboard<2.10,>=2.9->tensorflow->keras_nlp) (0.4.8)\n",
            "Requirement already satisfied: oauthlib>=3.0.0 in /usr/local/lib/python3.8/dist-packages (from requests-oauthlib>=0.7.0->google-auth-oauthlib<0.5,>=0.4.1->tensorboard<2.10,>=2.9->tensorflow->keras_nlp) (3.2.2)\n"
          ]
        }
      ]
    },
    {
      "cell_type": "code",
      "source": [
        "import keras_nlp"
      ],
      "metadata": {
        "id": "IRKOSwUDJHlT"
      },
      "execution_count": 44,
      "outputs": []
    },
    {
      "cell_type": "code",
      "source": [
        "perplexity = keras_nlp.metrics.Perplexity(name=\"perplexity\")"
      ],
      "metadata": {
        "id": "UsFHQWrcSaRl"
      },
      "execution_count": 45,
      "outputs": []
    },
    {
      "cell_type": "code",
      "source": [
        "loaded_model_a = tf.keras.models.load_model('/content/drive/MyDrive/deep_learning_hws/HWs/4/P3/model_a', custom_objects={\"TFBertModel\": transformers.TFBertModel})\n",
        "loaded_model_b= tf.keras.models.load_model('/content/drive/MyDrive/deep_learning_hws/HWs/4/P3/model_b.h5', custom_objects={\"TFBertModel\": transformers.TFBertModel}) \n",
        "loaded_model_c = tf.keras.models.load_model('/content/drive/MyDrive/deep_learning_hws/HWs/4/P3/model_c.h5', custom_objects={\"TFBertModel\": transformers.TFBertModel})"
      ],
      "metadata": {
        "colab": {
          "base_uri": "https://localhost:8080/"
        },
        "id": "4eY5FyRWSkx-",
        "outputId": "16cc2979-7834-4121-ba31-285bee3f70b7"
      },
      "execution_count": 49,
      "outputs": [
        {
          "output_type": "stream",
          "name": "stderr",
          "text": [
            "WARNING:tensorflow:Loading model from HDF5 will not restore the optimizer's weights, since the optimizer is an instance of `optimizer_experimental.Optimizer`\n"
          ]
        }
      ]
    },
    {
      "cell_type": "code",
      "source": [
        "preds_a = loaded_model_a.predict(final_my_1000_samples)\n",
        "preds_b = loaded_model_b.predict(final_my_1000_samples)\n",
        "preds_c = loaded_model_c.predict(final_my_1000_samples)\n",
        "\n",
        "Y_pred_labels = preds_c.argmax(axis=1)\n",
        "data, labels = tuple(zip(*final_my_1000_samples))\n",
        "Y_test=[]\n",
        "for i in range(len(labels)):\n",
        "  for j in range(32):\n",
        "    Y_test.append(labels[i][j])\n",
        "\n",
        "\n",
        "Y_test_labels=np.zeros_like(Y_pred_labels)\n",
        "ind=0\n",
        "for t in Y_test:\n",
        "  Y_test_labels[ind] = (t.numpy()).argmax()\n",
        "  ind+=1\n",
        "\n",
        "preds_a = np.reshape(preds_a,(32,31,10))\n",
        "preds_b = np.reshape(preds_b,(32,31,10))\n",
        "preds_c = np.reshape(preds_c,(32,31,10))\n",
        "\n",
        "Y_test_labels = np.reshape([Y_test_labels],((32,31)))\n",
        "perplexity_a = perplexity(Y_test_labels, preds_a)\n",
        "perplexity_b = perplexity(Y_test_labels, preds_b)\n",
        "perplexity_c = perplexity(Y_test_labels, preds_c)"
      ],
      "metadata": {
        "colab": {
          "base_uri": "https://localhost:8080/"
        },
        "id": "Sas2HG7iVfsn",
        "outputId": "754193b0-b808-4930-bec8-66e8a1eea5ad"
      },
      "execution_count": 50,
      "outputs": [
        {
          "output_type": "stream",
          "name": "stdout",
          "text": [
            "31/31 [==============================] - 365s 12s/step\n"
          ]
        }
      ]
    },
    {
      "cell_type": "code",
      "source": [
        "perplexity_a"
      ],
      "metadata": {
        "colab": {
          "base_uri": "https://localhost:8080/"
        },
        "id": "4efpokXggtha",
        "outputId": "c43070c4-88ee-4119-8aee-8ccdcb885d4d"
      },
      "execution_count": 128,
      "outputs": [
        {
          "output_type": "execute_result",
          "data": {
            "text/plain": [
              "<tf.Tensor: shape=(), dtype=float32, numpy=10.837042>"
            ]
          },
          "metadata": {},
          "execution_count": 128
        }
      ]
    },
    {
      "cell_type": "code",
      "source": [
        "perplexity_b"
      ],
      "metadata": {
        "colab": {
          "base_uri": "https://localhost:8080/"
        },
        "id": "vOGt9rXng0Qy",
        "outputId": "b559ccce-c9d0-4f85-e8fb-0bcc5b731e20"
      },
      "execution_count": 48,
      "outputs": [
        {
          "output_type": "execute_result",
          "data": {
            "text/plain": [
              "<tf.Tensor: shape=(), dtype=float32, numpy=195.35966>"
            ]
          },
          "metadata": {},
          "execution_count": 48
        }
      ]
    },
    {
      "cell_type": "code",
      "source": [
        "perplexity_c"
      ],
      "metadata": {
        "colab": {
          "base_uri": "https://localhost:8080/"
        },
        "id": "uiqltT3sg1Yx",
        "outputId": "dffd76d7-f040-431c-b407-92b93a13a06e"
      },
      "execution_count": 51,
      "outputs": [
        {
          "output_type": "execute_result",
          "data": {
            "text/plain": [
              "<tf.Tensor: shape=(), dtype=float32, numpy=44.238136>"
            ]
          },
          "metadata": {},
          "execution_count": 51
        }
      ]
    },
    {
      "cell_type": "code",
      "source": [
        "print(\"perplexity_a(freezed_bert) is {}, perplexity_b(finetuning_adam) is {} and perplexity_b(finetuning_sgd) is {}\".format(perplexity_a.numpy(), perplexity_b.numpy(), perplexity_c.numpy()))"
      ],
      "metadata": {
        "colab": {
          "base_uri": "https://localhost:8080/"
        },
        "id": "ZCZf-wWigm44",
        "outputId": "ce927a59-c281-4e91-f704-4221dbe9efdc"
      },
      "execution_count": 52,
      "outputs": [
        {
          "output_type": "stream",
          "name": "stdout",
          "text": [
            "perplexity_a(freezed_bert) is 10.837042, perplexity_b(finetuning_adam) is 195.3596649169922 and perplexity_b(finetuning_sgd) is 44.238136291503906\n"
          ]
        }
      ]
    },
    {
      "cell_type": "code",
      "source": [],
      "metadata": {
        "id": "4t_fMJA_oF_R"
      },
      "execution_count": null,
      "outputs": []
    }
  ],
  "metadata": {
    "accelerator": "GPU",
    "colab": {
      "provenance": [],
      "collapsed_sections": [
        "oBGtvMPPfNRF",
        "jeMOlxyWfI06",
        "B-c57Xce4Dn9",
        "7NGCYuas5vni"
      ],
      "machine_shape": "hm"
    },
    "gpuClass": "standard",
    "kernelspec": {
      "display_name": "Python 3",
      "name": "python3"
    },
    "language_info": {
      "name": "python"
    },
    "widgets": {
      "application/vnd.jupyter.widget-state+json": {
        "0f8b3f25a870443897a1121479574577": {
          "model_module": "@jupyter-widgets/controls",
          "model_name": "HBoxModel",
          "model_module_version": "1.5.0",
          "state": {
            "_dom_classes": [],
            "_model_module": "@jupyter-widgets/controls",
            "_model_module_version": "1.5.0",
            "_model_name": "HBoxModel",
            "_view_count": null,
            "_view_module": "@jupyter-widgets/controls",
            "_view_module_version": "1.5.0",
            "_view_name": "HBoxView",
            "box_style": "",
            "children": [
              "IPY_MODEL_7a0e637662524f30aac2dfaabb1f8828",
              "IPY_MODEL_9358fc2c90194de1b0ba6ec070409472",
              "IPY_MODEL_81049c72c8e941e8a69cea611e248bbf"
            ],
            "layout": "IPY_MODEL_27727e5aa00043e89cf66b3673fbe604"
          }
        },
        "7a0e637662524f30aac2dfaabb1f8828": {
          "model_module": "@jupyter-widgets/controls",
          "model_name": "HTMLModel",
          "model_module_version": "1.5.0",
          "state": {
            "_dom_classes": [],
            "_model_module": "@jupyter-widgets/controls",
            "_model_module_version": "1.5.0",
            "_model_name": "HTMLModel",
            "_view_count": null,
            "_view_module": "@jupyter-widgets/controls",
            "_view_module_version": "1.5.0",
            "_view_name": "HTMLView",
            "description": "",
            "description_tooltip": null,
            "layout": "IPY_MODEL_f870099b612e4153b29e08004557524e",
            "placeholder": "​",
            "style": "IPY_MODEL_a4b7eaf601174605a13dd553929d97a7",
            "value": "Downloading (…)&quot;tf_model.h5&quot;;: 100%"
          }
        },
        "9358fc2c90194de1b0ba6ec070409472": {
          "model_module": "@jupyter-widgets/controls",
          "model_name": "FloatProgressModel",
          "model_module_version": "1.5.0",
          "state": {
            "_dom_classes": [],
            "_model_module": "@jupyter-widgets/controls",
            "_model_module_version": "1.5.0",
            "_model_name": "FloatProgressModel",
            "_view_count": null,
            "_view_module": "@jupyter-widgets/controls",
            "_view_module_version": "1.5.0",
            "_view_name": "ProgressView",
            "bar_style": "success",
            "description": "",
            "description_tooltip": null,
            "layout": "IPY_MODEL_db25677b48e94e619951e80cea669437",
            "max": 1083389348,
            "min": 0,
            "orientation": "horizontal",
            "style": "IPY_MODEL_218f5001ca554804b87084a10985edcc",
            "value": 1083389348
          }
        },
        "81049c72c8e941e8a69cea611e248bbf": {
          "model_module": "@jupyter-widgets/controls",
          "model_name": "HTMLModel",
          "model_module_version": "1.5.0",
          "state": {
            "_dom_classes": [],
            "_model_module": "@jupyter-widgets/controls",
            "_model_module_version": "1.5.0",
            "_model_name": "HTMLModel",
            "_view_count": null,
            "_view_module": "@jupyter-widgets/controls",
            "_view_module_version": "1.5.0",
            "_view_name": "HTMLView",
            "description": "",
            "description_tooltip": null,
            "layout": "IPY_MODEL_7439656f83cc4ea5ae0904a69c3426d4",
            "placeholder": "​",
            "style": "IPY_MODEL_2bf52ad57ac74a93af6169da3af8b43a",
            "value": " 1.08G/1.08G [00:04&lt;00:00, 241MB/s]"
          }
        },
        "27727e5aa00043e89cf66b3673fbe604": {
          "model_module": "@jupyter-widgets/base",
          "model_name": "LayoutModel",
          "model_module_version": "1.2.0",
          "state": {
            "_model_module": "@jupyter-widgets/base",
            "_model_module_version": "1.2.0",
            "_model_name": "LayoutModel",
            "_view_count": null,
            "_view_module": "@jupyter-widgets/base",
            "_view_module_version": "1.2.0",
            "_view_name": "LayoutView",
            "align_content": null,
            "align_items": null,
            "align_self": null,
            "border": null,
            "bottom": null,
            "display": null,
            "flex": null,
            "flex_flow": null,
            "grid_area": null,
            "grid_auto_columns": null,
            "grid_auto_flow": null,
            "grid_auto_rows": null,
            "grid_column": null,
            "grid_gap": null,
            "grid_row": null,
            "grid_template_areas": null,
            "grid_template_columns": null,
            "grid_template_rows": null,
            "height": null,
            "justify_content": null,
            "justify_items": null,
            "left": null,
            "margin": null,
            "max_height": null,
            "max_width": null,
            "min_height": null,
            "min_width": null,
            "object_fit": null,
            "object_position": null,
            "order": null,
            "overflow": null,
            "overflow_x": null,
            "overflow_y": null,
            "padding": null,
            "right": null,
            "top": null,
            "visibility": null,
            "width": null
          }
        },
        "f870099b612e4153b29e08004557524e": {
          "model_module": "@jupyter-widgets/base",
          "model_name": "LayoutModel",
          "model_module_version": "1.2.0",
          "state": {
            "_model_module": "@jupyter-widgets/base",
            "_model_module_version": "1.2.0",
            "_model_name": "LayoutModel",
            "_view_count": null,
            "_view_module": "@jupyter-widgets/base",
            "_view_module_version": "1.2.0",
            "_view_name": "LayoutView",
            "align_content": null,
            "align_items": null,
            "align_self": null,
            "border": null,
            "bottom": null,
            "display": null,
            "flex": null,
            "flex_flow": null,
            "grid_area": null,
            "grid_auto_columns": null,
            "grid_auto_flow": null,
            "grid_auto_rows": null,
            "grid_column": null,
            "grid_gap": null,
            "grid_row": null,
            "grid_template_areas": null,
            "grid_template_columns": null,
            "grid_template_rows": null,
            "height": null,
            "justify_content": null,
            "justify_items": null,
            "left": null,
            "margin": null,
            "max_height": null,
            "max_width": null,
            "min_height": null,
            "min_width": null,
            "object_fit": null,
            "object_position": null,
            "order": null,
            "overflow": null,
            "overflow_x": null,
            "overflow_y": null,
            "padding": null,
            "right": null,
            "top": null,
            "visibility": null,
            "width": null
          }
        },
        "a4b7eaf601174605a13dd553929d97a7": {
          "model_module": "@jupyter-widgets/controls",
          "model_name": "DescriptionStyleModel",
          "model_module_version": "1.5.0",
          "state": {
            "_model_module": "@jupyter-widgets/controls",
            "_model_module_version": "1.5.0",
            "_model_name": "DescriptionStyleModel",
            "_view_count": null,
            "_view_module": "@jupyter-widgets/base",
            "_view_module_version": "1.2.0",
            "_view_name": "StyleView",
            "description_width": ""
          }
        },
        "db25677b48e94e619951e80cea669437": {
          "model_module": "@jupyter-widgets/base",
          "model_name": "LayoutModel",
          "model_module_version": "1.2.0",
          "state": {
            "_model_module": "@jupyter-widgets/base",
            "_model_module_version": "1.2.0",
            "_model_name": "LayoutModel",
            "_view_count": null,
            "_view_module": "@jupyter-widgets/base",
            "_view_module_version": "1.2.0",
            "_view_name": "LayoutView",
            "align_content": null,
            "align_items": null,
            "align_self": null,
            "border": null,
            "bottom": null,
            "display": null,
            "flex": null,
            "flex_flow": null,
            "grid_area": null,
            "grid_auto_columns": null,
            "grid_auto_flow": null,
            "grid_auto_rows": null,
            "grid_column": null,
            "grid_gap": null,
            "grid_row": null,
            "grid_template_areas": null,
            "grid_template_columns": null,
            "grid_template_rows": null,
            "height": null,
            "justify_content": null,
            "justify_items": null,
            "left": null,
            "margin": null,
            "max_height": null,
            "max_width": null,
            "min_height": null,
            "min_width": null,
            "object_fit": null,
            "object_position": null,
            "order": null,
            "overflow": null,
            "overflow_x": null,
            "overflow_y": null,
            "padding": null,
            "right": null,
            "top": null,
            "visibility": null,
            "width": null
          }
        },
        "218f5001ca554804b87084a10985edcc": {
          "model_module": "@jupyter-widgets/controls",
          "model_name": "ProgressStyleModel",
          "model_module_version": "1.5.0",
          "state": {
            "_model_module": "@jupyter-widgets/controls",
            "_model_module_version": "1.5.0",
            "_model_name": "ProgressStyleModel",
            "_view_count": null,
            "_view_module": "@jupyter-widgets/base",
            "_view_module_version": "1.2.0",
            "_view_name": "StyleView",
            "bar_color": null,
            "description_width": ""
          }
        },
        "7439656f83cc4ea5ae0904a69c3426d4": {
          "model_module": "@jupyter-widgets/base",
          "model_name": "LayoutModel",
          "model_module_version": "1.2.0",
          "state": {
            "_model_module": "@jupyter-widgets/base",
            "_model_module_version": "1.2.0",
            "_model_name": "LayoutModel",
            "_view_count": null,
            "_view_module": "@jupyter-widgets/base",
            "_view_module_version": "1.2.0",
            "_view_name": "LayoutView",
            "align_content": null,
            "align_items": null,
            "align_self": null,
            "border": null,
            "bottom": null,
            "display": null,
            "flex": null,
            "flex_flow": null,
            "grid_area": null,
            "grid_auto_columns": null,
            "grid_auto_flow": null,
            "grid_auto_rows": null,
            "grid_column": null,
            "grid_gap": null,
            "grid_row": null,
            "grid_template_areas": null,
            "grid_template_columns": null,
            "grid_template_rows": null,
            "height": null,
            "justify_content": null,
            "justify_items": null,
            "left": null,
            "margin": null,
            "max_height": null,
            "max_width": null,
            "min_height": null,
            "min_width": null,
            "object_fit": null,
            "object_position": null,
            "order": null,
            "overflow": null,
            "overflow_x": null,
            "overflow_y": null,
            "padding": null,
            "right": null,
            "top": null,
            "visibility": null,
            "width": null
          }
        },
        "2bf52ad57ac74a93af6169da3af8b43a": {
          "model_module": "@jupyter-widgets/controls",
          "model_name": "DescriptionStyleModel",
          "model_module_version": "1.5.0",
          "state": {
            "_model_module": "@jupyter-widgets/controls",
            "_model_module_version": "1.5.0",
            "_model_name": "DescriptionStyleModel",
            "_view_count": null,
            "_view_module": "@jupyter-widgets/base",
            "_view_module_version": "1.2.0",
            "_view_name": "StyleView",
            "description_width": ""
          }
        },
        "23452f8ea1db41c5917479f368bc3bd1": {
          "model_module": "@jupyter-widgets/controls",
          "model_name": "HBoxModel",
          "model_module_version": "1.5.0",
          "state": {
            "_dom_classes": [],
            "_model_module": "@jupyter-widgets/controls",
            "_model_module_version": "1.5.0",
            "_model_name": "HBoxModel",
            "_view_count": null,
            "_view_module": "@jupyter-widgets/controls",
            "_view_module_version": "1.5.0",
            "_view_name": "HBoxView",
            "box_style": "",
            "children": [
              "IPY_MODEL_8b0efc1ed572407c98b0a5a2bd4bcc8e",
              "IPY_MODEL_f0d206a48d934ff8bbfc6106fe8bf515",
              "IPY_MODEL_570ddba07ede445085cafc64f7ff224a"
            ],
            "layout": "IPY_MODEL_6ac362f8350246eabf029c717f3dbd63"
          }
        },
        "8b0efc1ed572407c98b0a5a2bd4bcc8e": {
          "model_module": "@jupyter-widgets/controls",
          "model_name": "HTMLModel",
          "model_module_version": "1.5.0",
          "state": {
            "_dom_classes": [],
            "_model_module": "@jupyter-widgets/controls",
            "_model_module_version": "1.5.0",
            "_model_name": "HTMLModel",
            "_view_count": null,
            "_view_module": "@jupyter-widgets/controls",
            "_view_module_version": "1.5.0",
            "_view_name": "HTMLView",
            "description": "",
            "description_tooltip": null,
            "layout": "IPY_MODEL_bf0c0a3b433e44c8879d18938cf5f4b8",
            "placeholder": "​",
            "style": "IPY_MODEL_55f4c796c1a84343aa99f6b13a8a1bbe",
            "value": "Downloading (…)&quot;tf_model.h5&quot;;: 100%"
          }
        },
        "f0d206a48d934ff8bbfc6106fe8bf515": {
          "model_module": "@jupyter-widgets/controls",
          "model_name": "FloatProgressModel",
          "model_module_version": "1.5.0",
          "state": {
            "_dom_classes": [],
            "_model_module": "@jupyter-widgets/controls",
            "_model_module_version": "1.5.0",
            "_model_name": "FloatProgressModel",
            "_view_count": null,
            "_view_module": "@jupyter-widgets/controls",
            "_view_module_version": "1.5.0",
            "_view_name": "ProgressView",
            "bar_style": "success",
            "description": "",
            "description_tooltip": null,
            "layout": "IPY_MODEL_cd767a099dab4be6b32034c818dccc5b",
            "max": 1083389348,
            "min": 0,
            "orientation": "horizontal",
            "style": "IPY_MODEL_d82fd66799904b61be5071ccac1a6dd4",
            "value": 1083389348
          }
        },
        "570ddba07ede445085cafc64f7ff224a": {
          "model_module": "@jupyter-widgets/controls",
          "model_name": "HTMLModel",
          "model_module_version": "1.5.0",
          "state": {
            "_dom_classes": [],
            "_model_module": "@jupyter-widgets/controls",
            "_model_module_version": "1.5.0",
            "_model_name": "HTMLModel",
            "_view_count": null,
            "_view_module": "@jupyter-widgets/controls",
            "_view_module_version": "1.5.0",
            "_view_name": "HTMLView",
            "description": "",
            "description_tooltip": null,
            "layout": "IPY_MODEL_80ade2b941b2407f9d4718e5b0f96e95",
            "placeholder": "​",
            "style": "IPY_MODEL_10871aa5cb62402db673579ab129e7cc",
            "value": " 1.08G/1.08G [00:07&lt;00:00, 179MB/s]"
          }
        },
        "6ac362f8350246eabf029c717f3dbd63": {
          "model_module": "@jupyter-widgets/base",
          "model_name": "LayoutModel",
          "model_module_version": "1.2.0",
          "state": {
            "_model_module": "@jupyter-widgets/base",
            "_model_module_version": "1.2.0",
            "_model_name": "LayoutModel",
            "_view_count": null,
            "_view_module": "@jupyter-widgets/base",
            "_view_module_version": "1.2.0",
            "_view_name": "LayoutView",
            "align_content": null,
            "align_items": null,
            "align_self": null,
            "border": null,
            "bottom": null,
            "display": null,
            "flex": null,
            "flex_flow": null,
            "grid_area": null,
            "grid_auto_columns": null,
            "grid_auto_flow": null,
            "grid_auto_rows": null,
            "grid_column": null,
            "grid_gap": null,
            "grid_row": null,
            "grid_template_areas": null,
            "grid_template_columns": null,
            "grid_template_rows": null,
            "height": null,
            "justify_content": null,
            "justify_items": null,
            "left": null,
            "margin": null,
            "max_height": null,
            "max_width": null,
            "min_height": null,
            "min_width": null,
            "object_fit": null,
            "object_position": null,
            "order": null,
            "overflow": null,
            "overflow_x": null,
            "overflow_y": null,
            "padding": null,
            "right": null,
            "top": null,
            "visibility": null,
            "width": null
          }
        },
        "bf0c0a3b433e44c8879d18938cf5f4b8": {
          "model_module": "@jupyter-widgets/base",
          "model_name": "LayoutModel",
          "model_module_version": "1.2.0",
          "state": {
            "_model_module": "@jupyter-widgets/base",
            "_model_module_version": "1.2.0",
            "_model_name": "LayoutModel",
            "_view_count": null,
            "_view_module": "@jupyter-widgets/base",
            "_view_module_version": "1.2.0",
            "_view_name": "LayoutView",
            "align_content": null,
            "align_items": null,
            "align_self": null,
            "border": null,
            "bottom": null,
            "display": null,
            "flex": null,
            "flex_flow": null,
            "grid_area": null,
            "grid_auto_columns": null,
            "grid_auto_flow": null,
            "grid_auto_rows": null,
            "grid_column": null,
            "grid_gap": null,
            "grid_row": null,
            "grid_template_areas": null,
            "grid_template_columns": null,
            "grid_template_rows": null,
            "height": null,
            "justify_content": null,
            "justify_items": null,
            "left": null,
            "margin": null,
            "max_height": null,
            "max_width": null,
            "min_height": null,
            "min_width": null,
            "object_fit": null,
            "object_position": null,
            "order": null,
            "overflow": null,
            "overflow_x": null,
            "overflow_y": null,
            "padding": null,
            "right": null,
            "top": null,
            "visibility": null,
            "width": null
          }
        },
        "55f4c796c1a84343aa99f6b13a8a1bbe": {
          "model_module": "@jupyter-widgets/controls",
          "model_name": "DescriptionStyleModel",
          "model_module_version": "1.5.0",
          "state": {
            "_model_module": "@jupyter-widgets/controls",
            "_model_module_version": "1.5.0",
            "_model_name": "DescriptionStyleModel",
            "_view_count": null,
            "_view_module": "@jupyter-widgets/base",
            "_view_module_version": "1.2.0",
            "_view_name": "StyleView",
            "description_width": ""
          }
        },
        "cd767a099dab4be6b32034c818dccc5b": {
          "model_module": "@jupyter-widgets/base",
          "model_name": "LayoutModel",
          "model_module_version": "1.2.0",
          "state": {
            "_model_module": "@jupyter-widgets/base",
            "_model_module_version": "1.2.0",
            "_model_name": "LayoutModel",
            "_view_count": null,
            "_view_module": "@jupyter-widgets/base",
            "_view_module_version": "1.2.0",
            "_view_name": "LayoutView",
            "align_content": null,
            "align_items": null,
            "align_self": null,
            "border": null,
            "bottom": null,
            "display": null,
            "flex": null,
            "flex_flow": null,
            "grid_area": null,
            "grid_auto_columns": null,
            "grid_auto_flow": null,
            "grid_auto_rows": null,
            "grid_column": null,
            "grid_gap": null,
            "grid_row": null,
            "grid_template_areas": null,
            "grid_template_columns": null,
            "grid_template_rows": null,
            "height": null,
            "justify_content": null,
            "justify_items": null,
            "left": null,
            "margin": null,
            "max_height": null,
            "max_width": null,
            "min_height": null,
            "min_width": null,
            "object_fit": null,
            "object_position": null,
            "order": null,
            "overflow": null,
            "overflow_x": null,
            "overflow_y": null,
            "padding": null,
            "right": null,
            "top": null,
            "visibility": null,
            "width": null
          }
        },
        "d82fd66799904b61be5071ccac1a6dd4": {
          "model_module": "@jupyter-widgets/controls",
          "model_name": "ProgressStyleModel",
          "model_module_version": "1.5.0",
          "state": {
            "_model_module": "@jupyter-widgets/controls",
            "_model_module_version": "1.5.0",
            "_model_name": "ProgressStyleModel",
            "_view_count": null,
            "_view_module": "@jupyter-widgets/base",
            "_view_module_version": "1.2.0",
            "_view_name": "StyleView",
            "bar_color": null,
            "description_width": ""
          }
        },
        "80ade2b941b2407f9d4718e5b0f96e95": {
          "model_module": "@jupyter-widgets/base",
          "model_name": "LayoutModel",
          "model_module_version": "1.2.0",
          "state": {
            "_model_module": "@jupyter-widgets/base",
            "_model_module_version": "1.2.0",
            "_model_name": "LayoutModel",
            "_view_count": null,
            "_view_module": "@jupyter-widgets/base",
            "_view_module_version": "1.2.0",
            "_view_name": "LayoutView",
            "align_content": null,
            "align_items": null,
            "align_self": null,
            "border": null,
            "bottom": null,
            "display": null,
            "flex": null,
            "flex_flow": null,
            "grid_area": null,
            "grid_auto_columns": null,
            "grid_auto_flow": null,
            "grid_auto_rows": null,
            "grid_column": null,
            "grid_gap": null,
            "grid_row": null,
            "grid_template_areas": null,
            "grid_template_columns": null,
            "grid_template_rows": null,
            "height": null,
            "justify_content": null,
            "justify_items": null,
            "left": null,
            "margin": null,
            "max_height": null,
            "max_width": null,
            "min_height": null,
            "min_width": null,
            "object_fit": null,
            "object_position": null,
            "order": null,
            "overflow": null,
            "overflow_x": null,
            "overflow_y": null,
            "padding": null,
            "right": null,
            "top": null,
            "visibility": null,
            "width": null
          }
        },
        "10871aa5cb62402db673579ab129e7cc": {
          "model_module": "@jupyter-widgets/controls",
          "model_name": "DescriptionStyleModel",
          "model_module_version": "1.5.0",
          "state": {
            "_model_module": "@jupyter-widgets/controls",
            "_model_module_version": "1.5.0",
            "_model_name": "DescriptionStyleModel",
            "_view_count": null,
            "_view_module": "@jupyter-widgets/base",
            "_view_module_version": "1.2.0",
            "_view_name": "StyleView",
            "description_width": ""
          }
        }
      }
    }
  },
  "nbformat": 4,
  "nbformat_minor": 0
}