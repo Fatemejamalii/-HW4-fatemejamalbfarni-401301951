{
  "cells": [
    {
      "cell_type": "code",
      "execution_count": 1,
      "metadata": {
        "colab": {
          "base_uri": "https://localhost:8080/"
        },
        "id": "LziRyIIWL8K1",
        "outputId": "ad43cb74-ba65-4a0f-b741-361772fcc77c"
      },
      "outputs": [
        {
          "output_type": "stream",
          "name": "stdout",
          "text": [
            "Cloning into 'Persian_poems_corpus'...\n",
            "remote: Enumerating objects: 159, done.\u001b[K\n",
            "remote: Total 159 (delta 0), reused 0 (delta 0), pack-reused 159\u001b[K\n",
            "Receiving objects: 100% (159/159), 45.21 MiB | 19.20 MiB/s, done.\n",
            "Resolving deltas: 100% (3/3), done.\n"
          ]
        }
      ],
      "source": [
        "!git clone https://github.com/amnghd/Persian_poems_corpus.git"
      ]
    },
    {
      "cell_type": "code",
      "execution_count": 2,
      "metadata": {
        "colab": {
          "base_uri": "https://localhost:8080/"
        },
        "id": "d9jldWmawbkj",
        "outputId": "e7705ffe-30bb-4156-c840-879453dae143"
      },
      "outputs": [
        {
          "output_type": "stream",
          "name": "stdout",
          "text": [
            "Looking in indexes: https://pypi.org/simple, https://us-python.pkg.dev/colab-wheels/public/simple/\n",
            "Collecting transformers\n",
            "  Downloading transformers-4.26.0-py3-none-any.whl (6.3 MB)\n",
            "\u001b[2K     \u001b[90m━━━━━━━━━━━━━━━━━━━━━━━━━━━━━━━━━━━━━━━━\u001b[0m \u001b[32m6.3/6.3 MB\u001b[0m \u001b[31m59.5 MB/s\u001b[0m eta \u001b[36m0:00:00\u001b[0m\n",
            "\u001b[?25hCollecting huggingface-hub<1.0,>=0.11.0\n",
            "  Downloading huggingface_hub-0.12.0-py3-none-any.whl (190 kB)\n",
            "\u001b[2K     \u001b[90m━━━━━━━━━━━━━━━━━━━━━━━━━━━━━━━━━━━━━━\u001b[0m \u001b[32m190.3/190.3 KB\u001b[0m \u001b[31m28.4 MB/s\u001b[0m eta \u001b[36m0:00:00\u001b[0m\n",
            "\u001b[?25hRequirement already satisfied: requests in /usr/local/lib/python3.8/dist-packages (from transformers) (2.25.1)\n",
            "Collecting tokenizers!=0.11.3,<0.14,>=0.11.1\n",
            "  Downloading tokenizers-0.13.2-cp38-cp38-manylinux_2_17_x86_64.manylinux2014_x86_64.whl (7.6 MB)\n",
            "\u001b[2K     \u001b[90m━━━━━━━━━━━━━━━━━━━━━━━━━━━━━━━━━━━━━━━━\u001b[0m \u001b[32m7.6/7.6 MB\u001b[0m \u001b[31m10.9 MB/s\u001b[0m eta \u001b[36m0:00:00\u001b[0m\n",
            "\u001b[?25hRequirement already satisfied: packaging>=20.0 in /usr/local/lib/python3.8/dist-packages (from transformers) (23.0)\n",
            "Requirement already satisfied: regex!=2019.12.17 in /usr/local/lib/python3.8/dist-packages (from transformers) (2022.6.2)\n",
            "Requirement already satisfied: tqdm>=4.27 in /usr/local/lib/python3.8/dist-packages (from transformers) (4.64.1)\n",
            "Requirement already satisfied: pyyaml>=5.1 in /usr/local/lib/python3.8/dist-packages (from transformers) (6.0)\n",
            "Requirement already satisfied: numpy>=1.17 in /usr/local/lib/python3.8/dist-packages (from transformers) (1.21.6)\n",
            "Requirement already satisfied: filelock in /usr/local/lib/python3.8/dist-packages (from transformers) (3.9.0)\n",
            "Requirement already satisfied: typing-extensions>=3.7.4.3 in /usr/local/lib/python3.8/dist-packages (from huggingface-hub<1.0,>=0.11.0->transformers) (4.4.0)\n",
            "Requirement already satisfied: certifi>=2017.4.17 in /usr/local/lib/python3.8/dist-packages (from requests->transformers) (2022.12.7)\n",
            "Requirement already satisfied: urllib3<1.27,>=1.21.1 in /usr/local/lib/python3.8/dist-packages (from requests->transformers) (1.24.3)\n",
            "Requirement already satisfied: idna<3,>=2.5 in /usr/local/lib/python3.8/dist-packages (from requests->transformers) (2.10)\n",
            "Requirement already satisfied: chardet<5,>=3.0.2 in /usr/local/lib/python3.8/dist-packages (from requests->transformers) (4.0.0)\n",
            "Installing collected packages: tokenizers, huggingface-hub, transformers\n",
            "Successfully installed huggingface-hub-0.12.0 tokenizers-0.13.2 transformers-4.26.0\n"
          ]
        }
      ],
      "source": [
        "!pip install transformers"
      ]
    },
    {
      "cell_type": "code",
      "execution_count": 3,
      "metadata": {
        "id": "Aa0bZdOXtaMk"
      },
      "outputs": [],
      "source": [
        "import pandas as pd\n",
        "import numpy as np\n",
        "import csv\n",
        "import os\n",
        "import re\n",
        "import tensorflow as tf\n",
        "import tensorflow_datasets as tfds\n",
        "\n",
        "from sklearn.model_selection import train_test_split\n",
        "from transformers import BertTokenizer, BasicTokenizer\n",
        "from transformers import TFBertModel, TFBertPreTrainedModel, TFBertForSequenceClassification\n",
        "from transformers import glue_convert_examples_to_features, InputExample\n",
        "\n",
        "import transformers\n",
        "import matplotlib.pyplot as plt\n",
        "from sklearn import metrics\n",
        "import seaborn as sns"
      ]
    },
    {
      "cell_type": "code",
      "execution_count": 4,
      "metadata": {
        "id": "w3CdanxIrZKL"
      },
      "outputs": [],
      "source": [
        "normalized_path ='/content/Persian_poems_corpus/normalized/'\n",
        "my_poets = ['amir','attar', 'bahar', 'farrokhi', 'ferdousi', 'hafez','feyz',  'parvin', 'saadi',  'vahshi']\n",
        "dataset_df = pd.DataFrame(columns = ['poems', 'label' , 'counts'])\n",
        "poems=[]\n",
        "labels=[]\n",
        "len_Lines=[]\n",
        "counts=[]\n",
        "l=[]\n",
        "for i in range(len(my_poets)):\n",
        "  file1 = open(normalized_path + my_poets[i] + '_norm.txt', 'r')\n",
        "  Lines = file1.readlines()\n",
        "  c = 1\n",
        "  for Line in Lines:\n",
        "    Line = Line.strip('\\n')\n",
        "    Line = Line.strip('\\t')\n",
        "    if len(Line.split())>3:\n",
        "      poems.append(Line)\n",
        "      labels.append(str(i))\n",
        "      counts.append(c)\n",
        "      l.append(len(Line.split()))\n",
        "      c+=1\n",
        "\n",
        "dataset_df['label'] = labels\n",
        "dataset_df['poems'] = poems\n",
        "dataset_df['counts'] = counts"
      ]
    },
    {
      "cell_type": "code",
      "execution_count": 5,
      "metadata": {
        "id": "JTU82T73xF9o"
      },
      "outputs": [],
      "source": [
        "for i in range(10):\n",
        "  len_Lines.append(len(dataset_df.loc[dataset_df['label']==str(i)]))"
      ]
    },
    {
      "cell_type": "code",
      "execution_count": 6,
      "metadata": {
        "colab": {
          "base_uri": "https://localhost:8080/"
        },
        "id": "5yRwTmu1CKmV",
        "outputId": "67144112-945e-49bd-ca92-5fddbd067a9e"
      },
      "outputs": [
        {
          "output_type": "execute_result",
          "data": {
            "text/plain": [
              "18"
            ]
          },
          "metadata": {},
          "execution_count": 6
        }
      ],
      "source": [
        "np.max(l)"
      ]
    },
    {
      "cell_type": "code",
      "execution_count": 7,
      "metadata": {
        "colab": {
          "base_uri": "https://localhost:8080/"
        },
        "id": "uoNl-gcB1bQ1",
        "outputId": "d6a51b8c-af0c-40fa-9de7-b4805a748e33"
      },
      "outputs": [
        {
          "output_type": "execute_result",
          "data": {
            "text/plain": [
              "9430"
            ]
          },
          "metadata": {},
          "execution_count": 7
        }
      ],
      "source": [
        "np.min(len_Lines)"
      ]
    },
    {
      "cell_type": "code",
      "execution_count": 8,
      "metadata": {
        "colab": {
          "base_uri": "https://localhost:8080/"
        },
        "id": "EdZnoPPJu4ZM",
        "outputId": "0848a753-d898-490e-f650-4621789e0624"
      },
      "outputs": [
        {
          "output_type": "execute_result",
          "data": {
            "text/plain": [
              "                             poems label  counts\n",
              "0  با نصرت و فتح و ظفر و دولت والا     0       1\n",
              "1     بنگر علم شاه جهان بر سر بالا     0       2\n",
              "2   لشکر شده آسوده و ترمذ شده ایمن     0       3\n",
              "3  نصرت شده پیوسته و دولت شده والا     0       4\n",
              "4   فتح آمده و تهنیت آورده جهان را     0       5"
            ],
            "text/html": [
              "\n",
              "  <div id=\"df-63ee5c9a-08f0-4e75-bbf3-3bfb0b30e6c5\">\n",
              "    <div class=\"colab-df-container\">\n",
              "      <div>\n",
              "<style scoped>\n",
              "    .dataframe tbody tr th:only-of-type {\n",
              "        vertical-align: middle;\n",
              "    }\n",
              "\n",
              "    .dataframe tbody tr th {\n",
              "        vertical-align: top;\n",
              "    }\n",
              "\n",
              "    .dataframe thead th {\n",
              "        text-align: right;\n",
              "    }\n",
              "</style>\n",
              "<table border=\"1\" class=\"dataframe\">\n",
              "  <thead>\n",
              "    <tr style=\"text-align: right;\">\n",
              "      <th></th>\n",
              "      <th>poems</th>\n",
              "      <th>label</th>\n",
              "      <th>counts</th>\n",
              "    </tr>\n",
              "  </thead>\n",
              "  <tbody>\n",
              "    <tr>\n",
              "      <th>0</th>\n",
              "      <td>با نصرت و فتح و ظفر و دولت والا</td>\n",
              "      <td>0</td>\n",
              "      <td>1</td>\n",
              "    </tr>\n",
              "    <tr>\n",
              "      <th>1</th>\n",
              "      <td>بنگر علم شاه جهان بر سر بالا</td>\n",
              "      <td>0</td>\n",
              "      <td>2</td>\n",
              "    </tr>\n",
              "    <tr>\n",
              "      <th>2</th>\n",
              "      <td>لشکر شده آسوده و ترمذ شده ایمن</td>\n",
              "      <td>0</td>\n",
              "      <td>3</td>\n",
              "    </tr>\n",
              "    <tr>\n",
              "      <th>3</th>\n",
              "      <td>نصرت شده پیوسته و دولت شده والا</td>\n",
              "      <td>0</td>\n",
              "      <td>4</td>\n",
              "    </tr>\n",
              "    <tr>\n",
              "      <th>4</th>\n",
              "      <td>فتح آمده و تهنیت آورده جهان را</td>\n",
              "      <td>0</td>\n",
              "      <td>5</td>\n",
              "    </tr>\n",
              "  </tbody>\n",
              "</table>\n",
              "</div>\n",
              "      <button class=\"colab-df-convert\" onclick=\"convertToInteractive('df-63ee5c9a-08f0-4e75-bbf3-3bfb0b30e6c5')\"\n",
              "              title=\"Convert this dataframe to an interactive table.\"\n",
              "              style=\"display:none;\">\n",
              "        \n",
              "  <svg xmlns=\"http://www.w3.org/2000/svg\" height=\"24px\"viewBox=\"0 0 24 24\"\n",
              "       width=\"24px\">\n",
              "    <path d=\"M0 0h24v24H0V0z\" fill=\"none\"/>\n",
              "    <path d=\"M18.56 5.44l.94 2.06.94-2.06 2.06-.94-2.06-.94-.94-2.06-.94 2.06-2.06.94zm-11 1L8.5 8.5l.94-2.06 2.06-.94-2.06-.94L8.5 2.5l-.94 2.06-2.06.94zm10 10l.94 2.06.94-2.06 2.06-.94-2.06-.94-.94-2.06-.94 2.06-2.06.94z\"/><path d=\"M17.41 7.96l-1.37-1.37c-.4-.4-.92-.59-1.43-.59-.52 0-1.04.2-1.43.59L10.3 9.45l-7.72 7.72c-.78.78-.78 2.05 0 2.83L4 21.41c.39.39.9.59 1.41.59.51 0 1.02-.2 1.41-.59l7.78-7.78 2.81-2.81c.8-.78.8-2.07 0-2.86zM5.41 20L4 18.59l7.72-7.72 1.47 1.35L5.41 20z\"/>\n",
              "  </svg>\n",
              "      </button>\n",
              "      \n",
              "  <style>\n",
              "    .colab-df-container {\n",
              "      display:flex;\n",
              "      flex-wrap:wrap;\n",
              "      gap: 12px;\n",
              "    }\n",
              "\n",
              "    .colab-df-convert {\n",
              "      background-color: #E8F0FE;\n",
              "      border: none;\n",
              "      border-radius: 50%;\n",
              "      cursor: pointer;\n",
              "      display: none;\n",
              "      fill: #1967D2;\n",
              "      height: 32px;\n",
              "      padding: 0 0 0 0;\n",
              "      width: 32px;\n",
              "    }\n",
              "\n",
              "    .colab-df-convert:hover {\n",
              "      background-color: #E2EBFA;\n",
              "      box-shadow: 0px 1px 2px rgba(60, 64, 67, 0.3), 0px 1px 3px 1px rgba(60, 64, 67, 0.15);\n",
              "      fill: #174EA6;\n",
              "    }\n",
              "\n",
              "    [theme=dark] .colab-df-convert {\n",
              "      background-color: #3B4455;\n",
              "      fill: #D2E3FC;\n",
              "    }\n",
              "\n",
              "    [theme=dark] .colab-df-convert:hover {\n",
              "      background-color: #434B5C;\n",
              "      box-shadow: 0px 1px 3px 1px rgba(0, 0, 0, 0.15);\n",
              "      filter: drop-shadow(0px 1px 2px rgba(0, 0, 0, 0.3));\n",
              "      fill: #FFFFFF;\n",
              "    }\n",
              "  </style>\n",
              "\n",
              "      <script>\n",
              "        const buttonEl =\n",
              "          document.querySelector('#df-63ee5c9a-08f0-4e75-bbf3-3bfb0b30e6c5 button.colab-df-convert');\n",
              "        buttonEl.style.display =\n",
              "          google.colab.kernel.accessAllowed ? 'block' : 'none';\n",
              "\n",
              "        async function convertToInteractive(key) {\n",
              "          const element = document.querySelector('#df-63ee5c9a-08f0-4e75-bbf3-3bfb0b30e6c5');\n",
              "          const dataTable =\n",
              "            await google.colab.kernel.invokeFunction('convertToInteractive',\n",
              "                                                     [key], {});\n",
              "          if (!dataTable) return;\n",
              "\n",
              "          const docLinkHtml = 'Like what you see? Visit the ' +\n",
              "            '<a target=\"_blank\" href=https://colab.research.google.com/notebooks/data_table.ipynb>data table notebook</a>'\n",
              "            + ' to learn more about interactive tables.';\n",
              "          element.innerHTML = '';\n",
              "          dataTable['output_type'] = 'display_data';\n",
              "          await google.colab.output.renderOutput(dataTable, element);\n",
              "          const docLink = document.createElement('div');\n",
              "          docLink.innerHTML = docLinkHtml;\n",
              "          element.appendChild(docLink);\n",
              "        }\n",
              "      </script>\n",
              "    </div>\n",
              "  </div>\n",
              "  "
            ]
          },
          "metadata": {},
          "execution_count": 8
        }
      ],
      "source": [
        "dataset_df.head()"
      ]
    },
    {
      "cell_type": "code",
      "execution_count": 9,
      "metadata": {
        "colab": {
          "base_uri": "https://localhost:8080/"
        },
        "id": "4J3cu8UnyTWx",
        "outputId": "c1436056-65c6-45d2-b561-9cac7dde74d2"
      },
      "outputs": [
        {
          "output_type": "execute_result",
          "data": {
            "text/plain": [
              "   index                            poems label  counts\n",
              "0      0  با نصرت و فتح و ظفر و دولت والا     0       1\n",
              "1      1     بنگر علم شاه جهان بر سر بالا     0       2\n",
              "2      2   لشکر شده آسوده و ترمذ شده ایمن     0       3\n",
              "3      3  نصرت شده پیوسته و دولت شده والا     0       4\n",
              "4      4   فتح آمده و تهنیت آورده جهان را     0       5"
            ],
            "text/html": [
              "\n",
              "  <div id=\"df-d75e4fab-7097-453b-afa7-3677a8fe647d\">\n",
              "    <div class=\"colab-df-container\">\n",
              "      <div>\n",
              "<style scoped>\n",
              "    .dataframe tbody tr th:only-of-type {\n",
              "        vertical-align: middle;\n",
              "    }\n",
              "\n",
              "    .dataframe tbody tr th {\n",
              "        vertical-align: top;\n",
              "    }\n",
              "\n",
              "    .dataframe thead th {\n",
              "        text-align: right;\n",
              "    }\n",
              "</style>\n",
              "<table border=\"1\" class=\"dataframe\">\n",
              "  <thead>\n",
              "    <tr style=\"text-align: right;\">\n",
              "      <th></th>\n",
              "      <th>index</th>\n",
              "      <th>poems</th>\n",
              "      <th>label</th>\n",
              "      <th>counts</th>\n",
              "    </tr>\n",
              "  </thead>\n",
              "  <tbody>\n",
              "    <tr>\n",
              "      <th>0</th>\n",
              "      <td>0</td>\n",
              "      <td>با نصرت و فتح و ظفر و دولت والا</td>\n",
              "      <td>0</td>\n",
              "      <td>1</td>\n",
              "    </tr>\n",
              "    <tr>\n",
              "      <th>1</th>\n",
              "      <td>1</td>\n",
              "      <td>بنگر علم شاه جهان بر سر بالا</td>\n",
              "      <td>0</td>\n",
              "      <td>2</td>\n",
              "    </tr>\n",
              "    <tr>\n",
              "      <th>2</th>\n",
              "      <td>2</td>\n",
              "      <td>لشکر شده آسوده و ترمذ شده ایمن</td>\n",
              "      <td>0</td>\n",
              "      <td>3</td>\n",
              "    </tr>\n",
              "    <tr>\n",
              "      <th>3</th>\n",
              "      <td>3</td>\n",
              "      <td>نصرت شده پیوسته و دولت شده والا</td>\n",
              "      <td>0</td>\n",
              "      <td>4</td>\n",
              "    </tr>\n",
              "    <tr>\n",
              "      <th>4</th>\n",
              "      <td>4</td>\n",
              "      <td>فتح آمده و تهنیت آورده جهان را</td>\n",
              "      <td>0</td>\n",
              "      <td>5</td>\n",
              "    </tr>\n",
              "  </tbody>\n",
              "</table>\n",
              "</div>\n",
              "      <button class=\"colab-df-convert\" onclick=\"convertToInteractive('df-d75e4fab-7097-453b-afa7-3677a8fe647d')\"\n",
              "              title=\"Convert this dataframe to an interactive table.\"\n",
              "              style=\"display:none;\">\n",
              "        \n",
              "  <svg xmlns=\"http://www.w3.org/2000/svg\" height=\"24px\"viewBox=\"0 0 24 24\"\n",
              "       width=\"24px\">\n",
              "    <path d=\"M0 0h24v24H0V0z\" fill=\"none\"/>\n",
              "    <path d=\"M18.56 5.44l.94 2.06.94-2.06 2.06-.94-2.06-.94-.94-2.06-.94 2.06-2.06.94zm-11 1L8.5 8.5l.94-2.06 2.06-.94-2.06-.94L8.5 2.5l-.94 2.06-2.06.94zm10 10l.94 2.06.94-2.06 2.06-.94-2.06-.94-.94-2.06-.94 2.06-2.06.94z\"/><path d=\"M17.41 7.96l-1.37-1.37c-.4-.4-.92-.59-1.43-.59-.52 0-1.04.2-1.43.59L10.3 9.45l-7.72 7.72c-.78.78-.78 2.05 0 2.83L4 21.41c.39.39.9.59 1.41.59.51 0 1.02-.2 1.41-.59l7.78-7.78 2.81-2.81c.8-.78.8-2.07 0-2.86zM5.41 20L4 18.59l7.72-7.72 1.47 1.35L5.41 20z\"/>\n",
              "  </svg>\n",
              "      </button>\n",
              "      \n",
              "  <style>\n",
              "    .colab-df-container {\n",
              "      display:flex;\n",
              "      flex-wrap:wrap;\n",
              "      gap: 12px;\n",
              "    }\n",
              "\n",
              "    .colab-df-convert {\n",
              "      background-color: #E8F0FE;\n",
              "      border: none;\n",
              "      border-radius: 50%;\n",
              "      cursor: pointer;\n",
              "      display: none;\n",
              "      fill: #1967D2;\n",
              "      height: 32px;\n",
              "      padding: 0 0 0 0;\n",
              "      width: 32px;\n",
              "    }\n",
              "\n",
              "    .colab-df-convert:hover {\n",
              "      background-color: #E2EBFA;\n",
              "      box-shadow: 0px 1px 2px rgba(60, 64, 67, 0.3), 0px 1px 3px 1px rgba(60, 64, 67, 0.15);\n",
              "      fill: #174EA6;\n",
              "    }\n",
              "\n",
              "    [theme=dark] .colab-df-convert {\n",
              "      background-color: #3B4455;\n",
              "      fill: #D2E3FC;\n",
              "    }\n",
              "\n",
              "    [theme=dark] .colab-df-convert:hover {\n",
              "      background-color: #434B5C;\n",
              "      box-shadow: 0px 1px 3px 1px rgba(0, 0, 0, 0.15);\n",
              "      filter: drop-shadow(0px 1px 2px rgba(0, 0, 0, 0.3));\n",
              "      fill: #FFFFFF;\n",
              "    }\n",
              "  </style>\n",
              "\n",
              "      <script>\n",
              "        const buttonEl =\n",
              "          document.querySelector('#df-d75e4fab-7097-453b-afa7-3677a8fe647d button.colab-df-convert');\n",
              "        buttonEl.style.display =\n",
              "          google.colab.kernel.accessAllowed ? 'block' : 'none';\n",
              "\n",
              "        async function convertToInteractive(key) {\n",
              "          const element = document.querySelector('#df-d75e4fab-7097-453b-afa7-3677a8fe647d');\n",
              "          const dataTable =\n",
              "            await google.colab.kernel.invokeFunction('convertToInteractive',\n",
              "                                                     [key], {});\n",
              "          if (!dataTable) return;\n",
              "\n",
              "          const docLinkHtml = 'Like what you see? Visit the ' +\n",
              "            '<a target=\"_blank\" href=https://colab.research.google.com/notebooks/data_table.ipynb>data table notebook</a>'\n",
              "            + ' to learn more about interactive tables.';\n",
              "          element.innerHTML = '';\n",
              "          dataTable['output_type'] = 'display_data';\n",
              "          await google.colab.output.renderOutput(dataTable, element);\n",
              "          const docLink = document.createElement('div');\n",
              "          docLink.innerHTML = docLinkHtml;\n",
              "          element.appendChild(docLink);\n",
              "        }\n",
              "      </script>\n",
              "    </div>\n",
              "  </div>\n",
              "  "
            ]
          },
          "metadata": {},
          "execution_count": 9
        }
      ],
      "source": [
        "#create balance dataset\n",
        "dataset_df_2 = dataset_df.loc[(dataset_df['counts'] <= np.min(len_Lines))]\n",
        "dataset_df_2 =dataset_df_2.reset_index()\n",
        "dataset_df_2.head()"
      ]
    },
    {
      "cell_type": "code",
      "execution_count": 10,
      "metadata": {
        "colab": {
          "base_uri": "https://localhost:8080/"
        },
        "id": "7gTTRkWNzYnP",
        "outputId": "2ad04542-2fb1-4ead-82ce-d8d7304fbb0b"
      },
      "outputs": [
        {
          "output_type": "execute_result",
          "data": {
            "text/plain": [
              "94300"
            ]
          },
          "metadata": {},
          "execution_count": 10
        }
      ],
      "source": [
        "len(dataset_df_2)"
      ]
    },
    {
      "cell_type": "code",
      "execution_count": 11,
      "metadata": {
        "colab": {
          "base_uri": "https://localhost:8080/"
        },
        "id": "44YG688IwYYx",
        "outputId": "37edbe31-3a18-45f9-c412-ae7befa61994"
      },
      "outputs": [
        {
          "output_type": "execute_result",
          "data": {
            "text/plain": [
              "                             poems label\n",
              "0  با نصرت و فتح و ظفر و دولت والا     0\n",
              "1     بنگر علم شاه جهان بر سر بالا     0\n",
              "2   لشکر شده آسوده و ترمذ شده ایمن     0\n",
              "3  نصرت شده پیوسته و دولت شده والا     0\n",
              "4   فتح آمده و تهنیت آورده جهان را     0"
            ],
            "text/html": [
              "\n",
              "  <div id=\"df-753aab3f-c16a-42bc-8d64-af4cc918bc0d\">\n",
              "    <div class=\"colab-df-container\">\n",
              "      <div>\n",
              "<style scoped>\n",
              "    .dataframe tbody tr th:only-of-type {\n",
              "        vertical-align: middle;\n",
              "    }\n",
              "\n",
              "    .dataframe tbody tr th {\n",
              "        vertical-align: top;\n",
              "    }\n",
              "\n",
              "    .dataframe thead th {\n",
              "        text-align: right;\n",
              "    }\n",
              "</style>\n",
              "<table border=\"1\" class=\"dataframe\">\n",
              "  <thead>\n",
              "    <tr style=\"text-align: right;\">\n",
              "      <th></th>\n",
              "      <th>poems</th>\n",
              "      <th>label</th>\n",
              "    </tr>\n",
              "  </thead>\n",
              "  <tbody>\n",
              "    <tr>\n",
              "      <th>0</th>\n",
              "      <td>با نصرت و فتح و ظفر و دولت والا</td>\n",
              "      <td>0</td>\n",
              "    </tr>\n",
              "    <tr>\n",
              "      <th>1</th>\n",
              "      <td>بنگر علم شاه جهان بر سر بالا</td>\n",
              "      <td>0</td>\n",
              "    </tr>\n",
              "    <tr>\n",
              "      <th>2</th>\n",
              "      <td>لشکر شده آسوده و ترمذ شده ایمن</td>\n",
              "      <td>0</td>\n",
              "    </tr>\n",
              "    <tr>\n",
              "      <th>3</th>\n",
              "      <td>نصرت شده پیوسته و دولت شده والا</td>\n",
              "      <td>0</td>\n",
              "    </tr>\n",
              "    <tr>\n",
              "      <th>4</th>\n",
              "      <td>فتح آمده و تهنیت آورده جهان را</td>\n",
              "      <td>0</td>\n",
              "    </tr>\n",
              "  </tbody>\n",
              "</table>\n",
              "</div>\n",
              "      <button class=\"colab-df-convert\" onclick=\"convertToInteractive('df-753aab3f-c16a-42bc-8d64-af4cc918bc0d')\"\n",
              "              title=\"Convert this dataframe to an interactive table.\"\n",
              "              style=\"display:none;\">\n",
              "        \n",
              "  <svg xmlns=\"http://www.w3.org/2000/svg\" height=\"24px\"viewBox=\"0 0 24 24\"\n",
              "       width=\"24px\">\n",
              "    <path d=\"M0 0h24v24H0V0z\" fill=\"none\"/>\n",
              "    <path d=\"M18.56 5.44l.94 2.06.94-2.06 2.06-.94-2.06-.94-.94-2.06-.94 2.06-2.06.94zm-11 1L8.5 8.5l.94-2.06 2.06-.94-2.06-.94L8.5 2.5l-.94 2.06-2.06.94zm10 10l.94 2.06.94-2.06 2.06-.94-2.06-.94-.94-2.06-.94 2.06-2.06.94z\"/><path d=\"M17.41 7.96l-1.37-1.37c-.4-.4-.92-.59-1.43-.59-.52 0-1.04.2-1.43.59L10.3 9.45l-7.72 7.72c-.78.78-.78 2.05 0 2.83L4 21.41c.39.39.9.59 1.41.59.51 0 1.02-.2 1.41-.59l7.78-7.78 2.81-2.81c.8-.78.8-2.07 0-2.86zM5.41 20L4 18.59l7.72-7.72 1.47 1.35L5.41 20z\"/>\n",
              "  </svg>\n",
              "      </button>\n",
              "      \n",
              "  <style>\n",
              "    .colab-df-container {\n",
              "      display:flex;\n",
              "      flex-wrap:wrap;\n",
              "      gap: 12px;\n",
              "    }\n",
              "\n",
              "    .colab-df-convert {\n",
              "      background-color: #E8F0FE;\n",
              "      border: none;\n",
              "      border-radius: 50%;\n",
              "      cursor: pointer;\n",
              "      display: none;\n",
              "      fill: #1967D2;\n",
              "      height: 32px;\n",
              "      padding: 0 0 0 0;\n",
              "      width: 32px;\n",
              "    }\n",
              "\n",
              "    .colab-df-convert:hover {\n",
              "      background-color: #E2EBFA;\n",
              "      box-shadow: 0px 1px 2px rgba(60, 64, 67, 0.3), 0px 1px 3px 1px rgba(60, 64, 67, 0.15);\n",
              "      fill: #174EA6;\n",
              "    }\n",
              "\n",
              "    [theme=dark] .colab-df-convert {\n",
              "      background-color: #3B4455;\n",
              "      fill: #D2E3FC;\n",
              "    }\n",
              "\n",
              "    [theme=dark] .colab-df-convert:hover {\n",
              "      background-color: #434B5C;\n",
              "      box-shadow: 0px 1px 3px 1px rgba(0, 0, 0, 0.15);\n",
              "      filter: drop-shadow(0px 1px 2px rgba(0, 0, 0, 0.3));\n",
              "      fill: #FFFFFF;\n",
              "    }\n",
              "  </style>\n",
              "\n",
              "      <script>\n",
              "        const buttonEl =\n",
              "          document.querySelector('#df-753aab3f-c16a-42bc-8d64-af4cc918bc0d button.colab-df-convert');\n",
              "        buttonEl.style.display =\n",
              "          google.colab.kernel.accessAllowed ? 'block' : 'none';\n",
              "\n",
              "        async function convertToInteractive(key) {\n",
              "          const element = document.querySelector('#df-753aab3f-c16a-42bc-8d64-af4cc918bc0d');\n",
              "          const dataTable =\n",
              "            await google.colab.kernel.invokeFunction('convertToInteractive',\n",
              "                                                     [key], {});\n",
              "          if (!dataTable) return;\n",
              "\n",
              "          const docLinkHtml = 'Like what you see? Visit the ' +\n",
              "            '<a target=\"_blank\" href=https://colab.research.google.com/notebooks/data_table.ipynb>data table notebook</a>'\n",
              "            + ' to learn more about interactive tables.';\n",
              "          element.innerHTML = '';\n",
              "          dataTable['output_type'] = 'display_data';\n",
              "          await google.colab.output.renderOutput(dataTable, element);\n",
              "          const docLink = document.createElement('div');\n",
              "          docLink.innerHTML = docLinkHtml;\n",
              "          element.appendChild(docLink);\n",
              "        }\n",
              "      </script>\n",
              "    </div>\n",
              "  </div>\n",
              "  "
            ]
          },
          "metadata": {},
          "execution_count": 11
        }
      ],
      "source": [
        "dataset = dataset_df_2[['poems', 'label']]\n",
        "dataset.head()"
      ]
    },
    {
      "cell_type": "code",
      "execution_count": 12,
      "metadata": {
        "colab": {
          "base_uri": "https://localhost:8080/"
        },
        "id": "qMsW5ZH1K7G_",
        "outputId": "de891f1e-874d-4b97-9fdd-8cb7a15722f2"
      },
      "outputs": [
        {
          "output_type": "stream",
          "name": "stderr",
          "text": [
            "<ipython-input-12-a85f7d74aca2>:1: SettingWithCopyWarning: \n",
            "A value is trying to be set on a copy of a slice from a DataFrame.\n",
            "Try using .loc[row_indexer,col_indexer] = value instead\n",
            "\n",
            "See the caveats in the documentation: https://pandas.pydata.org/pandas-docs/stable/user_guide/indexing.html#returning-a-view-versus-a-copy\n",
            "  dataset['Labels'] = dataset['label'].map({'0': 0,'1': 1,'2': 2,'3': 3,'4': 4, '5':5, '6':6, '7':7, '8':8, '9':9})\n"
          ]
        },
        {
          "output_type": "execute_result",
          "data": {
            "text/plain": [
              "                             poems  Labels\n",
              "0  با نصرت و فتح و ظفر و دولت والا       0\n",
              "1     بنگر علم شاه جهان بر سر بالا       0\n",
              "2   لشکر شده آسوده و ترمذ شده ایمن       0\n",
              "3  نصرت شده پیوسته و دولت شده والا       0\n",
              "4   فتح آمده و تهنیت آورده جهان را       0"
            ],
            "text/html": [
              "\n",
              "  <div id=\"df-e2a46c4c-95cb-40df-91f1-2c766c11cbb1\">\n",
              "    <div class=\"colab-df-container\">\n",
              "      <div>\n",
              "<style scoped>\n",
              "    .dataframe tbody tr th:only-of-type {\n",
              "        vertical-align: middle;\n",
              "    }\n",
              "\n",
              "    .dataframe tbody tr th {\n",
              "        vertical-align: top;\n",
              "    }\n",
              "\n",
              "    .dataframe thead th {\n",
              "        text-align: right;\n",
              "    }\n",
              "</style>\n",
              "<table border=\"1\" class=\"dataframe\">\n",
              "  <thead>\n",
              "    <tr style=\"text-align: right;\">\n",
              "      <th></th>\n",
              "      <th>poems</th>\n",
              "      <th>Labels</th>\n",
              "    </tr>\n",
              "  </thead>\n",
              "  <tbody>\n",
              "    <tr>\n",
              "      <th>0</th>\n",
              "      <td>با نصرت و فتح و ظفر و دولت والا</td>\n",
              "      <td>0</td>\n",
              "    </tr>\n",
              "    <tr>\n",
              "      <th>1</th>\n",
              "      <td>بنگر علم شاه جهان بر سر بالا</td>\n",
              "      <td>0</td>\n",
              "    </tr>\n",
              "    <tr>\n",
              "      <th>2</th>\n",
              "      <td>لشکر شده آسوده و ترمذ شده ایمن</td>\n",
              "      <td>0</td>\n",
              "    </tr>\n",
              "    <tr>\n",
              "      <th>3</th>\n",
              "      <td>نصرت شده پیوسته و دولت شده والا</td>\n",
              "      <td>0</td>\n",
              "    </tr>\n",
              "    <tr>\n",
              "      <th>4</th>\n",
              "      <td>فتح آمده و تهنیت آورده جهان را</td>\n",
              "      <td>0</td>\n",
              "    </tr>\n",
              "  </tbody>\n",
              "</table>\n",
              "</div>\n",
              "      <button class=\"colab-df-convert\" onclick=\"convertToInteractive('df-e2a46c4c-95cb-40df-91f1-2c766c11cbb1')\"\n",
              "              title=\"Convert this dataframe to an interactive table.\"\n",
              "              style=\"display:none;\">\n",
              "        \n",
              "  <svg xmlns=\"http://www.w3.org/2000/svg\" height=\"24px\"viewBox=\"0 0 24 24\"\n",
              "       width=\"24px\">\n",
              "    <path d=\"M0 0h24v24H0V0z\" fill=\"none\"/>\n",
              "    <path d=\"M18.56 5.44l.94 2.06.94-2.06 2.06-.94-2.06-.94-.94-2.06-.94 2.06-2.06.94zm-11 1L8.5 8.5l.94-2.06 2.06-.94-2.06-.94L8.5 2.5l-.94 2.06-2.06.94zm10 10l.94 2.06.94-2.06 2.06-.94-2.06-.94-.94-2.06-.94 2.06-2.06.94z\"/><path d=\"M17.41 7.96l-1.37-1.37c-.4-.4-.92-.59-1.43-.59-.52 0-1.04.2-1.43.59L10.3 9.45l-7.72 7.72c-.78.78-.78 2.05 0 2.83L4 21.41c.39.39.9.59 1.41.59.51 0 1.02-.2 1.41-.59l7.78-7.78 2.81-2.81c.8-.78.8-2.07 0-2.86zM5.41 20L4 18.59l7.72-7.72 1.47 1.35L5.41 20z\"/>\n",
              "  </svg>\n",
              "      </button>\n",
              "      \n",
              "  <style>\n",
              "    .colab-df-container {\n",
              "      display:flex;\n",
              "      flex-wrap:wrap;\n",
              "      gap: 12px;\n",
              "    }\n",
              "\n",
              "    .colab-df-convert {\n",
              "      background-color: #E8F0FE;\n",
              "      border: none;\n",
              "      border-radius: 50%;\n",
              "      cursor: pointer;\n",
              "      display: none;\n",
              "      fill: #1967D2;\n",
              "      height: 32px;\n",
              "      padding: 0 0 0 0;\n",
              "      width: 32px;\n",
              "    }\n",
              "\n",
              "    .colab-df-convert:hover {\n",
              "      background-color: #E2EBFA;\n",
              "      box-shadow: 0px 1px 2px rgba(60, 64, 67, 0.3), 0px 1px 3px 1px rgba(60, 64, 67, 0.15);\n",
              "      fill: #174EA6;\n",
              "    }\n",
              "\n",
              "    [theme=dark] .colab-df-convert {\n",
              "      background-color: #3B4455;\n",
              "      fill: #D2E3FC;\n",
              "    }\n",
              "\n",
              "    [theme=dark] .colab-df-convert:hover {\n",
              "      background-color: #434B5C;\n",
              "      box-shadow: 0px 1px 3px 1px rgba(0, 0, 0, 0.15);\n",
              "      filter: drop-shadow(0px 1px 2px rgba(0, 0, 0, 0.3));\n",
              "      fill: #FFFFFF;\n",
              "    }\n",
              "  </style>\n",
              "\n",
              "      <script>\n",
              "        const buttonEl =\n",
              "          document.querySelector('#df-e2a46c4c-95cb-40df-91f1-2c766c11cbb1 button.colab-df-convert');\n",
              "        buttonEl.style.display =\n",
              "          google.colab.kernel.accessAllowed ? 'block' : 'none';\n",
              "\n",
              "        async function convertToInteractive(key) {\n",
              "          const element = document.querySelector('#df-e2a46c4c-95cb-40df-91f1-2c766c11cbb1');\n",
              "          const dataTable =\n",
              "            await google.colab.kernel.invokeFunction('convertToInteractive',\n",
              "                                                     [key], {});\n",
              "          if (!dataTable) return;\n",
              "\n",
              "          const docLinkHtml = 'Like what you see? Visit the ' +\n",
              "            '<a target=\"_blank\" href=https://colab.research.google.com/notebooks/data_table.ipynb>data table notebook</a>'\n",
              "            + ' to learn more about interactive tables.';\n",
              "          element.innerHTML = '';\n",
              "          dataTable['output_type'] = 'display_data';\n",
              "          await google.colab.output.renderOutput(dataTable, element);\n",
              "          const docLink = document.createElement('div');\n",
              "          docLink.innerHTML = docLinkHtml;\n",
              "          element.appendChild(docLink);\n",
              "        }\n",
              "      </script>\n",
              "    </div>\n",
              "  </div>\n",
              "  "
            ]
          },
          "metadata": {},
          "execution_count": 12
        }
      ],
      "source": [
        "dataset['Labels'] = dataset['label'].map({'0': 0,'1': 1,'2': 2,'3': 3,'4': 4, '5':5, '6':6, '7':7, '8':8, '9':9})\n",
        "dataset = dataset.drop([\"label\"], axis=1)\n",
        "\n",
        "dataset.head()"
      ]
    },
    {
      "cell_type": "code",
      "execution_count": 13,
      "metadata": {
        "colab": {
          "base_uri": "https://localhost:8080/"
        },
        "id": "4b_Zlmhl-Sxq",
        "outputId": "74df4e4b-4729-424d-a4df-752290f94712"
      },
      "outputs": [
        {
          "output_type": "execute_result",
          "data": {
            "text/plain": [
              "                                      poems  Labels\n",
              "0          دیده ندارد که دل به مهر نبسته ست       8\n",
              "1          رشته تسبیح اگر بگسست معذورم بدار       5\n",
              "2             دگر به یار جفاکار دل منه سعدی       8\n",
              "3                   در دامن مادر است پنداری       2\n",
              "4                 ز رعنایان نازک دل چه خیزد       1\n",
              "5               محو در محو و فنا اندر فناست       1\n",
              "6                 که شنید عشقی که بلا نباشد       6\n",
              "7               تا چو کلیمی تو و دینت عصاست       7\n",
              "8                زمانه نعره زد چون غول کانا       2\n",
              "9               بحق بسته باشد دل غیب بین را       6\n",
              "10       او دهد دین هدی را روشنایی همچنانک        0\n",
              "11                  وقت است که جان مست عطار       1\n",
              "12        خوش می کنم به باده مشکین مشام جان       5\n",
              "13                چرا باید چنین خودکام بودن       7\n",
              "14                 کجا نشنود پند کس در جهان       4\n",
              "15         امروز این دو خاصه چشمان دلبر است       2\n",
              "16                 ترا زین سخن شاد باید بدن       4\n",
              "17  عطارد پیش تو خواهد که بنشیند به  استیفا       0\n",
              "18     هر آن که با تو دمی یافتست در همه عمر       8\n",
              "19              بندد به کارنامه فضلت طرازها       2"
            ],
            "text/html": [
              "\n",
              "  <div id=\"df-09f48ee1-bbc0-4f92-8bbd-6ad037ad4519\">\n",
              "    <div class=\"colab-df-container\">\n",
              "      <div>\n",
              "<style scoped>\n",
              "    .dataframe tbody tr th:only-of-type {\n",
              "        vertical-align: middle;\n",
              "    }\n",
              "\n",
              "    .dataframe tbody tr th {\n",
              "        vertical-align: top;\n",
              "    }\n",
              "\n",
              "    .dataframe thead th {\n",
              "        text-align: right;\n",
              "    }\n",
              "</style>\n",
              "<table border=\"1\" class=\"dataframe\">\n",
              "  <thead>\n",
              "    <tr style=\"text-align: right;\">\n",
              "      <th></th>\n",
              "      <th>poems</th>\n",
              "      <th>Labels</th>\n",
              "    </tr>\n",
              "  </thead>\n",
              "  <tbody>\n",
              "    <tr>\n",
              "      <th>0</th>\n",
              "      <td>دیده ندارد که دل به مهر نبسته ست</td>\n",
              "      <td>8</td>\n",
              "    </tr>\n",
              "    <tr>\n",
              "      <th>1</th>\n",
              "      <td>رشته تسبیح اگر بگسست معذورم بدار</td>\n",
              "      <td>5</td>\n",
              "    </tr>\n",
              "    <tr>\n",
              "      <th>2</th>\n",
              "      <td>دگر به یار جفاکار دل منه سعدی</td>\n",
              "      <td>8</td>\n",
              "    </tr>\n",
              "    <tr>\n",
              "      <th>3</th>\n",
              "      <td>در دامن مادر است پنداری</td>\n",
              "      <td>2</td>\n",
              "    </tr>\n",
              "    <tr>\n",
              "      <th>4</th>\n",
              "      <td>ز رعنایان نازک دل چه خیزد</td>\n",
              "      <td>1</td>\n",
              "    </tr>\n",
              "    <tr>\n",
              "      <th>5</th>\n",
              "      <td>محو در محو و فنا اندر فناست</td>\n",
              "      <td>1</td>\n",
              "    </tr>\n",
              "    <tr>\n",
              "      <th>6</th>\n",
              "      <td>که شنید عشقی که بلا نباشد</td>\n",
              "      <td>6</td>\n",
              "    </tr>\n",
              "    <tr>\n",
              "      <th>7</th>\n",
              "      <td>تا چو کلیمی تو و دینت عصاست</td>\n",
              "      <td>7</td>\n",
              "    </tr>\n",
              "    <tr>\n",
              "      <th>8</th>\n",
              "      <td>زمانه نعره زد چون غول کانا</td>\n",
              "      <td>2</td>\n",
              "    </tr>\n",
              "    <tr>\n",
              "      <th>9</th>\n",
              "      <td>بحق بسته باشد دل غیب بین را</td>\n",
              "      <td>6</td>\n",
              "    </tr>\n",
              "    <tr>\n",
              "      <th>10</th>\n",
              "      <td>او دهد دین هدی را روشنایی همچنانک</td>\n",
              "      <td>0</td>\n",
              "    </tr>\n",
              "    <tr>\n",
              "      <th>11</th>\n",
              "      <td>وقت است که جان مست عطار</td>\n",
              "      <td>1</td>\n",
              "    </tr>\n",
              "    <tr>\n",
              "      <th>12</th>\n",
              "      <td>خوش می کنم به باده مشکین مشام جان</td>\n",
              "      <td>5</td>\n",
              "    </tr>\n",
              "    <tr>\n",
              "      <th>13</th>\n",
              "      <td>چرا باید چنین خودکام بودن</td>\n",
              "      <td>7</td>\n",
              "    </tr>\n",
              "    <tr>\n",
              "      <th>14</th>\n",
              "      <td>کجا نشنود پند کس در جهان</td>\n",
              "      <td>4</td>\n",
              "    </tr>\n",
              "    <tr>\n",
              "      <th>15</th>\n",
              "      <td>امروز این دو خاصه چشمان دلبر است</td>\n",
              "      <td>2</td>\n",
              "    </tr>\n",
              "    <tr>\n",
              "      <th>16</th>\n",
              "      <td>ترا زین سخن شاد باید بدن</td>\n",
              "      <td>4</td>\n",
              "    </tr>\n",
              "    <tr>\n",
              "      <th>17</th>\n",
              "      <td>عطارد پیش تو خواهد که بنشیند به  استیفا</td>\n",
              "      <td>0</td>\n",
              "    </tr>\n",
              "    <tr>\n",
              "      <th>18</th>\n",
              "      <td>هر آن که با تو دمی یافتست در همه عمر</td>\n",
              "      <td>8</td>\n",
              "    </tr>\n",
              "    <tr>\n",
              "      <th>19</th>\n",
              "      <td>بندد به کارنامه فضلت طرازها</td>\n",
              "      <td>2</td>\n",
              "    </tr>\n",
              "  </tbody>\n",
              "</table>\n",
              "</div>\n",
              "      <button class=\"colab-df-convert\" onclick=\"convertToInteractive('df-09f48ee1-bbc0-4f92-8bbd-6ad037ad4519')\"\n",
              "              title=\"Convert this dataframe to an interactive table.\"\n",
              "              style=\"display:none;\">\n",
              "        \n",
              "  <svg xmlns=\"http://www.w3.org/2000/svg\" height=\"24px\"viewBox=\"0 0 24 24\"\n",
              "       width=\"24px\">\n",
              "    <path d=\"M0 0h24v24H0V0z\" fill=\"none\"/>\n",
              "    <path d=\"M18.56 5.44l.94 2.06.94-2.06 2.06-.94-2.06-.94-.94-2.06-.94 2.06-2.06.94zm-11 1L8.5 8.5l.94-2.06 2.06-.94-2.06-.94L8.5 2.5l-.94 2.06-2.06.94zm10 10l.94 2.06.94-2.06 2.06-.94-2.06-.94-.94-2.06-.94 2.06-2.06.94z\"/><path d=\"M17.41 7.96l-1.37-1.37c-.4-.4-.92-.59-1.43-.59-.52 0-1.04.2-1.43.59L10.3 9.45l-7.72 7.72c-.78.78-.78 2.05 0 2.83L4 21.41c.39.39.9.59 1.41.59.51 0 1.02-.2 1.41-.59l7.78-7.78 2.81-2.81c.8-.78.8-2.07 0-2.86zM5.41 20L4 18.59l7.72-7.72 1.47 1.35L5.41 20z\"/>\n",
              "  </svg>\n",
              "      </button>\n",
              "      \n",
              "  <style>\n",
              "    .colab-df-container {\n",
              "      display:flex;\n",
              "      flex-wrap:wrap;\n",
              "      gap: 12px;\n",
              "    }\n",
              "\n",
              "    .colab-df-convert {\n",
              "      background-color: #E8F0FE;\n",
              "      border: none;\n",
              "      border-radius: 50%;\n",
              "      cursor: pointer;\n",
              "      display: none;\n",
              "      fill: #1967D2;\n",
              "      height: 32px;\n",
              "      padding: 0 0 0 0;\n",
              "      width: 32px;\n",
              "    }\n",
              "\n",
              "    .colab-df-convert:hover {\n",
              "      background-color: #E2EBFA;\n",
              "      box-shadow: 0px 1px 2px rgba(60, 64, 67, 0.3), 0px 1px 3px 1px rgba(60, 64, 67, 0.15);\n",
              "      fill: #174EA6;\n",
              "    }\n",
              "\n",
              "    [theme=dark] .colab-df-convert {\n",
              "      background-color: #3B4455;\n",
              "      fill: #D2E3FC;\n",
              "    }\n",
              "\n",
              "    [theme=dark] .colab-df-convert:hover {\n",
              "      background-color: #434B5C;\n",
              "      box-shadow: 0px 1px 3px 1px rgba(0, 0, 0, 0.15);\n",
              "      filter: drop-shadow(0px 1px 2px rgba(0, 0, 0, 0.3));\n",
              "      fill: #FFFFFF;\n",
              "    }\n",
              "  </style>\n",
              "\n",
              "      <script>\n",
              "        const buttonEl =\n",
              "          document.querySelector('#df-09f48ee1-bbc0-4f92-8bbd-6ad037ad4519 button.colab-df-convert');\n",
              "        buttonEl.style.display =\n",
              "          google.colab.kernel.accessAllowed ? 'block' : 'none';\n",
              "\n",
              "        async function convertToInteractive(key) {\n",
              "          const element = document.querySelector('#df-09f48ee1-bbc0-4f92-8bbd-6ad037ad4519');\n",
              "          const dataTable =\n",
              "            await google.colab.kernel.invokeFunction('convertToInteractive',\n",
              "                                                     [key], {});\n",
              "          if (!dataTable) return;\n",
              "\n",
              "          const docLinkHtml = 'Like what you see? Visit the ' +\n",
              "            '<a target=\"_blank\" href=https://colab.research.google.com/notebooks/data_table.ipynb>data table notebook</a>'\n",
              "            + ' to learn more about interactive tables.';\n",
              "          element.innerHTML = '';\n",
              "          dataTable['output_type'] = 'display_data';\n",
              "          await google.colab.output.renderOutput(dataTable, element);\n",
              "          const docLink = document.createElement('div');\n",
              "          docLink.innerHTML = docLinkHtml;\n",
              "          element.appendChild(docLink);\n",
              "        }\n",
              "      </script>\n",
              "    </div>\n",
              "  </div>\n",
              "  "
            ]
          },
          "metadata": {},
          "execution_count": 13
        }
      ],
      "source": [
        "\n",
        "#shuffling\n",
        "dataset = dataset.sample(frac=1).reset_index(drop=True)\n",
        "dataset.head(20)"
      ]
    },
    {
      "cell_type": "code",
      "execution_count": 14,
      "metadata": {
        "id": "-wO1wHcg-fZe",
        "colab": {
          "base_uri": "https://localhost:8080/"
        },
        "outputId": "fd22f014-6478-4352-dcd5-490e559d9332"
      },
      "outputs": [
        {
          "output_type": "display_data",
          "data": {
            "text/plain": [
              "Downloading (…)solve/main/vocab.txt:   0%|          | 0.00/996k [00:00<?, ?B/s]"
            ],
            "application/vnd.jupyter.widget-view+json": {
              "version_major": 2,
              "version_minor": 0,
              "model_id": "573a023c33094e0cb43c5f516d4d3c13"
            }
          },
          "metadata": {}
        },
        {
          "output_type": "display_data",
          "data": {
            "text/plain": [
              "Downloading (…)okenizer_config.json:   0%|          | 0.00/29.0 [00:00<?, ?B/s]"
            ],
            "application/vnd.jupyter.widget-view+json": {
              "version_major": 2,
              "version_minor": 0,
              "model_id": "45eaf819dba4462dbcada65a0d789374"
            }
          },
          "metadata": {}
        },
        {
          "output_type": "display_data",
          "data": {
            "text/plain": [
              "Downloading (…)lve/main/config.json:   0%|          | 0.00/625 [00:00<?, ?B/s]"
            ],
            "application/vnd.jupyter.widget-view+json": {
              "version_major": 2,
              "version_minor": 0,
              "model_id": "295f6f1bbfce4b8cb5fb343bb5789e87"
            }
          },
          "metadata": {}
        }
      ],
      "source": [
        "tokenizer = BertTokenizer.from_pretrained('bert-base-multilingual-cased', do_lower_case=False)"
      ]
    },
    {
      "cell_type": "code",
      "execution_count": 15,
      "metadata": {
        "id": "ZkU22Ugh-U8h"
      },
      "outputs": [],
      "source": [
        "labels = tf.keras.utils.to_categorical(dataset[\"Labels\"].values, num_classes=10)"
      ]
    },
    {
      "cell_type": "code",
      "execution_count": 16,
      "metadata": {
        "colab": {
          "base_uri": "https://localhost:8080/"
        },
        "id": "2u8UQc3lG1VQ",
        "outputId": "10f675da-6773-49c2-a6cd-8e14ed0922b9"
      },
      "outputs": [
        {
          "output_type": "execute_result",
          "data": {
            "text/plain": [
              "array([[0., 0., 0., ..., 0., 1., 0.],\n",
              "       [0., 0., 0., ..., 0., 0., 0.],\n",
              "       [0., 0., 0., ..., 0., 1., 0.],\n",
              "       ...,\n",
              "       [1., 0., 0., ..., 0., 0., 0.],\n",
              "       [0., 0., 0., ..., 0., 0., 0.],\n",
              "       [0., 0., 0., ..., 1., 0., 0.]], dtype=float32)"
            ]
          },
          "metadata": {},
          "execution_count": 16
        }
      ],
      "source": [
        "labels"
      ]
    },
    {
      "cell_type": "code",
      "execution_count": 17,
      "metadata": {
        "colab": {
          "base_uri": "https://localhost:8080/"
        },
        "id": "7ePDHoQVNGh_",
        "outputId": "a2df7559-4128-4acf-a08d-102fe4849fff"
      },
      "outputs": [
        {
          "output_type": "execute_result",
          "data": {
            "text/plain": [
              "                                  poems  Labels\n",
              "0      دیده ندارد که دل به مهر نبسته ست       8\n",
              "1      رشته تسبیح اگر بگسست معذورم بدار       5\n",
              "2         دگر به یار جفاکار دل منه سعدی       8\n",
              "3               در دامن مادر است پنداری       2\n",
              "4             ز رعنایان نازک دل چه خیزد       1\n",
              "...                                 ...     ...\n",
              "94295      چه ذوق از ذکر پیدا آید آن را       8\n",
              "94296           صورتی نیست در همه ارتنگ       3\n",
              "94297  خم و شکن همه بر عارض و جبین دارد       0\n",
              "94298           این سعادت بسعی می نشود        6\n",
              "94299     تا بکی کودنی و مستی و خودرایی       7\n",
              "\n",
              "[94300 rows x 2 columns]"
            ],
            "text/html": [
              "\n",
              "  <div id=\"df-f884ba40-3046-42ff-8b32-a642e906b419\">\n",
              "    <div class=\"colab-df-container\">\n",
              "      <div>\n",
              "<style scoped>\n",
              "    .dataframe tbody tr th:only-of-type {\n",
              "        vertical-align: middle;\n",
              "    }\n",
              "\n",
              "    .dataframe tbody tr th {\n",
              "        vertical-align: top;\n",
              "    }\n",
              "\n",
              "    .dataframe thead th {\n",
              "        text-align: right;\n",
              "    }\n",
              "</style>\n",
              "<table border=\"1\" class=\"dataframe\">\n",
              "  <thead>\n",
              "    <tr style=\"text-align: right;\">\n",
              "      <th></th>\n",
              "      <th>poems</th>\n",
              "      <th>Labels</th>\n",
              "    </tr>\n",
              "  </thead>\n",
              "  <tbody>\n",
              "    <tr>\n",
              "      <th>0</th>\n",
              "      <td>دیده ندارد که دل به مهر نبسته ست</td>\n",
              "      <td>8</td>\n",
              "    </tr>\n",
              "    <tr>\n",
              "      <th>1</th>\n",
              "      <td>رشته تسبیح اگر بگسست معذورم بدار</td>\n",
              "      <td>5</td>\n",
              "    </tr>\n",
              "    <tr>\n",
              "      <th>2</th>\n",
              "      <td>دگر به یار جفاکار دل منه سعدی</td>\n",
              "      <td>8</td>\n",
              "    </tr>\n",
              "    <tr>\n",
              "      <th>3</th>\n",
              "      <td>در دامن مادر است پنداری</td>\n",
              "      <td>2</td>\n",
              "    </tr>\n",
              "    <tr>\n",
              "      <th>4</th>\n",
              "      <td>ز رعنایان نازک دل چه خیزد</td>\n",
              "      <td>1</td>\n",
              "    </tr>\n",
              "    <tr>\n",
              "      <th>...</th>\n",
              "      <td>...</td>\n",
              "      <td>...</td>\n",
              "    </tr>\n",
              "    <tr>\n",
              "      <th>94295</th>\n",
              "      <td>چه ذوق از ذکر پیدا آید آن را</td>\n",
              "      <td>8</td>\n",
              "    </tr>\n",
              "    <tr>\n",
              "      <th>94296</th>\n",
              "      <td>صورتی نیست در همه ارتنگ</td>\n",
              "      <td>3</td>\n",
              "    </tr>\n",
              "    <tr>\n",
              "      <th>94297</th>\n",
              "      <td>خم و شکن همه بر عارض و جبین دارد</td>\n",
              "      <td>0</td>\n",
              "    </tr>\n",
              "    <tr>\n",
              "      <th>94298</th>\n",
              "      <td>این سعادت بسعی می نشود</td>\n",
              "      <td>6</td>\n",
              "    </tr>\n",
              "    <tr>\n",
              "      <th>94299</th>\n",
              "      <td>تا بکی کودنی و مستی و خودرایی</td>\n",
              "      <td>7</td>\n",
              "    </tr>\n",
              "  </tbody>\n",
              "</table>\n",
              "<p>94300 rows × 2 columns</p>\n",
              "</div>\n",
              "      <button class=\"colab-df-convert\" onclick=\"convertToInteractive('df-f884ba40-3046-42ff-8b32-a642e906b419')\"\n",
              "              title=\"Convert this dataframe to an interactive table.\"\n",
              "              style=\"display:none;\">\n",
              "        \n",
              "  <svg xmlns=\"http://www.w3.org/2000/svg\" height=\"24px\"viewBox=\"0 0 24 24\"\n",
              "       width=\"24px\">\n",
              "    <path d=\"M0 0h24v24H0V0z\" fill=\"none\"/>\n",
              "    <path d=\"M18.56 5.44l.94 2.06.94-2.06 2.06-.94-2.06-.94-.94-2.06-.94 2.06-2.06.94zm-11 1L8.5 8.5l.94-2.06 2.06-.94-2.06-.94L8.5 2.5l-.94 2.06-2.06.94zm10 10l.94 2.06.94-2.06 2.06-.94-2.06-.94-.94-2.06-.94 2.06-2.06.94z\"/><path d=\"M17.41 7.96l-1.37-1.37c-.4-.4-.92-.59-1.43-.59-.52 0-1.04.2-1.43.59L10.3 9.45l-7.72 7.72c-.78.78-.78 2.05 0 2.83L4 21.41c.39.39.9.59 1.41.59.51 0 1.02-.2 1.41-.59l7.78-7.78 2.81-2.81c.8-.78.8-2.07 0-2.86zM5.41 20L4 18.59l7.72-7.72 1.47 1.35L5.41 20z\"/>\n",
              "  </svg>\n",
              "      </button>\n",
              "      \n",
              "  <style>\n",
              "    .colab-df-container {\n",
              "      display:flex;\n",
              "      flex-wrap:wrap;\n",
              "      gap: 12px;\n",
              "    }\n",
              "\n",
              "    .colab-df-convert {\n",
              "      background-color: #E8F0FE;\n",
              "      border: none;\n",
              "      border-radius: 50%;\n",
              "      cursor: pointer;\n",
              "      display: none;\n",
              "      fill: #1967D2;\n",
              "      height: 32px;\n",
              "      padding: 0 0 0 0;\n",
              "      width: 32px;\n",
              "    }\n",
              "\n",
              "    .colab-df-convert:hover {\n",
              "      background-color: #E2EBFA;\n",
              "      box-shadow: 0px 1px 2px rgba(60, 64, 67, 0.3), 0px 1px 3px 1px rgba(60, 64, 67, 0.15);\n",
              "      fill: #174EA6;\n",
              "    }\n",
              "\n",
              "    [theme=dark] .colab-df-convert {\n",
              "      background-color: #3B4455;\n",
              "      fill: #D2E3FC;\n",
              "    }\n",
              "\n",
              "    [theme=dark] .colab-df-convert:hover {\n",
              "      background-color: #434B5C;\n",
              "      box-shadow: 0px 1px 3px 1px rgba(0, 0, 0, 0.15);\n",
              "      filter: drop-shadow(0px 1px 2px rgba(0, 0, 0, 0.3));\n",
              "      fill: #FFFFFF;\n",
              "    }\n",
              "  </style>\n",
              "\n",
              "      <script>\n",
              "        const buttonEl =\n",
              "          document.querySelector('#df-f884ba40-3046-42ff-8b32-a642e906b419 button.colab-df-convert');\n",
              "        buttonEl.style.display =\n",
              "          google.colab.kernel.accessAllowed ? 'block' : 'none';\n",
              "\n",
              "        async function convertToInteractive(key) {\n",
              "          const element = document.querySelector('#df-f884ba40-3046-42ff-8b32-a642e906b419');\n",
              "          const dataTable =\n",
              "            await google.colab.kernel.invokeFunction('convertToInteractive',\n",
              "                                                     [key], {});\n",
              "          if (!dataTable) return;\n",
              "\n",
              "          const docLinkHtml = 'Like what you see? Visit the ' +\n",
              "            '<a target=\"_blank\" href=https://colab.research.google.com/notebooks/data_table.ipynb>data table notebook</a>'\n",
              "            + ' to learn more about interactive tables.';\n",
              "          element.innerHTML = '';\n",
              "          dataTable['output_type'] = 'display_data';\n",
              "          await google.colab.output.renderOutput(dataTable, element);\n",
              "          const docLink = document.createElement('div');\n",
              "          docLink.innerHTML = docLinkHtml;\n",
              "          element.appendChild(docLink);\n",
              "        }\n",
              "      </script>\n",
              "    </div>\n",
              "  </div>\n",
              "  "
            ]
          },
          "metadata": {},
          "execution_count": 17
        }
      ],
      "source": [
        "dataset"
      ]
    },
    {
      "cell_type": "code",
      "execution_count": 18,
      "metadata": {
        "id": "cTBMd4hpI_I7"
      },
      "outputs": [],
      "source": [
        "MAX_LENGTH = 128"
      ]
    },
    {
      "cell_type": "code",
      "execution_count": 19,
      "metadata": {
        "id": "f--ZZGun-gBf"
      },
      "outputs": [],
      "source": [
        "def convert_data_into_input_example(df, ids, masks,tokenizer):\n",
        "    for i in range(len(df)):\n",
        "      tokenized_poem = tokenizer.encode_plus(\n",
        "          dataset.loc[i,'poems'],\n",
        "          max_length=MAX_LENGTH,\n",
        "          truncation = True,\n",
        "          padding = 'max_length', \n",
        "          add_special_tokens = True,\n",
        "          return_tensors = 'tf'\n",
        "      )\n",
        "      ids[i,:] = tokenized_poem.input_ids\n",
        "      masks[i,:] = tokenized_poem.attention_mask\n",
        "    return ids, masks"
      ]
    },
    {
      "cell_type": "code",
      "execution_count": 20,
      "metadata": {
        "id": "D0xClUORI3sd"
      },
      "outputs": [],
      "source": [
        "X_input_ids = np.zeros((len(dataset), MAX_LENGTH))\n",
        "X_attention_masks = np.zeros((len(dataset), MAX_LENGTH))"
      ]
    },
    {
      "cell_type": "code",
      "execution_count": 21,
      "metadata": {
        "id": "6lgiAmypI3uI"
      },
      "outputs": [],
      "source": [
        "X_input_ids, X_attention_masks = convert_data_into_input_example(dataset, X_input_ids, X_attention_masks, tokenizer)"
      ]
    },
    {
      "cell_type": "code",
      "execution_count": 22,
      "metadata": {
        "colab": {
          "base_uri": "https://localhost:8080/"
        },
        "id": "u8SnSJ-oI3y4",
        "outputId": "9bccbf59-e0fa-4747-eb26-dccdd36c28c6"
      },
      "outputs": [
        {
          "output_type": "execute_result",
          "data": {
            "text/plain": [
              "array([[  101., 65453., 57179., ...,     0.,     0.,     0.],\n",
              "       [  101., 55202.,   766., ...,     0.,     0.,     0.],\n",
              "       [  101.,   771., 29255., ...,     0.,     0.,     0.],\n",
              "       ...,\n",
              "       [  101.,   770., 10700., ...,     0.,     0.,     0.],\n",
              "       [  101., 10641.,   775., ...,     0.,     0.,     0.],\n",
              "       [  101., 13044.,   764., ...,     0.,     0.,     0.]])"
            ]
          },
          "metadata": {},
          "execution_count": 22
        }
      ],
      "source": [
        "X_input_ids"
      ]
    },
    {
      "cell_type": "code",
      "execution_count": 23,
      "metadata": {
        "colab": {
          "base_uri": "https://localhost:8080/"
        },
        "id": "FvXGQ-XLI32c",
        "outputId": "c9bf3f11-ea08-429b-b480-a3411d242974"
      },
      "outputs": [
        {
          "output_type": "execute_result",
          "data": {
            "text/plain": [
              "array([[0., 0., 0., ..., 0., 1., 0.],\n",
              "       [0., 0., 0., ..., 0., 0., 0.],\n",
              "       [0., 0., 0., ..., 0., 1., 0.],\n",
              "       ...,\n",
              "       [1., 0., 0., ..., 0., 0., 0.],\n",
              "       [0., 0., 0., ..., 0., 0., 0.],\n",
              "       [0., 0., 0., ..., 1., 0., 0.]], dtype=float32)"
            ]
          },
          "metadata": {},
          "execution_count": 23
        }
      ],
      "source": [
        "labels"
      ]
    },
    {
      "cell_type": "code",
      "execution_count": 24,
      "metadata": {
        "id": "zNMkAS9uKrO-"
      },
      "outputs": [],
      "source": [
        "final_dataset = tf.data.Dataset.from_tensor_slices((X_input_ids, X_attention_masks, labels))"
      ]
    },
    {
      "cell_type": "code",
      "execution_count": 25,
      "metadata": {
        "id": "TJsolHu7LDum"
      },
      "outputs": [],
      "source": [
        "def DatsetMapFunc(input_ids, attn_masks, labels):\n",
        "  return {\n",
        "      'input_ids':input_ids,\n",
        "      'attention_mask': attn_masks\n",
        "  }, labels"
      ]
    },
    {
      "cell_type": "code",
      "execution_count": 26,
      "metadata": {
        "id": "Dzr2XqI-LkM_"
      },
      "outputs": [],
      "source": [
        "final_dataset = final_dataset.map(DatsetMapFunc)"
      ]
    },
    {
      "cell_type": "code",
      "execution_count": 27,
      "metadata": {
        "id": "nKdwri8bLpgl"
      },
      "outputs": [],
      "source": [
        "def get_dataset_partitions_tf(ds, ds_size, train_split=0.8, val_split=0.1, test_split=0.1):\n",
        "    assert (train_split + test_split + val_split) == 1\n",
        "    \n",
        "    train_size = int((ds_size//BATCH_SIZE)* train_split ) #int(train_split * ds_size)  \n",
        "    val_size = int((ds_size//BATCH_SIZE)* val_split )    #int(val_split * ds_size)\n",
        "    \n",
        "    train_ds = ds.take(train_size)    \n",
        "    val_ds = ds.skip(train_size).take(val_size)\n",
        "    test_ds = ds.skip(train_size).skip(val_size)\n",
        "    \n",
        "    return train_ds, val_ds, test_ds"
      ]
    },
    {
      "cell_type": "code",
      "execution_count": 28,
      "metadata": {
        "id": "YAVVUG6bLq0b"
      },
      "outputs": [],
      "source": [
        "BATCH_SIZE= 32\n",
        "final_dataset = final_dataset.shuffle(10000).batch(BATCH_SIZE, drop_remainder=True)\n",
        "train_dataset, val_dataset, test_dataset = get_dataset_partitions_tf(final_dataset, len(dataset))"
      ]
    },
    {
      "cell_type": "code",
      "execution_count": 29,
      "metadata": {
        "id": "MFMCadJuMNmB",
        "colab": {
          "base_uri": "https://localhost:8080/"
        },
        "outputId": "315377a1-b768-4113-f452-b0e24e808fd2"
      },
      "outputs": [
        {
          "output_type": "execute_result",
          "data": {
            "text/plain": [
              "2356"
            ]
          },
          "metadata": {},
          "execution_count": 29
        }
      ],
      "source": [
        "len(train_dataset)"
      ]
    },
    {
      "cell_type": "markdown",
      "source": [
        "###### select 1000 poem for Perplexity\n"
      ],
      "metadata": {
        "id": "cIWo1vn4PxQG"
      }
    },
    {
      "cell_type": "code",
      "source": [
        "import random\n",
        "randomlist = random.sample(range(0, len(dataset)), 1000)\n",
        "print(randomlist)"
      ],
      "metadata": {
        "id": "Dp0Pd2QUP0_P",
        "colab": {
          "base_uri": "https://localhost:8080/"
        },
        "outputId": "5fcc21f9-c3ef-4602-efc2-3d7cf450a89d"
      },
      "execution_count": 30,
      "outputs": [
        {
          "output_type": "stream",
          "name": "stdout",
          "text": [
            "[16721, 29470, 122, 3255, 39405, 36976, 54742, 19189, 82312, 2850, 26082, 91254, 28474, 72553, 78839, 37754, 7947, 24817, 72187, 44641, 27877, 38392, 17617, 70034, 90993, 66954, 43178, 24599, 79416, 55095, 23343, 27403, 3044, 32004, 10115, 69076, 23012, 75456, 75004, 38294, 52399, 49441, 9480, 1876, 70816, 28983, 44657, 10501, 52096, 7286, 53762, 33284, 55806, 15, 40776, 45217, 28140, 45173, 58585, 58874, 30415, 10743, 43881, 81149, 8602, 19565, 87087, 9671, 85753, 41251, 48985, 39173, 25785, 19614, 27588, 6105, 46603, 70818, 26376, 33083, 38430, 7890, 14734, 8398, 90237, 49167, 39355, 13001, 35136, 61506, 52480, 87873, 74869, 38208, 94083, 71235, 9933, 31680, 90795, 76748, 67173, 87925, 18784, 63255, 39586, 39404, 57845, 14857, 46519, 38745, 58756, 950, 4519, 5084, 28061, 2462, 27413, 17009, 73340, 2389, 17575, 5912, 85911, 47565, 4395, 25816, 65420, 92414, 16232, 49180, 86181, 35475, 84695, 65371, 91751, 80719, 31930, 23526, 3632, 1809, 50957, 45586, 50095, 15762, 88618, 57415, 15914, 53489, 7718, 16115, 68600, 1859, 58280, 89245, 33316, 42376, 34527, 69639, 28305, 20494, 26510, 71971, 77308, 73947, 24488, 90266, 63845, 82693, 25889, 25555, 93952, 45975, 26049, 84978, 74743, 11072, 8270, 25548, 84173, 22508, 62555, 47972, 34072, 82857, 26521, 25489, 12244, 80809, 83267, 41085, 38079, 73017, 48629, 45782, 33432, 17711, 25001, 7656, 11254, 15756, 71138, 61223, 60130, 86881, 54185, 57435, 88656, 31333, 82881, 80732, 91937, 73011, 63395, 63791, 52064, 29445, 17987, 33826, 90378, 4816, 75027, 22674, 49139, 40658, 3911, 78071, 40149, 81295, 73629, 44666, 47367, 39064, 22071, 39022, 86661, 9445, 35963, 6354, 66311, 10364, 58864, 82373, 61315, 15179, 38856, 51778, 37232, 55496, 9170, 74089, 54721, 46599, 64095, 1623, 26767, 93596, 754, 74346, 38068, 14658, 53784, 64733, 52041, 77280, 34773, 39425, 26842, 49229, 44079, 50020, 92890, 33499, 75263, 61768, 55181, 57830, 2704, 45055, 58619, 42165, 13537, 51185, 71741, 66554, 79078, 24458, 38057, 22808, 40827, 56775, 79506, 74791, 35931, 37984, 78726, 54723, 77669, 50926, 75519, 59677, 2312, 9630, 1991, 50046, 84420, 80118, 19949, 25892, 3215, 25111, 14167, 42170, 90643, 69898, 71181, 92033, 10797, 82627, 85029, 6051, 86870, 4945, 70306, 29904, 46683, 71833, 12554, 25615, 26433, 17325, 21971, 69741, 27948, 31315, 2472, 81112, 18396, 40672, 86312, 76099, 57871, 29525, 3331, 23362, 65106, 67759, 82347, 72399, 35907, 78712, 46837, 2589, 25915, 27354, 31981, 76410, 92552, 4058, 13986, 4999, 24247, 43000, 19402, 89986, 27218, 67126, 36707, 39009, 45512, 52078, 11221, 21216, 82466, 72391, 56623, 10314, 42388, 13218, 7080, 93678, 77636, 81785, 71495, 26323, 88244, 74265, 90915, 47589, 65863, 46007, 794, 24265, 8401, 53110, 2108, 74067, 85153, 74558, 10642, 35444, 92968, 92637, 16968, 63675, 54417, 29961, 33417, 13117, 90194, 33543, 71266, 81328, 42467, 78228, 47663, 67979, 4407, 65228, 13655, 84661, 10675, 81637, 14570, 48043, 16732, 67397, 91238, 43820, 47755, 55790, 172, 36538, 162, 88881, 82692, 63060, 35524, 58982, 94025, 63861, 66856, 59373, 18264, 31462, 13788, 10303, 8359, 39298, 32451, 5972, 57288, 19344, 8725, 73029, 62449, 38462, 26612, 15133, 76509, 568, 75228, 16479, 42576, 70521, 62650, 14736, 52191, 50179, 12226, 25008, 74702, 39580, 31668, 48755, 30615, 46264, 93715, 3563, 68860, 90324, 72771, 18589, 27899, 62439, 31641, 51733, 81136, 67900, 90026, 48236, 21986, 66852, 86310, 22994, 80620, 61539, 9017, 72300, 33266, 34651, 65422, 55902, 87678, 14540, 64381, 17774, 78909, 54658, 42552, 38994, 33365, 68118, 7817, 39493, 18672, 51980, 49770, 3466, 58410, 9960, 60416, 93838, 11195, 72017, 51237, 53055, 54421, 51520, 3320, 45532, 52450, 46428, 1731, 88293, 42103, 48925, 78940, 86439, 67476, 53875, 64855, 804, 46844, 20229, 29813, 53127, 32, 59377, 55199, 40605, 87166, 18718, 70929, 7859, 59026, 57663, 75875, 43082, 92867, 7790, 3755, 76797, 10081, 89490, 23525, 42813, 30406, 23073, 48914, 60768, 33123, 26826, 37106, 46984, 45014, 1226, 23994, 83394, 82081, 53508, 31839, 69703, 26990, 85047, 84484, 44481, 47282, 4083, 44961, 71078, 92041, 33472, 83290, 76300, 26176, 608, 49990, 89725, 29115, 86935, 60867, 35496, 26872, 70154, 53700, 64310, 20915, 53896, 17767, 48426, 10089, 87475, 56329, 22352, 40406, 64224, 77100, 66969, 10993, 58133, 14177, 1603, 11572, 21605, 64249, 29493, 65190, 63051, 20825, 33294, 90724, 21173, 32661, 8775, 66933, 10490, 19364, 52550, 92485, 56168, 42967, 227, 16175, 92277, 22112, 8873, 33401, 76342, 55030, 67117, 93884, 16939, 43066, 58505, 58392, 4593, 26694, 32178, 13798, 30066, 21040, 59034, 44399, 43155, 44194, 36080, 8979, 12507, 86566, 78094, 48467, 12042, 21934, 15698, 43224, 88837, 27575, 1488, 71944, 78026, 49146, 76430, 33355, 85714, 35724, 84133, 57421, 73397, 35171, 90798, 84210, 74292, 12723, 5802, 86539, 43409, 475, 47619, 61483, 51074, 72181, 91767, 92321, 49202, 63565, 41731, 55676, 37094, 91286, 78222, 17440, 35941, 43129, 13775, 64392, 86572, 77591, 17286, 55782, 65232, 64219, 84549, 84074, 1622, 87125, 40958, 34087, 6527, 78509, 30152, 17092, 48750, 67996, 4123, 62611, 90979, 44753, 36100, 84783, 69319, 55634, 10749, 23895, 58725, 52133, 51273, 34905, 69689, 19082, 5464, 66187, 89852, 92426, 31224, 43040, 65693, 59680, 8716, 17564, 4524, 73532, 81727, 3376, 56804, 61794, 65247, 37858, 86601, 58940, 60363, 29027, 90096, 32475, 8837, 51827, 40908, 71252, 10559, 37782, 32325, 40111, 75905, 6733, 67694, 16770, 11840, 48234, 62912, 85580, 90340, 36254, 73972, 90082, 81589, 8951, 28288, 29547, 17981, 59656, 43166, 45847, 81313, 67177, 52061, 57633, 88573, 88234, 5858, 48223, 9536, 1652, 55608, 16374, 35573, 6145, 79199, 53818, 863, 51298, 31740, 62051, 15032, 92955, 92569, 51743, 88799, 5806, 34523, 43515, 1985, 71228, 88364, 81950, 49114, 10080, 91674, 54754, 44684, 32497, 6362, 8394, 29707, 45674, 17752, 21235, 34015, 11193, 89416, 13107, 47918, 44341, 57100, 3390, 78606, 50240, 31953, 32876, 58904, 22158, 14501, 53403, 15615, 20052, 1760, 45243, 60347, 61021, 43679, 43290, 20481, 70788, 10204, 6881, 81103, 56903, 57781, 48202, 91335, 33597, 38726, 19774, 12396, 69746, 73494, 19762, 39080, 26279, 16507, 76026, 7993, 74765, 64163, 90896, 74495, 11198, 47391, 85785, 4883, 41749, 33451, 81583, 13991, 36590, 27280, 34781, 86628, 527, 59314, 25587, 93681, 39473, 36312, 7414, 87617, 56105, 2323, 47467, 3918, 45676, 48259, 60783, 1327, 2952, 3610, 50950, 7805, 78321, 64117, 85128, 76996, 36655, 23190, 42094, 68076, 92126, 38279, 93874, 15697, 93400, 74715, 22520, 74451, 90434, 90781, 72394, 18089, 62145, 62348, 34257, 54101, 12167, 43401, 94055, 30876, 80359, 37040, 54086, 29748, 36334, 77288, 89109, 14910, 78641, 69083, 53576, 3640, 30794, 90564, 32453, 36897, 21042, 7927, 33568, 70366, 77943, 28412, 1165, 55245, 31866, 67821, 58122, 20642, 40771, 44885, 61402, 19839, 86685, 21294, 93831, 84280, 61471, 85096, 90377, 81050, 37169, 4692, 91482, 19940, 74369, 61477]\n"
          ]
        }
      ]
    },
    {
      "cell_type": "code",
      "source": [
        "my_1000_samples = dataset.iloc[randomlist]"
      ],
      "metadata": {
        "id": "BcEsB6jiP2mH"
      },
      "execution_count": 31,
      "outputs": []
    },
    {
      "cell_type": "code",
      "execution_count": 32,
      "metadata": {
        "id": "rzTi7vZ4QYsh"
      },
      "outputs": [],
      "source": [
        "my_X_input_ids = np.zeros((len(my_1000_samples), MAX_LENGTH))\n",
        "my_X_attention_masks = np.zeros((len(my_1000_samples), MAX_LENGTH))"
      ]
    },
    {
      "cell_type": "code",
      "execution_count": 33,
      "metadata": {
        "id": "eBymcLH9QYsh"
      },
      "outputs": [],
      "source": [
        "my_X_input_ids, my_X_attention_masks = convert_data_into_input_example(my_1000_samples, my_X_input_ids, my_X_attention_masks, tokenizer)"
      ]
    },
    {
      "cell_type": "code",
      "execution_count": 34,
      "metadata": {
        "id": "KokTlMY-QYsi",
        "colab": {
          "base_uri": "https://localhost:8080/"
        },
        "outputId": "76631d30-aa1a-4e6c-e6f7-26843fc58e2c"
      },
      "outputs": [
        {
          "output_type": "execute_result",
          "data": {
            "text/plain": [
              "array([[  101., 65453., 57179., ...,     0.,     0.,     0.],\n",
              "       [  101., 55202.,   766., ...,     0.,     0.,     0.],\n",
              "       [  101.,   771., 29255., ...,     0.,     0.,     0.],\n",
              "       ...,\n",
              "       [  101., 10383., 11330., ...,     0.,     0.,     0.],\n",
              "       [  101., 17534., 42445., ...,     0.,     0.,     0.],\n",
              "       [  101.,   817., 47559., ...,     0.,     0.,     0.]])"
            ]
          },
          "metadata": {},
          "execution_count": 34
        }
      ],
      "source": [
        "my_X_input_ids"
      ]
    },
    {
      "cell_type": "code",
      "execution_count": 35,
      "metadata": {
        "id": "DH_IJ5zIQYsi",
        "colab": {
          "base_uri": "https://localhost:8080/"
        },
        "outputId": "4b0e56b6-4e47-463f-b33a-bb6995c5bad3"
      },
      "outputs": [
        {
          "output_type": "execute_result",
          "data": {
            "text/plain": [
              "array([[0., 0., 0., ..., 0., 1., 0.],\n",
              "       [0., 0., 0., ..., 0., 1., 0.],\n",
              "       [0., 0., 0., ..., 0., 0., 1.],\n",
              "       ...,\n",
              "       [0., 0., 0., ..., 0., 0., 0.],\n",
              "       [0., 0., 0., ..., 0., 0., 0.],\n",
              "       [0., 0., 0., ..., 0., 0., 0.]], dtype=float32)"
            ]
          },
          "metadata": {},
          "execution_count": 35
        }
      ],
      "source": [
        "my_labels = tf.keras.utils.to_categorical(my_1000_samples[\"Labels\"].values, num_classes=10)\n",
        "my_labels"
      ]
    },
    {
      "cell_type": "code",
      "execution_count": 36,
      "metadata": {
        "id": "GPsx7gfrQYsj"
      },
      "outputs": [],
      "source": [
        "final_my_1000_samples = tf.data.Dataset.from_tensor_slices((my_X_input_ids, my_X_attention_masks, my_labels))"
      ]
    },
    {
      "cell_type": "code",
      "source": [
        "def DatsetMapFunc(input_ids, attn_masks, labels):\n",
        "  return {\n",
        "      'input_ids':input_ids,\n",
        "      'attention_mask': attn_masks\n",
        "  }, labels"
      ],
      "metadata": {
        "id": "KJKbxHzjRpJt"
      },
      "execution_count": 37,
      "outputs": []
    },
    {
      "cell_type": "code",
      "execution_count": 38,
      "metadata": {
        "id": "8SNpAUwwQYsj"
      },
      "outputs": [],
      "source": [
        "final_my_1000_samples = final_my_1000_samples.map(DatsetMapFunc)"
      ]
    },
    {
      "cell_type": "code",
      "source": [
        "final_my_1000_samples"
      ],
      "metadata": {
        "colab": {
          "base_uri": "https://localhost:8080/"
        },
        "id": "iqwf27pnRyJs",
        "outputId": "2a4c46fe-71f4-4022-d2ea-7ac0e93ef413"
      },
      "execution_count": 39,
      "outputs": [
        {
          "output_type": "execute_result",
          "data": {
            "text/plain": [
              "<MapDataset element_spec=({'input_ids': TensorSpec(shape=(128,), dtype=tf.float64, name=None), 'attention_mask': TensorSpec(shape=(128,), dtype=tf.float64, name=None)}, TensorSpec(shape=(10,), dtype=tf.float32, name=None))>"
            ]
          },
          "metadata": {},
          "execution_count": 39
        }
      ]
    },
    {
      "cell_type": "code",
      "execution_count": 40,
      "metadata": {
        "id": "3nCrsOQ8QYsk"
      },
      "outputs": [],
      "source": [
        "BATCH_SIZE= 32\n",
        "final_my_1000_samples = final_my_1000_samples.batch(BATCH_SIZE, drop_remainder=True)"
      ]
    },
    {
      "cell_type": "code",
      "execution_count": 41,
      "metadata": {
        "colab": {
          "base_uri": "https://localhost:8080/"
        },
        "outputId": "95ac20a1-d1c5-4d01-afa7-4d537f509ab8",
        "id": "327wq8ATQYsl"
      },
      "outputs": [
        {
          "output_type": "execute_result",
          "data": {
            "text/plain": [
              "31"
            ]
          },
          "metadata": {},
          "execution_count": 41
        }
      ],
      "source": [
        "len(final_my_1000_samples)"
      ]
    },
    {
      "cell_type": "markdown",
      "metadata": {
        "id": "oBGtvMPPfNRF"
      },
      "source": [
        "## freeze BERT model"
      ]
    },
    {
      "cell_type": "code",
      "execution_count": null,
      "metadata": {
        "colab": {
          "base_uri": "https://localhost:8080/",
          "referenced_widgets": [
            "0f8b3f25a870443897a1121479574577",
            "7a0e637662524f30aac2dfaabb1f8828",
            "9358fc2c90194de1b0ba6ec070409472",
            "81049c72c8e941e8a69cea611e248bbf",
            "27727e5aa00043e89cf66b3673fbe604",
            "f870099b612e4153b29e08004557524e",
            "a4b7eaf601174605a13dd553929d97a7",
            "db25677b48e94e619951e80cea669437",
            "218f5001ca554804b87084a10985edcc",
            "7439656f83cc4ea5ae0904a69c3426d4",
            "2bf52ad57ac74a93af6169da3af8b43a"
          ]
        },
        "id": "4cL9nDqkfelJ",
        "outputId": "f4ee0472-54af-40b1-abd7-d43bb6092f19"
      },
      "outputs": [
        {
          "output_type": "display_data",
          "data": {
            "text/plain": [
              "Downloading (…)\"tf_model.h5\";:   0%|          | 0.00/1.08G [00:00<?, ?B/s]"
            ],
            "application/vnd.jupyter.widget-view+json": {
              "version_major": 2,
              "version_minor": 0,
              "model_id": "0f8b3f25a870443897a1121479574577"
            }
          },
          "metadata": {}
        },
        {
          "output_type": "stream",
          "name": "stderr",
          "text": [
            "Some layers from the model checkpoint at bert-base-multilingual-cased were not used when initializing TFBertModel: ['mlm___cls', 'nsp___cls']\n",
            "- This IS expected if you are initializing TFBertModel from the checkpoint of a model trained on another task or with another architecture (e.g. initializing a BertForSequenceClassification model from a BertForPreTraining model).\n",
            "- This IS NOT expected if you are initializing TFBertModel from the checkpoint of a model that you expect to be exactly identical (initializing a BertForSequenceClassification model from a BertForSequenceClassification model).\n",
            "All the layers of TFBertModel were initialized from the model checkpoint at bert-base-multilingual-cased.\n",
            "If your task is similar to the task the model of the checkpoint was trained on, you can already use TFBertModel for predictions without further training.\n"
          ]
        }
      ],
      "source": [
        "bert_model = TFBertModel.from_pretrained('bert-base-multilingual-cased')"
      ]
    },
    {
      "cell_type": "code",
      "execution_count": null,
      "metadata": {
        "id": "tf20rB8dkG03"
      },
      "outputs": [],
      "source": [
        "bert_model.trainable = False"
      ]
    },
    {
      "cell_type": "code",
      "execution_count": null,
      "metadata": {
        "colab": {
          "base_uri": "https://localhost:8080/"
        },
        "id": "zn8xdg37k3Ys",
        "outputId": "6a6d922d-40b1-496f-b5cb-282265417cab"
      },
      "outputs": [
        {
          "output_type": "stream",
          "name": "stdout",
          "text": [
            "Model: \"tf_bert_model\"\n",
            "_________________________________________________________________\n",
            " Layer (type)                Output Shape              Param #   \n",
            "=================================================================\n",
            " bert (TFBertMainLayer)      multiple                  177853440 \n",
            "                                                                 \n",
            "=================================================================\n",
            "Total params: 177,853,440\n",
            "Trainable params: 0\n",
            "Non-trainable params: 177,853,440\n",
            "_________________________________________________________________\n"
          ]
        }
      ],
      "source": [
        "bert_model.summary(())"
      ]
    },
    {
      "cell_type": "code",
      "execution_count": null,
      "metadata": {
        "colab": {
          "base_uri": "https://localhost:8080/"
        },
        "id": "GdomC8S4fVvZ",
        "outputId": "c98f0c80-a690-4fb8-fba7-e100fcbfa61a"
      },
      "outputs": [
        {
          "output_type": "stream",
          "name": "stdout",
          "text": [
            "Model: \"model\"\n",
            "__________________________________________________________________________________________________\n",
            " Layer (type)                   Output Shape         Param #     Connected to                     \n",
            "==================================================================================================\n",
            " input_ids (InputLayer)         [(None, 128)]        0           []                               \n",
            "                                                                                                  \n",
            " attention_mask (InputLayer)    [(None, 128)]        0           []                               \n",
            "                                                                                                  \n",
            " tf_bert_model (TFBertModel)    TFBaseModelOutputWi  177853440   ['input_ids[0][0]',              \n",
            "                                thPoolingAndCrossAt               'attention_mask[0][0]']         \n",
            "                                tentions(last_hidde                                               \n",
            "                                n_state=(None, 128,                                               \n",
            "                                 768),                                                            \n",
            "                                 pooler_output=(Non                                               \n",
            "                                e, 768),                                                          \n",
            "                                 past_key_values=No                                               \n",
            "                                ne, hidden_states=N                                               \n",
            "                                one, attentions=Non                                               \n",
            "                                e, cross_attentions                                               \n",
            "                                =None)                                                            \n",
            "                                                                                                  \n",
            " intermeiate_layer (Dense)      (None, 512)          393728      ['tf_bert_model[0][1]']          \n",
            "                                                                                                  \n",
            " output_layer (Dense)           (None, 10)           5130        ['intermeiate_layer[0][0]']      \n",
            "                                                                                                  \n",
            "==================================================================================================\n",
            "Total params: 178,252,298\n",
            "Trainable params: 398,858\n",
            "Non-trainable params: 177,853,440\n",
            "__________________________________________________________________________________________________\n"
          ]
        }
      ],
      "source": [
        "input_ids = tf.keras.layers.Input(shape=(MAX_LENGTH,), name = 'input_ids', dtype= 'int32')\n",
        "attention_masks = tf.keras.layers.Input(shape=(MAX_LENGTH,), name = 'attention_mask', dtype= 'int32')\n",
        "bert_embeds = bert_model(input_ids, attention_mask = attention_masks)[1]\n",
        "\n",
        "intermeiate_layer = tf.keras.layers.Dense(512, activation='relu', name = 'intermeiate_layer')(bert_embeds)\n",
        "output_layer = tf.keras.layers.Dense(10, activation='softmax', name = 'output_layer')(intermeiate_layer)\n",
        "model = tf.keras.Model(inputs=[input_ids, attention_masks], outputs=output_layer)\n",
        "model.summary()"
      ]
    },
    {
      "cell_type": "code",
      "execution_count": null,
      "metadata": {
        "id": "dvJTF-gPjoGz"
      },
      "outputs": [],
      "source": [
        "optimizer = tf.keras.optimizers.Adam(learning_rate=2e-5, epsilon=1e-08, clipnorm=1.0)\n",
        "loss = tf.keras.losses.CategoricalCrossentropy()\n",
        "metric = tf.keras.metrics.CategoricalAccuracy('accuracy')\n",
        "EPOCHS = 5\n",
        "model.compile(optimizer=optimizer, loss=loss, metrics=[metric])"
      ]
    },
    {
      "cell_type": "code",
      "execution_count": null,
      "metadata": {
        "colab": {
          "base_uri": "https://localhost:8080/"
        },
        "id": "psHr34uDjoGz",
        "outputId": "dae13b2f-bf48-4c7a-ee7c-8a0e1376b969"
      },
      "outputs": [
        {
          "output_type": "stream",
          "name": "stdout",
          "text": [
            "Epoch 1/5\n",
            "2356/2356 [==============================] - 761s 320ms/step - loss: 2.2774 - accuracy: 0.1433 - val_loss: 2.2471 - val_accuracy: 0.1749\n",
            "Epoch 2/5\n",
            "2356/2356 [==============================] - 751s 319ms/step - loss: 2.2353 - accuracy: 0.1819 - val_loss: 2.2056 - val_accuracy: 0.2104\n",
            "Epoch 3/5\n",
            "2356/2356 [==============================] - 752s 319ms/step - loss: 2.2075 - accuracy: 0.1956 - val_loss: 2.1801 - val_accuracy: 0.2192\n",
            "Epoch 4/5\n",
            "2356/2356 [==============================] - 752s 319ms/step - loss: 2.1858 - accuracy: 0.2082 - val_loss: 2.1585 - val_accuracy: 0.2256\n",
            "Epoch 5/5\n",
            "2356/2356 [==============================] - 752s 319ms/step - loss: 2.1705 - accuracy: 0.2120 - val_loss: 2.1385 - val_accuracy: 0.2344\n"
          ]
        }
      ],
      "source": [
        "history = model.fit(train_dataset, validation_data=val_dataset, epochs = EPOCHS)"
      ]
    },
    {
      "cell_type": "code",
      "source": [
        "model.save('/content/drive/MyDrive/deep_learning_hws/HWs/4/P3/model_a') "
      ],
      "metadata": {
        "id": "LIBQkjgzT2bL",
        "colab": {
          "base_uri": "https://localhost:8080/"
        },
        "outputId": "12fe517a-04fb-47f9-8027-0bb10f8b6053"
      },
      "execution_count": null,
      "outputs": [
        {
          "output_type": "stream",
          "name": "stderr",
          "text": [
            "WARNING:absl:Found untraced functions such as embeddings_layer_call_fn, embeddings_layer_call_and_return_conditional_losses, encoder_layer_call_fn, encoder_layer_call_and_return_conditional_losses, pooler_layer_call_fn while saving (showing 5 of 420). These functions will not be directly callable after loading.\n"
          ]
        }
      ]
    },
    {
      "cell_type": "markdown",
      "source": [
        "#### evaluation results"
      ],
      "metadata": {
        "id": "B_U39oBC_8ro"
      }
    },
    {
      "cell_type": "code",
      "source": [
        "preds = model.predict(test_dataset)\n",
        "Y_pred_labels = preds.argmax(axis=1)\n",
        "data, labels = tuple(zip(*test_dataset))\n",
        "Y_test=[]\n",
        "for i in range(len(labels)):\n",
        "  for j in range(32):\n",
        "    Y_test.append(labels[i][j])\n",
        "\n",
        "\n",
        "Y_test_labels=np.zeros_like(Y_pred_labels)\n",
        "ind=0\n",
        "for t in Y_test:\n",
        "  Y_test_labels[ind] = (t.numpy()).argmax()\n",
        "  ind+=1"
      ],
      "metadata": {
        "colab": {
          "base_uri": "https://localhost:8080/"
        },
        "id": "bvdmEQC-pHZt",
        "outputId": "8a0ba12e-a76e-42c8-b64d-daa8843efe78"
      },
      "execution_count": null,
      "outputs": [
        {
          "output_type": "stream",
          "name": "stdout",
          "text": [
            "296/296 [==============================] - 82s 266ms/step\n"
          ]
        }
      ]
    },
    {
      "cell_type": "code",
      "source": [
        "\n",
        "\n",
        "# labels = ['amir','attar', 'bahar', 'farrokhi', 'ferdousi', 'hafez','feyz',  'parvin', 'saadi',  'vahshi']\n",
        "cm = metrics.confusion_matrix(list(Y_test_labels), list(Y_pred_labels) )\n",
        "print(cm)\n",
        "fig = plt.figure()\n",
        "ax = fig.add_subplot(111)\n",
        "cax = ax.matshow(cm)\n",
        "plt.title('Confusion matrix of the classifier')\n",
        "fig.colorbar(cax)\n",
        "# ax.set_xticklabels( labels)\n",
        "# ax.set_yticklabels(labels)\n",
        "plt.xlabel('Predicted')\n",
        "plt.ylabel('True')\n",
        "plt.show()\n",
        "\n",
        "print('-'*100)\n",
        "print('loss and acuuracy for test dataset')\n",
        "loss, accuracy = model.evaluate(test_dataset)\n",
        "print('result for test dataset: loss is {}, acuuracy is {}'.format(loss, accuracy))\n",
        "print('-'*100)\n",
        "print('Precision: %.8f' % metrics.precision_score(Y_test_labels, Y_pred_labels,average= 'weighted'))\n",
        "print('Recall: %.8f' % metrics.recall_score(Y_test_labels, Y_pred_labels,average= 'weighted'))\n",
        "print('Accuracy: %.8f' % metrics.accuracy_score(Y_test_labels, Y_pred_labels))\n",
        "print('F1 Score(micro): %.8f' % metrics.f1_score(Y_test_labels, Y_pred_labels,average= 'micro'))\n",
        "print('-'*100)"
      ],
      "metadata": {
        "id": "xI2T4PuTUjs_",
        "colab": {
          "base_uri": "https://localhost:8080/"
        },
        "outputId": "62011cf4-b342-4651-8cf0-3204399b17b0"
      },
      "execution_count": null,
      "outputs": [
        {
          "output_type": "stream",
          "name": "stdout",
          "text": [
            "[[200  72  24  54  93  32  78 255 159   0]\n",
            " [179  94  33  59  74  24  62 238 164   6]\n",
            " [166  88  26  50  95  33  65 227 161   7]\n",
            " [162  94  29  60 107  26  61 260 200   9]\n",
            " [163  84  27  55 110  30  72 258 144   9]\n",
            " [183  84  29  50  93  29  77 243 177   4]\n",
            " [184  91  31  60  86  28  62 248 193   3]\n",
            " [164  79  42  54  96  28  50 223 177   5]\n",
            " [144  90  26  53 109  23  63 235 169   3]\n",
            " [163  85  24  60  82  17  69 250 151   5]]\n"
          ]
        },
        {
          "output_type": "display_data",
          "data": {
            "text/plain": [
              "<Figure size 432x288 with 2 Axes>"
            ],
            "image/png": "[encoded data removed]"
          },
          "metadata": {
            "needs_background": "light"
          }
        },
        {
          "output_type": "stream",
          "name": "stdout",
          "text": [
            "----------------------------------------------------------------------------------------------------\n",
            "loss and acuuracy for test dataset\n",
            "296/296 [==============================] - 81s 268ms/step - loss: 2.1411 - accuracy: 0.2302\n",
            "result for test dataset: loss is 2.141146421432495, acuuracy is 0.23015202581882477\n",
            "----------------------------------------------------------------------------------------------------\n",
            "Precision: 0.10323053\n",
            "Recall: 0.10325169\n",
            "Accuracy: 0.10325169\n",
            "F1 Score(micro): 0.10325169\n",
            "----------------------------------------------------------------------------------------------------\n"
          ]
        }
      ]
    },
    {
      "cell_type": "markdown",
      "metadata": {
        "id": "jeMOlxyWfI06"
      },
      "source": [
        "## finetuning(Adam)"
      ]
    },
    {
      "cell_type": "code",
      "execution_count": null,
      "metadata": {
        "id": "HvlPZiAOfhKh",
        "colab": {
          "base_uri": "https://localhost:8080/"
        },
        "outputId": "0f163ad1-567a-468e-b08e-b7e4ce4ccbb2"
      },
      "outputs": [
        {
          "output_type": "stream",
          "name": "stderr",
          "text": [
            "Some layers from the model checkpoint at bert-base-multilingual-cased were not used when initializing TFBertModel: ['mlm___cls', 'nsp___cls']\n",
            "- This IS expected if you are initializing TFBertModel from the checkpoint of a model trained on another task or with another architecture (e.g. initializing a BertForSequenceClassification model from a BertForPreTraining model).\n",
            "- This IS NOT expected if you are initializing TFBertModel from the checkpoint of a model that you expect to be exactly identical (initializing a BertForSequenceClassification model from a BertForSequenceClassification model).\n",
            "All the layers of TFBertModel were initialized from the model checkpoint at bert-base-multilingual-cased.\n",
            "If your task is similar to the task the model of the checkpoint was trained on, you can already use TFBertModel for predictions without further training.\n"
          ]
        }
      ],
      "source": [
        "bert_model = TFBertModel.from_pretrained('bert-base-multilingual-cased')   #introduced for farsi(link:https://www.youtube.com/watch?v=Gn8gB6CD0ak)"
      ]
    },
    {
      "cell_type": "code",
      "execution_count": null,
      "metadata": {
        "colab": {
          "base_uri": "https://localhost:8080/"
        },
        "id": "GguJxeI1NNu-",
        "outputId": "58ac61ae-d087-46f4-b38a-8c727924d703"
      },
      "outputs": [
        {
          "output_type": "stream",
          "name": "stdout",
          "text": [
            "Model: \"model_2\"\n",
            "__________________________________________________________________________________________________\n",
            " Layer (type)                   Output Shape         Param #     Connected to                     \n",
            "==================================================================================================\n",
            " input_ids (InputLayer)         [(None, 128)]        0           []                               \n",
            "                                                                                                  \n",
            " attention_mask (InputLayer)    [(None, 128)]        0           []                               \n",
            "                                                                                                  \n",
            " tf_bert_model_2 (TFBertModel)  TFBaseModelOutputWi  177853440   ['input_ids[0][0]',              \n",
            "                                thPoolingAndCrossAt               'attention_mask[0][0]']         \n",
            "                                tentions(last_hidde                                               \n",
            "                                n_state=(None, 128,                                               \n",
            "                                 768),                                                            \n",
            "                                 pooler_output=(Non                                               \n",
            "                                e, 768),                                                          \n",
            "                                 past_key_values=No                                               \n",
            "                                ne, hidden_states=N                                               \n",
            "                                one, attentions=Non                                               \n",
            "                                e, cross_attentions                                               \n",
            "                                =None)                                                            \n",
            "                                                                                                  \n",
            " intermeiate_layer (Dense)      (None, 512)          393728      ['tf_bert_model_2[0][1]']        \n",
            "                                                                                                  \n",
            " output_layer (Dense)           (None, 10)           5130        ['intermeiate_layer[0][0]']      \n",
            "                                                                                                  \n",
            "==================================================================================================\n",
            "Total params: 178,252,298\n",
            "Trainable params: 178,252,298\n",
            "Non-trainable params: 0\n",
            "__________________________________________________________________________________________________\n"
          ]
        }
      ],
      "source": [
        "input_ids = tf.keras.layers.Input(shape=(MAX_LENGTH,), name = 'input_ids', dtype= 'int32')\n",
        "attention_masks = tf.keras.layers.Input(shape=(MAX_LENGTH,), name = 'attention_mask', dtype= 'int32')\n",
        "bert_embeds = bert_model(input_ids, attention_mask = attention_masks)[1]\n",
        "intermeiate_layer = tf.keras.layers.Dense(512, activation='relu', name = 'intermeiate_layer')(bert_embeds)\n",
        "output_layer = tf.keras.layers.Dense(10, activation='softmax', name = 'output_layer')(intermeiate_layer)\n",
        "model = tf.keras.Model(inputs=[input_ids, attention_masks], outputs=output_layer)\n",
        "model.summary()"
      ]
    },
    {
      "cell_type": "code",
      "execution_count": null,
      "metadata": {
        "id": "TkGCc0jlOqUs"
      },
      "outputs": [],
      "source": [
        "optimizer = tf.keras.optimizers.Adam(learning_rate=2e-5, epsilon=1e-08, clipnorm=1.0)\n",
        "loss = tf.keras.losses.CategoricalCrossentropy()\n",
        "metric = tf.keras.metrics.CategoricalAccuracy('accuracy')\n",
        "EPOCHS = 5\n",
        "model.compile(optimizer=optimizer, loss=loss, metrics=[metric])"
      ]
    },
    {
      "cell_type": "code",
      "execution_count": null,
      "metadata": {
        "colab": {
          "base_uri": "https://localhost:8080/"
        },
        "id": "2rFvfY5lP7D5",
        "outputId": "659994ec-fd79-4de8-8e98-e36ab568397b"
      },
      "outputs": [
        {
          "output_type": "stream",
          "name": "stdout",
          "text": [
            "Epoch 1/5\n",
            "2356/2356 [==============================] - 2007s 846ms/step - loss: 1.6813 - accuracy: 0.3998 - val_loss: 1.2543 - val_accuracy: 0.5689\n",
            "Epoch 2/5\n",
            "2356/2356 [==============================] - 1995s 847ms/step - loss: 1.2424 - accuracy: 0.5677 - val_loss: 1.0286 - val_accuracy: 0.6567\n",
            "Epoch 3/5\n",
            "2356/2356 [==============================] - 1995s 847ms/step - loss: 1.0124 - accuracy: 0.6512 - val_loss: 0.9051 - val_accuracy: 0.6935\n",
            "Epoch 4/5\n",
            "2356/2356 [==============================] - 1997s 848ms/step - loss: 0.8383 - accuracy: 0.7149 - val_loss: 0.8587 - val_accuracy: 0.7195\n",
            "Epoch 5/5\n",
            "2356/2356 [==============================] - 1994s 846ms/step - loss: 0.6902 - accuracy: 0.7652 - val_loss: 0.7653 - val_accuracy: 0.7509\n"
          ]
        }
      ],
      "source": [
        "history = model.fit(train_dataset, validation_data=val_dataset, epochs = EPOCHS)"
      ]
    },
    {
      "cell_type": "code",
      "source": [
        "model.save('/content/drive/MyDrive/deep_learning_hws/HWs/4/P3/model_b.h5') "
      ],
      "metadata": {
        "id": "gNvwnede4DEQ"
      },
      "execution_count": null,
      "outputs": []
    },
    {
      "cell_type": "markdown",
      "source": [
        "#### evaluation results"
      ],
      "metadata": {
        "id": "B-c57Xce4Dn9"
      }
    },
    {
      "cell_type": "code",
      "source": [
        "# loaded_model = tf.keras.models.load_model('/content/drive/MyDrive/deep_learning_hws/HWs/4/P3/model_b.h5', custom_objects={\"TFBertModel\": transformers.TFBertModel})"
      ],
      "metadata": {
        "id": "GZfg44iBh30j"
      },
      "execution_count": null,
      "outputs": []
    },
    {
      "cell_type": "code",
      "source": [
        "preds = model.predict(test_dataset)\n",
        "Y_pred_labels = preds.argmax(axis=1)\n",
        "data, labels = tuple(zip(*test_dataset))\n",
        "Y_test=[]\n",
        "for i in range(len(labels)):\n",
        "  for j in range(32):\n",
        "    Y_test.append(labels[i][j])\n",
        "\n",
        "\n",
        "Y_test_labels=np.zeros_like(Y_pred_labels)\n",
        "ind=0\n",
        "for t in Y_test:\n",
        "  Y_test_labels[ind] = (t.numpy()).argmax()\n",
        "  ind+=1"
      ],
      "metadata": {
        "colab": {
          "base_uri": "https://localhost:8080/"
        },
        "outputId": "50fac60c-f550-4e54-d877-6e6fffc2bf15",
        "id": "oYc4f0CI4Dn-"
      },
      "execution_count": null,
      "outputs": [
        {
          "output_type": "stream",
          "name": "stdout",
          "text": [
            "296/296 [==============================] - 83s 268ms/step\n"
          ]
        }
      ]
    },
    {
      "cell_type": "code",
      "source": [
        "# labels = ['amir','attar', 'bahar', 'farrokhi', 'ferdousi', 'hafez','feyz',  'parvin', 'saadi',  'vahshi']\n",
        "cm = metrics.confusion_matrix(list(Y_test_labels), list(Y_pred_labels) )\n",
        "print(cm)\n",
        "fig = plt.figure()\n",
        "ax = fig.add_subplot(111)\n",
        "cax = ax.matshow(cm)\n",
        "plt.title('Confusion matrix of the classifier')\n",
        "fig.colorbar(cax)\n",
        "# ax.set_xticklabels( labels)\n",
        "# ax.set_yticklabels(labels)\n",
        "plt.xlabel('Predicted')\n",
        "plt.ylabel('True')\n",
        "plt.show()\n",
        "\n",
        "print('-'*100)\n",
        "print('loss and acuuracy for test dataset')\n",
        "loss, accuracy = model.evaluate(test_dataset)\n",
        "print('result for test dataset: loss is {}, acuuracy is {}'.format(loss, accuracy))\n",
        "print('-'*100)\n",
        "print('Precision: %.8f' % metrics.precision_score(Y_test_labels, Y_pred_labels,average= 'weighted'))\n",
        "print('Recall: %.8f' % metrics.recall_score(Y_test_labels, Y_pred_labels,average= 'weighted'))\n",
        "print('Accuracy: %.8f' % metrics.accuracy_score(Y_test_labels, Y_pred_labels))\n",
        "print('F1 Score(micro): %.8f' % metrics.f1_score(Y_test_labels, Y_pred_labels,average= 'micro'))\n",
        "print('-'*100)"
      ],
      "metadata": {
        "colab": {
          "base_uri": "https://localhost:8080/",
          "height": 636
        },
        "outputId": "e0a79289-8e5e-4a75-cc02-0feac343d498",
        "id": "fT0Bo52q4Dn-"
      },
      "execution_count": null,
      "outputs": [
        {
          "output_type": "stream",
          "name": "stdout",
          "text": [
            "[[ 92  95  78 106  95  48 106  97  79 144]\n",
            " [ 90 104  90 116  92  56 104  88 113 113]\n",
            " [132 102  67  99  95  60 114 116  92 118]\n",
            " [ 86 101  84  85  97  60 120  93  97 111]\n",
            " [ 89  95  73  78 118  54 108  91  97 108]\n",
            " [100  88  73  92  87  72 126 105  90 104]\n",
            " [ 77  99  79  98 111  36  94 106  85 129]\n",
            " [101  99  85  99  81  40  99 113 102 110]\n",
            " [ 82  95  81  84 118  60 103 125 105 120]\n",
            " [ 96 106  74  97 107  57 104  99 118 115]]\n"
          ]
        },
        {
          "output_type": "display_data",
          "data": {
            "text/plain": [
              "<Figure size 432x288 with 2 Axes>"
            ],
            "image/png": "[encoded data removed]"
          },
          "metadata": {
            "needs_background": "light"
          }
        },
        {
          "output_type": "stream",
          "name": "stdout",
          "text": [
            "----------------------------------------------------------------------------------------------------\n",
            "loss and acuuracy for test dataset\n",
            "296/296 [==============================] - 82s 270ms/step - loss: 0.8997 - accuracy: 0.7042\n",
            "result for test dataset: loss is 0.8997077941894531, acuuracy is 0.7041807174682617\n",
            "----------------------------------------------------------------------------------------------------\n",
            "Precision: 0.10290900\n",
            "Recall: 0.10187922\n",
            "Accuracy: 0.10187922\n",
            "F1 Score(micro): 0.10187922\n",
            "----------------------------------------------------------------------------------------------------\n"
          ]
        }
      ]
    },
    {
      "cell_type": "markdown",
      "metadata": {
        "id": "7NGCYuas5vni"
      },
      "source": [
        "## finetuning(SGD)"
      ]
    },
    {
      "cell_type": "code",
      "execution_count": null,
      "metadata": {
        "id": "Z6q1Md8h5vnr",
        "colab": {
          "base_uri": "https://localhost:8080/",
          "height": 156,
          "referenced_widgets": [
            "23452f8ea1db41c5917479f368bc3bd1",
            "8b0efc1ed572407c98b0a5a2bd4bcc8e",
            "f0d206a48d934ff8bbfc6106fe8bf515",
            "570ddba07ede445085cafc64f7ff224a",
            "6ac362f8350246eabf029c717f3dbd63",
            "bf0c0a3b433e44c8879d18938cf5f4b8",
            "55f4c796c1a84343aa99f6b13a8a1bbe",
            "cd767a099dab4be6b32034c818dccc5b",
            "d82fd66799904b61be5071ccac1a6dd4",
            "80ade2b941b2407f9d4718e5b0f96e95",
            "10871aa5cb62402db673579ab129e7cc"
          ]
        },
        "outputId": "fb981a2a-e5d8-4cb3-be65-f64f6bce56a7"
      },
      "outputs": [
        {
          "output_type": "display_data",
          "data": {
            "text/plain": [
              "Downloading (…)\"tf_model.h5\";:   0%|          | 0.00/1.08G [00:00<?, ?B/s]"
            ],
            "application/vnd.jupyter.widget-view+json": {
              "version_major": 2,
              "version_minor": 0,
              "model_id": "23452f8ea1db41c5917479f368bc3bd1"
            }
          },
          "metadata": {}
        },
        {
          "output_type": "stream",
          "name": "stderr",
          "text": [
            "Some layers from the model checkpoint at bert-base-multilingual-cased were not used when initializing TFBertModel: ['nsp___cls', 'mlm___cls']\n",
            "- This IS expected if you are initializing TFBertModel from the checkpoint of a model trained on another task or with another architecture (e.g. initializing a BertForSequenceClassification model from a BertForPreTraining model).\n",
            "- This IS NOT expected if you are initializing TFBertModel from the checkpoint of a model that you expect to be exactly identical (initializing a BertForSequenceClassification model from a BertForSequenceClassification model).\n",
            "All the layers of TFBertModel were initialized from the model checkpoint at bert-base-multilingual-cased.\n",
            "If your task is similar to the task the model of the checkpoint was trained on, you can already use TFBertModel for predictions without further training.\n"
          ]
        }
      ],
      "source": [
        "bert_model = TFBertModel.from_pretrained('bert-base-multilingual-cased')   #introduced for farsi(link:https://www.youtube.com/watch?v=Gn8gB6CD0ak)"
      ]
    },
    {
      "cell_type": "code",
      "execution_count": null,
      "metadata": {
        "id": "6WkYitop5vnr",
        "colab": {
          "base_uri": "https://localhost:8080/"
        },
        "outputId": "63dd187b-7c8d-4b1d-e96b-11e39745e7bc"
      },
      "outputs": [
        {
          "output_type": "stream",
          "name": "stdout",
          "text": [
            "Model: \"model\"\n",
            "__________________________________________________________________________________________________\n",
            " Layer (type)                   Output Shape         Param #     Connected to                     \n",
            "==================================================================================================\n",
            " input_ids (InputLayer)         [(None, 128)]        0           []                               \n",
            "                                                                                                  \n",
            " attention_mask (InputLayer)    [(None, 128)]        0           []                               \n",
            "                                                                                                  \n",
            " tf_bert_model (TFBertModel)    TFBaseModelOutputWi  177853440   ['input_ids[0][0]',              \n",
            "                                thPoolingAndCrossAt               'attention_mask[0][0]']         \n",
            "                                tentions(last_hidde                                               \n",
            "                                n_state=(None, 128,                                               \n",
            "                                 768),                                                            \n",
            "                                 pooler_output=(Non                                               \n",
            "                                e, 768),                                                          \n",
            "                                 past_key_values=No                                               \n",
            "                                ne, hidden_states=N                                               \n",
            "                                one, attentions=Non                                               \n",
            "                                e, cross_attentions                                               \n",
            "                                =None)                                                            \n",
            "                                                                                                  \n",
            " intermeiate_layer (Dense)      (None, 512)          393728      ['tf_bert_model[0][1]']          \n",
            "                                                                                                  \n",
            " output_layer (Dense)           (None, 10)           5130        ['intermeiate_layer[0][0]']      \n",
            "                                                                                                  \n",
            "==================================================================================================\n",
            "Total params: 178,252,298\n",
            "Trainable params: 178,252,298\n",
            "Non-trainable params: 0\n",
            "__________________________________________________________________________________________________\n"
          ]
        }
      ],
      "source": [
        "input_ids = tf.keras.layers.Input(shape=(MAX_LENGTH,), name = 'input_ids', dtype= 'int32')\n",
        "attention_masks = tf.keras.layers.Input(shape=(MAX_LENGTH,), name = 'attention_mask', dtype= 'int32')\n",
        "bert_embeds = bert_model(input_ids, attention_mask = attention_masks)[1]\n",
        "intermeiate_layer = tf.keras.layers.Dense(512, activation='relu', name = 'intermeiate_layer')(bert_embeds)\n",
        "output_layer = tf.keras.layers.Dense(10, activation='softmax', name = 'output_layer')(intermeiate_layer)\n",
        "model = tf.keras.Model(inputs=[input_ids, attention_masks], outputs=output_layer)\n",
        "model.summary()"
      ]
    },
    {
      "cell_type": "code",
      "execution_count": null,
      "metadata": {
        "id": "RCplUlDw5vnr"
      },
      "outputs": [],
      "source": [
        "optimizer = tf.keras.optimizers.experimental.SGD(learning_rate=2e-5, clipnorm=1.0)\n",
        "loss = tf.keras.losses.CategoricalCrossentropy()\n",
        "metric = tf.keras.metrics.CategoricalAccuracy('accuracy')\n",
        "EPOCHS = 5\n",
        "model.compile(optimizer=optimizer, loss=loss, metrics=[metric])"
      ]
    },
    {
      "cell_type": "code",
      "execution_count": null,
      "metadata": {
        "colab": {
          "base_uri": "https://localhost:8080/"
        },
        "outputId": "88b021da-9254-4dfd-d506-fe73cf569e9f",
        "id": "VhC7Gl3v0wjR"
      },
      "outputs": [
        {
          "output_type": "stream",
          "name": "stdout",
          "text": [
            "Epoch 1/5\n",
            "2356/2356 [==============================] - 1816s 771ms/step - loss: 2.3232 - accuracy: 0.1015 - val_loss: 2.3081 - val_accuracy: 0.1050\n",
            "Epoch 2/5\n",
            "2356/2356 [==============================] - 1813s 769ms/step - loss: 2.3068 - accuracy: 0.1068 - val_loss: 2.3009 - val_accuracy: 0.1104\n",
            "Epoch 3/5\n",
            "2356/2356 [==============================] - 1814s 770ms/step - loss: 2.3014 - accuracy: 0.1111 - val_loss: 2.2955 - val_accuracy: 0.1180\n",
            "Epoch 4/5\n",
            "2356/2356 [==============================] - 1814s 770ms/step - loss: 2.2963 - accuracy: 0.1166 - val_loss: 2.2879 - val_accuracy: 0.1273\n",
            "Epoch 5/5\n",
            "2356/2356 [==============================] - 1812s 769ms/step - loss: 2.2894 - accuracy: 0.1265 - val_loss: 2.2815 - val_accuracy: 0.1371\n"
          ]
        }
      ],
      "source": [
        "history = model.fit(train_dataset, validation_data=val_dataset, epochs = EPOCHS)"
      ]
    },
    {
      "cell_type": "code",
      "source": [
        "model.save('/content/drive/MyDrive/deep_learning_hws/HWs/4/P3/model_c.h5') "
      ],
      "metadata": {
        "id": "-dqRsj065vns"
      },
      "execution_count": null,
      "outputs": []
    },
    {
      "cell_type": "markdown",
      "source": [
        "#### evaluation results"
      ],
      "metadata": {
        "id": "lguktOOt5vns"
      }
    },
    {
      "cell_type": "code",
      "source": [
        "# loaded_model = tf.keras.models.load_model('/content/drive/MyDrive/deep_learning_hws/HWs/4/P3/model_c.h5', custom_objects={\"TFBertModel\": transformers.TFBertModel})"
      ],
      "metadata": {
        "id": "pPf3jH7YAhR_"
      },
      "execution_count": null,
      "outputs": []
    },
    {
      "cell_type": "code",
      "source": [
        "preds = model.predict(test_dataset)\n",
        "Y_pred_labels = preds.argmax(axis=1)\n",
        "data, labels = tuple(zip(*test_dataset))\n",
        "Y_test=[]\n",
        "for i in range(len(labels)):\n",
        "  for j in range(32):\n",
        "    Y_test.append(labels[i][j])\n",
        "\n",
        "\n",
        "Y_test_labels=np.zeros_like(Y_pred_labels)\n",
        "ind=0\n",
        "for t in Y_test:\n",
        "  Y_test_labels[ind] = (t.numpy()).argmax()\n",
        "  ind+=1"
      ],
      "metadata": {
        "colab": {
          "base_uri": "https://localhost:8080/"
        },
        "outputId": "66da02bb-899b-4d57-e969-bf4fe3ca71c3",
        "id": "WGKh8TLo03Ds"
      },
      "execution_count": null,
      "outputs": [
        {
          "output_type": "stream",
          "name": "stdout",
          "text": [
            "296/296 [==============================] - 80s 257ms/step\n"
          ]
        }
      ]
    },
    {
      "cell_type": "code",
      "source": [
        "\n",
        "\n",
        "# labels = ['amir','attar', 'bahar', 'farrokhi', 'ferdousi', 'hafez','feyz',  'parvin', 'saadi',  'vahshi']\n",
        "cm = metrics.confusion_matrix(list(Y_test_labels), list(Y_pred_labels) )\n",
        "print(cm)\n",
        "fig = plt.figure()\n",
        "ax = fig.add_subplot(111)\n",
        "cax = ax.matshow(cm)\n",
        "plt.title('Confusion matrix of the classifier')\n",
        "fig.colorbar(cax)\n",
        "# ax.set_xticklabels( labels)\n",
        "# ax.set_yticklabels(labels)\n",
        "plt.xlabel('Predicted')\n",
        "plt.ylabel('True')\n",
        "plt.show()\n",
        "\n",
        "print('-'*100)\n",
        "print('loss and acuuracy for test dataset')\n",
        "loss, accuracy = model.evaluate(test_dataset)\n",
        "print('result for test dataset: loss is {}, acuuracy is {}'.format(loss, accuracy))\n",
        "print('-'*100)\n",
        "print('Precision: %.8f' % metrics.precision_score(Y_test_labels, Y_pred_labels,average= 'weighted'))\n",
        "print('Recall: %.8f' % metrics.recall_score(Y_test_labels, Y_pred_labels,average= 'weighted'))\n",
        "print('Accuracy: %.8f' % metrics.accuracy_score(Y_test_labels, Y_pred_labels))\n",
        "print('F1 Score(micro): %.8f' % metrics.f1_score(Y_test_labels, Y_pred_labels,average= 'micro'))\n",
        "print('-'*100)"
      ],
      "metadata": {
        "colab": {
          "base_uri": "https://localhost:8080/",
          "height": 654
        },
        "outputId": "5db8ff4a-c7cd-4131-e405-c4785a03ea1c",
        "id": "ztXB9s9X03Dt"
      },
      "execution_count": null,
      "outputs": [
        {
          "output_type": "stream",
          "name": "stdout",
          "text": [
            "[[ 34 250  57  36  87  97  82  34 237  27]\n",
            " [ 35 250  52  40  91  86  59  20 274  33]\n",
            " [ 29 238  51  49  91 105  72  17 257  33]\n",
            " [ 43 229  41  38 113 109  70  19 259  41]\n",
            " [ 39 219  58  35  95  98  81  24 246  33]\n",
            " [ 33 231  60  36 108  98  73  30 276  26]\n",
            " [ 34 224  47  51 101  98  74  21 240  45]\n",
            " [ 28 213  67  38 123 110  66  21 262  33]\n",
            " [ 24 229  45  50 100 121  70  15 268  36]\n",
            " [ 39 197  57  41  92 108  73  23 266  38]]\n"
          ]
        },
        {
          "output_type": "display_data",
          "data": {
            "text/plain": [
              "<Figure size 432x288 with 2 Axes>"
            ],
            "image/png": "[encoded data removed]"
          },
          "metadata": {
            "needs_background": "light"
          }
        },
        {
          "output_type": "stream",
          "name": "stdout",
          "text": [
            "----------------------------------------------------------------------------------------------------\n",
            "loss and acuuracy for test dataset\n",
            "296/296 [==============================] - 79s 259ms/step - loss: 2.2790 - accuracy: 0.1428\n",
            "result for test dataset: loss is 2.2790355682373047, acuuracy is 0.14284205436706543\n",
            "----------------------------------------------------------------------------------------------------\n",
            "Precision: 0.09973290\n",
            "Recall: 0.10209037\n",
            "Accuracy: 0.10209037\n",
            "F1 Score(micro): 0.10209037\n",
            "----------------------------------------------------------------------------------------------------\n"
          ]
        }
      ]
    },
    {
      "cell_type": "code",
      "source": [
        "#### Perplexity"
      ],
      "metadata": {
        "id": "JAjBXDvFY8BT"
      },
      "execution_count": null,
      "outputs": []
    },
    {
      "cell_type": "markdown",
      "source": [],
      "metadata": {
        "id": "vAdqxPtGZgtE"
      }
    },
    {
      "cell_type": "markdown",
      "source": [
        "## Perplexity"
      ],
      "metadata": {
        "id": "DpBo_s4XZgwN"
      }
    },
    {
      "cell_type": "code",
      "source": [
        "!pip install keras_nlp"
      ],
      "metadata": {
        "colab": {
          "base_uri": "https://localhost:8080/"
        },
        "id": "l9OsI_CUZG7J",
        "outputId": "ad55b06b-5d84-4491-fde8-41f01ebcad6a"
      },
      "execution_count": 42,
      "outputs": [
        {
          "output_type": "stream",
          "name": "stdout",
          "text": [
            "Looking in indexes: https://pypi.org/simple, https://us-python.pkg.dev/colab-wheels/public/simple/\n",
            "Collecting keras_nlp\n",
            "  Downloading keras_nlp-0.4.0-py3-none-any.whl (337 kB)\n",
            "\u001b[2K     \u001b[90m━━━━━━━━━━━━━━━━━━━━━━━━━━━━━━━━━━━━━━\u001b[0m \u001b[32m337.5/337.5 KB\u001b[0m \u001b[31m17.1 MB/s\u001b[0m eta \u001b[36m0:00:00\u001b[0m\n",
            "\u001b[?25hRequirement already satisfied: tensorflow in /usr/local/lib/python3.8/dist-packages (from keras_nlp) (2.9.2)\n",
            "Collecting tensorflow-text\n",
            "  Downloading tensorflow_text-2.11.0-cp38-cp38-manylinux_2_17_x86_64.manylinux2014_x86_64.whl (5.8 MB)\n",
            "\u001b[2K     \u001b[90m━━━━━━━━━━━━━━━━━━━━━━━━━━━━━━━━━━━━━━━━\u001b[0m \u001b[32m5.8/5.8 MB\u001b[0m \u001b[31m111.4 MB/s\u001b[0m eta \u001b[36m0:00:00\u001b[0m\n",
            "\u001b[?25hRequirement already satisfied: packaging in /usr/local/lib/python3.8/dist-packages (from keras_nlp) (23.0)\n",
            "Requirement already satisfied: absl-py in /usr/local/lib/python3.8/dist-packages (from keras_nlp) (1.4.0)\n",
            "Requirement already satisfied: numpy in /usr/local/lib/python3.8/dist-packages (from keras_nlp) (1.21.6)\n",
            "Requirement already satisfied: flatbuffers<2,>=1.12 in /usr/local/lib/python3.8/dist-packages (from tensorflow->keras_nlp) (1.12)\n",
            "Requirement already satisfied: h5py>=2.9.0 in /usr/local/lib/python3.8/dist-packages (from tensorflow->keras_nlp) (3.1.0)\n",
            "Requirement already satisfied: tensorflow-io-gcs-filesystem>=0.23.1 in /usr/local/lib/python3.8/dist-packages (from tensorflow->keras_nlp) (0.30.0)\n",
            "Requirement already satisfied: tensorflow-estimator<2.10.0,>=2.9.0rc0 in /usr/local/lib/python3.8/dist-packages (from tensorflow->keras_nlp) (2.9.0)\n",
            "Requirement already satisfied: opt-einsum>=2.3.2 in /usr/local/lib/python3.8/dist-packages (from tensorflow->keras_nlp) (3.3.0)\n",
            "Requirement already satisfied: six>=1.12.0 in /usr/local/lib/python3.8/dist-packages (from tensorflow->keras_nlp) (1.15.0)\n",
            "Requirement already satisfied: tensorboard<2.10,>=2.9 in /usr/local/lib/python3.8/dist-packages (from tensorflow->keras_nlp) (2.9.1)\n",
            "Requirement already satisfied: termcolor>=1.1.0 in /usr/local/lib/python3.8/dist-packages (from tensorflow->keras_nlp) (2.2.0)\n",
            "Requirement already satisfied: keras-preprocessing>=1.1.1 in /usr/local/lib/python3.8/dist-packages (from tensorflow->keras_nlp) (1.1.2)\n",
            "Requirement already satisfied: typing-extensions>=3.6.6 in /usr/local/lib/python3.8/dist-packages (from tensorflow->keras_nlp) (4.4.0)\n",
            "Requirement already satisfied: gast<=0.4.0,>=0.2.1 in /usr/local/lib/python3.8/dist-packages (from tensorflow->keras_nlp) (0.4.0)\n",
            "Requirement already satisfied: protobuf<3.20,>=3.9.2 in /usr/local/lib/python3.8/dist-packages (from tensorflow->keras_nlp) (3.19.6)\n",
            "Requirement already satisfied: google-pasta>=0.1.1 in /usr/local/lib/python3.8/dist-packages (from tensorflow->keras_nlp) (0.2.0)\n",
            "Requirement already satisfied: wrapt>=1.11.0 in /usr/local/lib/python3.8/dist-packages (from tensorflow->keras_nlp) (1.14.1)\n",
            "Requirement already satisfied: libclang>=13.0.0 in /usr/local/lib/python3.8/dist-packages (from tensorflow->keras_nlp) (15.0.6.1)\n",
            "Requirement already satisfied: astunparse>=1.6.0 in /usr/local/lib/python3.8/dist-packages (from tensorflow->keras_nlp) (1.6.3)\n",
            "Requirement already satisfied: keras<2.10.0,>=2.9.0rc0 in /usr/local/lib/python3.8/dist-packages (from tensorflow->keras_nlp) (2.9.0)\n",
            "Requirement already satisfied: grpcio<2.0,>=1.24.3 in /usr/local/lib/python3.8/dist-packages (from tensorflow->keras_nlp) (1.51.1)\n",
            "Requirement already satisfied: setuptools in /usr/local/lib/python3.8/dist-packages (from tensorflow->keras_nlp) (57.4.0)\n",
            "Collecting tensorflow\n",
            "  Downloading tensorflow-2.11.0-cp38-cp38-manylinux_2_17_x86_64.manylinux2014_x86_64.whl (588.3 MB)\n",
            "\u001b[2K     \u001b[90m━━━━━━━━━━━━━━━━━━━━━━━━━━━━━━━━━━━━━━━\u001b[0m \u001b[32m588.3/588.3 MB\u001b[0m \u001b[31m2.6 MB/s\u001b[0m eta \u001b[36m0:00:00\u001b[0m\n",
            "\u001b[?25hRequirement already satisfied: tensorflow-hub>=0.8.0 in /usr/local/lib/python3.8/dist-packages (from tensorflow-text->keras_nlp) (0.12.0)\n",
            "INFO: pip is looking at multiple versions of tensorflow-text to determine which version is compatible with other requirements. This could take a while.\n",
            "Collecting tensorflow-text\n",
            "  Downloading tensorflow_text-2.10.0-cp38-cp38-manylinux_2_17_x86_64.manylinux2014_x86_64.whl (5.9 MB)\n",
            "\u001b[2K     \u001b[90m━━━━━━━━━━━━━━━━━━━━━━━━━━━━━━━━━━━━━━━━\u001b[0m \u001b[32m5.9/5.9 MB\u001b[0m \u001b[31m81.2 MB/s\u001b[0m eta \u001b[36m0:00:00\u001b[0m\n",
            "\u001b[?25hCollecting tensorflow\n",
            "  Downloading tensorflow-2.10.1-cp38-cp38-manylinux_2_17_x86_64.manylinux2014_x86_64.whl (578.1 MB)\n",
            "\u001b[2K     \u001b[90m━━━━━━━━━━━━━━━━━━━━━━━━━━━━━━━━━━━━━━━\u001b[0m \u001b[32m578.1/578.1 MB\u001b[0m \u001b[31m2.6 MB/s\u001b[0m eta \u001b[36m0:00:00\u001b[0m\n",
            "\u001b[?25h  Downloading tensorflow-2.10.0-cp38-cp38-manylinux_2_17_x86_64.manylinux2014_x86_64.whl (578.1 MB)\n",
            "\u001b[2K     \u001b[90m━━━━━━━━━━━━━━━━━━━━━━━━━━━━━━━━━━━━━━━\u001b[0m \u001b[32m578.1/578.1 MB\u001b[0m \u001b[31m3.0 MB/s\u001b[0m eta \u001b[36m0:00:00\u001b[0m\n",
            "\u001b[?25hCollecting tensorflow-text\n",
            "  Downloading tensorflow_text-2.9.0-cp38-cp38-manylinux_2_17_x86_64.manylinux2014_x86_64.whl (4.6 MB)\n",
            "\u001b[2K     \u001b[90m━━━━━━━━━━━━━━━━━━━━━━━━━━━━━━━━━━━━━━━━\u001b[0m \u001b[32m4.6/4.6 MB\u001b[0m \u001b[31m114.0 MB/s\u001b[0m eta \u001b[36m0:00:00\u001b[0m\n",
            "\u001b[?25hRequirement already satisfied: wheel<1.0,>=0.23.0 in /usr/local/lib/python3.8/dist-packages (from astunparse>=1.6.0->tensorflow->keras_nlp) (0.38.4)\n",
            "Requirement already satisfied: tensorboard-plugin-wit>=1.6.0 in /usr/local/lib/python3.8/dist-packages (from tensorboard<2.10,>=2.9->tensorflow->keras_nlp) (1.8.1)\n",
            "Requirement already satisfied: tensorboard-data-server<0.7.0,>=0.6.0 in /usr/local/lib/python3.8/dist-packages (from tensorboard<2.10,>=2.9->tensorflow->keras_nlp) (0.6.1)\n",
            "Requirement already satisfied: markdown>=2.6.8 in /usr/local/lib/python3.8/dist-packages (from tensorboard<2.10,>=2.9->tensorflow->keras_nlp) (3.4.1)\n",
            "Requirement already satisfied: google-auth-oauthlib<0.5,>=0.4.1 in /usr/local/lib/python3.8/dist-packages (from tensorboard<2.10,>=2.9->tensorflow->keras_nlp) (0.4.6)\n",
            "Requirement already satisfied: requests<3,>=2.21.0 in /usr/local/lib/python3.8/dist-packages (from tensorboard<2.10,>=2.9->tensorflow->keras_nlp) (2.25.1)\n",
            "Requirement already satisfied: werkzeug>=1.0.1 in /usr/local/lib/python3.8/dist-packages (from tensorboard<2.10,>=2.9->tensorflow->keras_nlp) (1.0.1)\n",
            "Requirement already satisfied: google-auth<3,>=1.6.3 in /usr/local/lib/python3.8/dist-packages (from tensorboard<2.10,>=2.9->tensorflow->keras_nlp) (2.16.0)\n",
            "Requirement already satisfied: cachetools<6.0,>=2.0.0 in /usr/local/lib/python3.8/dist-packages (from google-auth<3,>=1.6.3->tensorboard<2.10,>=2.9->tensorflow->keras_nlp) (5.3.0)\n",
            "Requirement already satisfied: pyasn1-modules>=0.2.1 in /usr/local/lib/python3.8/dist-packages (from google-auth<3,>=1.6.3->tensorboard<2.10,>=2.9->tensorflow->keras_nlp) (0.2.8)\n",
            "Requirement already satisfied: rsa<5,>=3.1.4 in /usr/local/lib/python3.8/dist-packages (from google-auth<3,>=1.6.3->tensorboard<2.10,>=2.9->tensorflow->keras_nlp) (4.9)\n",
            "Requirement already satisfied: requests-oauthlib>=0.7.0 in /usr/local/lib/python3.8/dist-packages (from google-auth-oauthlib<0.5,>=0.4.1->tensorboard<2.10,>=2.9->tensorflow->keras_nlp) (1.3.1)\n",
            "Requirement already satisfied: importlib-metadata>=4.4 in /usr/local/lib/python3.8/dist-packages (from markdown>=2.6.8->tensorboard<2.10,>=2.9->tensorflow->keras_nlp) (6.0.0)\n",
            "Requirement already satisfied: chardet<5,>=3.0.2 in /usr/local/lib/python3.8/dist-packages (from requests<3,>=2.21.0->tensorboard<2.10,>=2.9->tensorflow->keras_nlp) (4.0.0)\n",
            "Requirement already satisfied: certifi>=2017.4.17 in /usr/local/lib/python3.8/dist-packages (from requests<3,>=2.21.0->tensorboard<2.10,>=2.9->tensorflow->keras_nlp) (2022.12.7)\n",
            "Requirement already satisfied: urllib3<1.27,>=1.21.1 in /usr/local/lib/python3.8/dist-packages (from requests<3,>=2.21.0->tensorboard<2.10,>=2.9->tensorflow->keras_nlp) (1.24.3)\n",
            "Requirement already satisfied: idna<3,>=2.5 in /usr/local/lib/python3.8/dist-packages (from requests<3,>=2.21.0->tensorboard<2.10,>=2.9->tensorflow->keras_nlp) (2.10)\n",
            "Requirement already satisfied: zipp>=0.5 in /usr/local/lib/python3.8/dist-packages (from importlib-metadata>=4.4->markdown>=2.6.8->tensorboard<2.10,>=2.9->tensorflow->keras_nlp) (3.12.0)\n",
            "Requirement already satisfied: pyasn1<0.5.0,>=0.4.6 in /usr/local/lib/python3.8/dist-packages (from pyasn1-modules>=0.2.1->google-auth<3,>=1.6.3->tensorboard<2.10,>=2.9->tensorflow->keras_nlp) (0.4.8)\n",
            "Requirement already satisfied: oauthlib>=3.0.0 in /usr/local/lib/python3.8/dist-packages (from requests-oauthlib>=0.7.0->google-auth-oauthlib<0.5,>=0.4.1->tensorboard<2.10,>=2.9->tensorflow->keras_nlp) (3.2.2)\n",
            "Installing collected packages: tensorflow-text, keras_nlp\n",
            "Successfully installed keras_nlp-0.4.0 tensorflow-text-2.9.0\n"
          ]
        }
      ]
    },
    {
      "cell_type": "code",
      "source": [
        "import keras_nlp"
      ],
      "metadata": {
        "id": "IRKOSwUDJHlT"
      },
      "execution_count": 43,
      "outputs": []
    },
    {
      "cell_type": "code",
      "source": [
        "# perplexity = keras_nlp.metrics.Perplexity(name=\"perplexity\")\n",
        "perplexity = keras_nlp.metrics.Perplexity(from_logits=False, mask_token_id=0, dtype=None, name=\"perplexity\")"
      ],
      "metadata": {
        "id": "UsFHQWrcSaRl"
      },
      "execution_count": 63,
      "outputs": []
    },
    {
      "cell_type": "code",
      "source": [
        "loaded_model_a = tf.keras.models.load_model('/content/drive/MyDrive/deep_learning_hws/HWs/4/P3/model_a', custom_objects={\"TFBertModel\": transformers.TFBertModel})\n",
        "loaded_model_b= tf.keras.models.load_model('/content/drive/MyDrive/deep_learning_hws/HWs/4/P3/model_b.h5', custom_objects={\"TFBertModel\": transformers.TFBertModel}) \n",
        "loaded_model_c = tf.keras.models.load_model('/content/drive/MyDrive/deep_learning_hws/HWs/4/P3/model_c.h5', custom_objects={\"TFBertModel\": transformers.TFBertModel})"
      ],
      "metadata": {
        "colab": {
          "base_uri": "https://localhost:8080/"
        },
        "id": "4eY5FyRWSkx-",
        "outputId": "086ffd34-cf03-4ebb-ca7e-35ac225889a3"
      },
      "execution_count": 54,
      "outputs": [
        {
          "output_type": "stream",
          "name": "stderr",
          "text": [
            "WARNING:tensorflow:Loading model from HDF5 will not restore the optimizer's weights, since the optimizer is an instance of `optimizer_experimental.Optimizer`\n"
          ]
        }
      ]
    },
    {
      "cell_type": "code",
      "source": [
        "preds_a = loaded_model_a.predict(final_my_1000_samples)\n",
        "preds_b = loaded_model_b.predict(final_my_1000_samples)\n",
        "preds_c = loaded_model_c.predict(final_my_1000_samples)\n",
        "\n",
        "Y_pred_labels = preds_c.argmax(axis=1)\n",
        "data, labels = tuple(zip(*final_my_1000_samples))\n",
        "Y_test=[]\n",
        "for i in range(len(labels)):\n",
        "  for j in range(32):\n",
        "    Y_test.append(labels[i][j])\n",
        "\n",
        "\n",
        "Y_test_labels=np.zeros_like(Y_pred_labels)\n",
        "ind=0\n",
        "for t in Y_test:\n",
        "  Y_test_labels[ind] = (t.numpy()).argmax()\n",
        "  ind+=1\n",
        "\n",
        "preds_a = np.reshape(preds_a,(32,31,10))\n",
        "preds_b = np.reshape(preds_b,(32,31,10))\n",
        "preds_c = np.reshape(preds_c,(32,31,10))\n",
        "\n",
        "Y_test_labels = np.reshape([Y_test_labels],((32,31)))"
      ],
      "metadata": {
        "colab": {
          "base_uri": "https://localhost:8080/"
        },
        "id": "Sas2HG7iVfsn",
        "outputId": "bd56bebc-ca74-45a9-8153-45763f763f18"
      },
      "execution_count": 57,
      "outputs": [
        {
          "output_type": "stream",
          "name": "stdout",
          "text": [
            "31/31 [==============================] - 8s 264ms/step\n",
            "31/31 [==============================] - 8s 266ms/step\n",
            "31/31 [==============================] - 8s 270ms/step\n"
          ]
        }
      ]
    },
    {
      "cell_type": "code",
      "source": [
        "perplexity_a = perplexity(Y_test_labels, preds_a)\n",
        "perplexity_b = perplexity(Y_test_labels, preds_b)\n",
        "perplexity_c = perplexity(Y_test_labels, preds_c)"
      ],
      "metadata": {
        "id": "tr-0CJE58AXR"
      },
      "execution_count": null,
      "outputs": []
    },
    {
      "cell_type": "code",
      "source": [
        "print(\"perplexity_a(freezed_bert) is {}, perplexity_b(finetuning_adam) is {} and perplexity_b(finetuning_sgd) is {}\".format(perplexity_a.numpy(), perplexity_b.numpy(), perplexity_c.numpy()))"
      ],
      "metadata": {
        "colab": {
          "base_uri": "https://localhost:8080/"
        },
        "id": "k1bFFc5i6JvU",
        "outputId": "116503a9-b7a4-4843-96cc-0f430c749822"
      },
      "execution_count": 58,
      "outputs": [
        {
          "output_type": "stream",
          "name": "stdout",
          "text": [
            "perplexity_a(freezed_bert) is 20.025169372558594, perplexity_b(finetuning_adam) is 29.091941833496094 and perplexity_b(finetuning_sgd) is 24.44976234436035\n"
          ]
        }
      ]
    }
  ],
  "metadata": {
    "accelerator": "GPU",
    "colab": {
      "provenance": [],
      "collapsed_sections": [
        "oBGtvMPPfNRF",
        "jeMOlxyWfI06",
        "B-c57Xce4Dn9",
        "7NGCYuas5vni"
      ],
      "machine_shape": "hm"
    },
    "gpuClass": "standard",
    "kernelspec": {
      "display_name": "Python 3",
      "name": "python3"
    },
    "language_info": {
      "name": "python"
    },
    "widgets": {
      "application/vnd.jupyter.widget-state+json": {
        "0f8b3f25a870443897a1121479574577": {
          "model_module": "@jupyter-widgets/controls",
          "model_name": "HBoxModel",
          "model_module_version": "1.5.0",
          "state": {
            "_dom_classes": [],
            "_model_module": "@jupyter-widgets/controls",
            "_model_module_version": "1.5.0",
            "_model_name": "HBoxModel",
            "_view_count": null,
            "_view_module": "@jupyter-widgets/controls",
            "_view_module_version": "1.5.0",
            "_view_name": "HBoxView",
            "box_style": "",
            "children": [
              "IPY_MODEL_7a0e637662524f30aac2dfaabb1f8828",
              "IPY_MODEL_9358fc2c90194de1b0ba6ec070409472",
              "IPY_MODEL_81049c72c8e941e8a69cea611e248bbf"
            ],
            "layout": "IPY_MODEL_27727e5aa00043e89cf66b3673fbe604"
          }
        },
        "7a0e637662524f30aac2dfaabb1f8828": {
          "model_module": "@jupyter-widgets/controls",
          "model_name": "HTMLModel",
          "model_module_version": "1.5.0",
          "state": {
            "_dom_classes": [],
            "_model_module": "@jupyter-widgets/controls",
            "_model_module_version": "1.5.0",
            "_model_name": "HTMLModel",
            "_view_count": null,
            "_view_module": "@jupyter-widgets/controls",
            "_view_module_version": "1.5.0",
            "_view_name": "HTMLView",
            "description": "",
            "description_tooltip": null,
            "layout": "IPY_MODEL_f870099b612e4153b29e08004557524e",
            "placeholder": "​",
            "style": "IPY_MODEL_a4b7eaf601174605a13dd553929d97a7",
            "value": "Downloading (…)&quot;tf_model.h5&quot;;: 100%"
          }
        },
        "9358fc2c90194de1b0ba6ec070409472": {
          "model_module": "@jupyter-widgets/controls",
          "model_name": "FloatProgressModel",
          "model_module_version": "1.5.0",
          "state": {
            "_dom_classes": [],
            "_model_module": "@jupyter-widgets/controls",
            "_model_module_version": "1.5.0",
            "_model_name": "FloatProgressModel",
            "_view_count": null,
            "_view_module": "@jupyter-widgets/controls",
            "_view_module_version": "1.5.0",
            "_view_name": "ProgressView",
            "bar_style": "success",
            "description": "",
            "description_tooltip": null,
            "layout": "IPY_MODEL_db25677b48e94e619951e80cea669437",
            "max": 1083389348,
            "min": 0,
            "orientation": "horizontal",
            "style": "IPY_MODEL_218f5001ca554804b87084a10985edcc",
            "value": 1083389348
          }
        },
        "81049c72c8e941e8a69cea611e248bbf": {
          "model_module": "@jupyter-widgets/controls",
          "model_name": "HTMLModel",
          "model_module_version": "1.5.0",
          "state": {
            "_dom_classes": [],
            "_model_module": "@jupyter-widgets/controls",
            "_model_module_version": "1.5.0",
            "_model_name": "HTMLModel",
            "_view_count": null,
            "_view_module": "@jupyter-widgets/controls",
            "_view_module_version": "1.5.0",
            "_view_name": "HTMLView",
            "description": "",
            "description_tooltip": null,
            "layout": "IPY_MODEL_7439656f83cc4ea5ae0904a69c3426d4",
            "placeholder": "​",
            "style": "IPY_MODEL_2bf52ad57ac74a93af6169da3af8b43a",
            "value": " 1.08G/1.08G [00:04&lt;00:00, 241MB/s]"
          }
        },
        "27727e5aa00043e89cf66b3673fbe604": {
          "model_module": "@jupyter-widgets/base",
          "model_name": "LayoutModel",
          "model_module_version": "1.2.0",
          "state": {
            "_model_module": "@jupyter-widgets/base",
            "_model_module_version": "1.2.0",
            "_model_name": "LayoutModel",
            "_view_count": null,
            "_view_module": "@jupyter-widgets/base",
            "_view_module_version": "1.2.0",
            "_view_name": "LayoutView",
            "align_content": null,
            "align_items": null,
            "align_self": null,
            "border": null,
            "bottom": null,
            "display": null,
            "flex": null,
            "flex_flow": null,
            "grid_area": null,
            "grid_auto_columns": null,
            "grid_auto_flow": null,
            "grid_auto_rows": null,
            "grid_column": null,
            "grid_gap": null,
            "grid_row": null,
            "grid_template_areas": null,
            "grid_template_columns": null,
            "grid_template_rows": null,
            "height": null,
            "justify_content": null,
            "justify_items": null,
            "left": null,
            "margin": null,
            "max_height": null,
            "max_width": null,
            "min_height": null,
            "min_width": null,
            "object_fit": null,
            "object_position": null,
            "order": null,
            "overflow": null,
            "overflow_x": null,
            "overflow_y": null,
            "padding": null,
            "right": null,
            "top": null,
            "visibility": null,
            "width": null
          }
        },
        "f870099b612e4153b29e08004557524e": {
          "model_module": "@jupyter-widgets/base",
          "model_name": "LayoutModel",
          "model_module_version": "1.2.0",
          "state": {
            "_model_module": "@jupyter-widgets/base",
            "_model_module_version": "1.2.0",
            "_model_name": "LayoutModel",
            "_view_count": null,
            "_view_module": "@jupyter-widgets/base",
            "_view_module_version": "1.2.0",
            "_view_name": "LayoutView",
            "align_content": null,
            "align_items": null,
            "align_self": null,
            "border": null,
            "bottom": null,
            "display": null,
            "flex": null,
            "flex_flow": null,
            "grid_area": null,
            "grid_auto_columns": null,
            "grid_auto_flow": null,
            "grid_auto_rows": null,
            "grid_column": null,
            "grid_gap": null,
            "grid_row": null,
            "grid_template_areas": null,
            "grid_template_columns": null,
            "grid_template_rows": null,
            "height": null,
            "justify_content": null,
            "justify_items": null,
            "left": null,
            "margin": null,
            "max_height": null,
            "max_width": null,
            "min_height": null,
            "min_width": null,
            "object_fit": null,
            "object_position": null,
            "order": null,
            "overflow": null,
            "overflow_x": null,
            "overflow_y": null,
            "padding": null,
            "right": null,
            "top": null,
            "visibility": null,
            "width": null
          }
        },
        "a4b7eaf601174605a13dd553929d97a7": {
          "model_module": "@jupyter-widgets/controls",
          "model_name": "DescriptionStyleModel",
          "model_module_version": "1.5.0",
          "state": {
            "_model_module": "@jupyter-widgets/controls",
            "_model_module_version": "1.5.0",
            "_model_name": "DescriptionStyleModel",
            "_view_count": null,
            "_view_module": "@jupyter-widgets/base",
            "_view_module_version": "1.2.0",
            "_view_name": "StyleView",
            "description_width": ""
          }
        },
        "db25677b48e94e619951e80cea669437": {
          "model_module": "@jupyter-widgets/base",
          "model_name": "LayoutModel",
          "model_module_version": "1.2.0",
          "state": {
            "_model_module": "@jupyter-widgets/base",
            "_model_module_version": "1.2.0",
            "_model_name": "LayoutModel",
            "_view_count": null,
            "_view_module": "@jupyter-widgets/base",
            "_view_module_version": "1.2.0",
            "_view_name": "LayoutView",
            "align_content": null,
            "align_items": null,
            "align_self": null,
            "border": null,
            "bottom": null,
            "display": null,
            "flex": null,
            "flex_flow": null,
            "grid_area": null,
            "grid_auto_columns": null,
            "grid_auto_flow": null,
            "grid_auto_rows": null,
            "grid_column": null,
            "grid_gap": null,
            "grid_row": null,
            "grid_template_areas": null,
            "grid_template_columns": null,
            "grid_template_rows": null,
            "height": null,
            "justify_content": null,
            "justify_items": null,
            "left": null,
            "margin": null,
            "max_height": null,
            "max_width": null,
            "min_height": null,
            "min_width": null,
            "object_fit": null,
            "object_position": null,
            "order": null,
            "overflow": null,
            "overflow_x": null,
            "overflow_y": null,
            "padding": null,
            "right": null,
            "top": null,
            "visibility": null,
            "width": null
          }
        },
        "218f5001ca554804b87084a10985edcc": {
          "model_module": "@jupyter-widgets/controls",
          "model_name": "ProgressStyleModel",
          "model_module_version": "1.5.0",
          "state": {
            "_model_module": "@jupyter-widgets/controls",
            "_model_module_version": "1.5.0",
            "_model_name": "ProgressStyleModel",
            "_view_count": null,
            "_view_module": "@jupyter-widgets/base",
            "_view_module_version": "1.2.0",
            "_view_name": "StyleView",
            "bar_color": null,
            "description_width": ""
          }
        },
        "7439656f83cc4ea5ae0904a69c3426d4": {
          "model_module": "@jupyter-widgets/base",
          "model_name": "LayoutModel",
          "model_module_version": "1.2.0",
          "state": {
            "_model_module": "@jupyter-widgets/base",
            "_model_module_version": "1.2.0",
            "_model_name": "LayoutModel",
            "_view_count": null,
            "_view_module": "@jupyter-widgets/base",
            "_view_module_version": "1.2.0",
            "_view_name": "LayoutView",
            "align_content": null,
            "align_items": null,
            "align_self": null,
            "border": null,
            "bottom": null,
            "display": null,
            "flex": null,
            "flex_flow": null,
            "grid_area": null,
            "grid_auto_columns": null,
            "grid_auto_flow": null,
            "grid_auto_rows": null,
            "grid_column": null,
            "grid_gap": null,
            "grid_row": null,
            "grid_template_areas": null,
            "grid_template_columns": null,
            "grid_template_rows": null,
            "height": null,
            "justify_content": null,
            "justify_items": null,
            "left": null,
            "margin": null,
            "max_height": null,
            "max_width": null,
            "min_height": null,
            "min_width": null,
            "object_fit": null,
            "object_position": null,
            "order": null,
            "overflow": null,
            "overflow_x": null,
            "overflow_y": null,
            "padding": null,
            "right": null,
            "top": null,
            "visibility": null,
            "width": null
          }
        },
        "2bf52ad57ac74a93af6169da3af8b43a": {
          "model_module": "@jupyter-widgets/controls",
          "model_name": "DescriptionStyleModel",
          "model_module_version": "1.5.0",
          "state": {
            "_model_module": "@jupyter-widgets/controls",
            "_model_module_version": "1.5.0",
            "_model_name": "DescriptionStyleModel",
            "_view_count": null,
            "_view_module": "@jupyter-widgets/base",
            "_view_module_version": "1.2.0",
            "_view_name": "StyleView",
            "description_width": ""
          }
        },
        "23452f8ea1db41c5917479f368bc3bd1": {
          "model_module": "@jupyter-widgets/controls",
          "model_name": "HBoxModel",
          "model_module_version": "1.5.0",
          "state": {
            "_dom_classes": [],
            "_model_module": "@jupyter-widgets/controls",
            "_model_module_version": "1.5.0",
            "_model_name": "HBoxModel",
            "_view_count": null,
            "_view_module": "@jupyter-widgets/controls",
            "_view_module_version": "1.5.0",
            "_view_name": "HBoxView",
            "box_style": "",
            "children": [
              "IPY_MODEL_8b0efc1ed572407c98b0a5a2bd4bcc8e",
              "IPY_MODEL_f0d206a48d934ff8bbfc6106fe8bf515",
              "IPY_MODEL_570ddba07ede445085cafc64f7ff224a"
            ],
            "layout": "IPY_MODEL_6ac362f8350246eabf029c717f3dbd63"
          }
        },
        "8b0efc1ed572407c98b0a5a2bd4bcc8e": {
          "model_module": "@jupyter-widgets/controls",
          "model_name": "HTMLModel",
          "model_module_version": "1.5.0",
          "state": {
            "_dom_classes": [],
            "_model_module": "@jupyter-widgets/controls",
            "_model_module_version": "1.5.0",
            "_model_name": "HTMLModel",
            "_view_count": null,
            "_view_module": "@jupyter-widgets/controls",
            "_view_module_version": "1.5.0",
            "_view_name": "HTMLView",
            "description": "",
            "description_tooltip": null,
            "layout": "IPY_MODEL_bf0c0a3b433e44c8879d18938cf5f4b8",
            "placeholder": "​",
            "style": "IPY_MODEL_55f4c796c1a84343aa99f6b13a8a1bbe",
            "value": "Downloading (…)&quot;tf_model.h5&quot;;: 100%"
          }
        },
        "f0d206a48d934ff8bbfc6106fe8bf515": {
          "model_module": "@jupyter-widgets/controls",
          "model_name": "FloatProgressModel",
          "model_module_version": "1.5.0",
          "state": {
            "_dom_classes": [],
            "_model_module": "@jupyter-widgets/controls",
            "_model_module_version": "1.5.0",
            "_model_name": "FloatProgressModel",
            "_view_count": null,
            "_view_module": "@jupyter-widgets/controls",
            "_view_module_version": "1.5.0",
            "_view_name": "ProgressView",
            "bar_style": "success",
            "description": "",
            "description_tooltip": null,
            "layout": "IPY_MODEL_cd767a099dab4be6b32034c818dccc5b",
            "max": 1083389348,
            "min": 0,
            "orientation": "horizontal",
            "style": "IPY_MODEL_d82fd66799904b61be5071ccac1a6dd4",
            "value": 1083389348
          }
        },
        "570ddba07ede445085cafc64f7ff224a": {
          "model_module": "@jupyter-widgets/controls",
          "model_name": "HTMLModel",
          "model_module_version": "1.5.0",
          "state": {
            "_dom_classes": [],
            "_model_module": "@jupyter-widgets/controls",
            "_model_module_version": "1.5.0",
            "_model_name": "HTMLModel",
            "_view_count": null,
            "_view_module": "@jupyter-widgets/controls",
            "_view_module_version": "1.5.0",
            "_view_name": "HTMLView",
            "description": "",
            "description_tooltip": null,
            "layout": "IPY_MODEL_80ade2b941b2407f9d4718e5b0f96e95",
            "placeholder": "​",
            "style": "IPY_MODEL_10871aa5cb62402db673579ab129e7cc",
            "value": " 1.08G/1.08G [00:07&lt;00:00, 179MB/s]"
          }
        },
        "6ac362f8350246eabf029c717f3dbd63": {
          "model_module": "@jupyter-widgets/base",
          "model_name": "LayoutModel",
          "model_module_version": "1.2.0",
          "state": {
            "_model_module": "@jupyter-widgets/base",
            "_model_module_version": "1.2.0",
            "_model_name": "LayoutModel",
            "_view_count": null,
            "_view_module": "@jupyter-widgets/base",
            "_view_module_version": "1.2.0",
            "_view_name": "LayoutView",
            "align_content": null,
            "align_items": null,
            "align_self": null,
            "border": null,
            "bottom": null,
            "display": null,
            "flex": null,
            "flex_flow": null,
            "grid_area": null,
            "grid_auto_columns": null,
            "grid_auto_flow": null,
            "grid_auto_rows": null,
            "grid_column": null,
            "grid_gap": null,
            "grid_row": null,
            "grid_template_areas": null,
            "grid_template_columns": null,
            "grid_template_rows": null,
            "height": null,
            "justify_content": null,
            "justify_items": null,
            "left": null,
            "margin": null,
            "max_height": null,
            "max_width": null,
            "min_height": null,
            "min_width": null,
            "object_fit": null,
            "object_position": null,
            "order": null,
            "overflow": null,
            "overflow_x": null,
            "overflow_y": null,
            "padding": null,
            "right": null,
            "top": null,
            "visibility": null,
            "width": null
          }
        },
        "bf0c0a3b433e44c8879d18938cf5f4b8": {
          "model_module": "@jupyter-widgets/base",
          "model_name": "LayoutModel",
          "model_module_version": "1.2.0",
          "state": {
            "_model_module": "@jupyter-widgets/base",
            "_model_module_version": "1.2.0",
            "_model_name": "LayoutModel",
            "_view_count": null,
            "_view_module": "@jupyter-widgets/base",
            "_view_module_version": "1.2.0",
            "_view_name": "LayoutView",
            "align_content": null,
            "align_items": null,
            "align_self": null,
            "border": null,
            "bottom": null,
            "display": null,
            "flex": null,
            "flex_flow": null,
            "grid_area": null,
            "grid_auto_columns": null,
            "grid_auto_flow": null,
            "grid_auto_rows": null,
            "grid_column": null,
            "grid_gap": null,
            "grid_row": null,
            "grid_template_areas": null,
            "grid_template_columns": null,
            "grid_template_rows": null,
            "height": null,
            "justify_content": null,
            "justify_items": null,
            "left": null,
            "margin": null,
            "max_height": null,
            "max_width": null,
            "min_height": null,
            "min_width": null,
            "object_fit": null,
            "object_position": null,
            "order": null,
            "overflow": null,
            "overflow_x": null,
            "overflow_y": null,
            "padding": null,
            "right": null,
            "top": null,
            "visibility": null,
            "width": null
          }
        },
        "55f4c796c1a84343aa99f6b13a8a1bbe": {
          "model_module": "@jupyter-widgets/controls",
          "model_name": "DescriptionStyleModel",
          "model_module_version": "1.5.0",
          "state": {
            "_model_module": "@jupyter-widgets/controls",
            "_model_module_version": "1.5.0",
            "_model_name": "DescriptionStyleModel",
            "_view_count": null,
            "_view_module": "@jupyter-widgets/base",
            "_view_module_version": "1.2.0",
            "_view_name": "StyleView",
            "description_width": ""
          }
        },
        "cd767a099dab4be6b32034c818dccc5b": {
          "model_module": "@jupyter-widgets/base",
          "model_name": "LayoutModel",
          "model_module_version": "1.2.0",
          "state": {
            "_model_module": "@jupyter-widgets/base",
            "_model_module_version": "1.2.0",
            "_model_name": "LayoutModel",
            "_view_count": null,
            "_view_module": "@jupyter-widgets/base",
            "_view_module_version": "1.2.0",
            "_view_name": "LayoutView",
            "align_content": null,
            "align_items": null,
            "align_self": null,
            "border": null,
            "bottom": null,
            "display": null,
            "flex": null,
            "flex_flow": null,
            "grid_area": null,
            "grid_auto_columns": null,
            "grid_auto_flow": null,
            "grid_auto_rows": null,
            "grid_column": null,
            "grid_gap": null,
            "grid_row": null,
            "grid_template_areas": null,
            "grid_template_columns": null,
            "grid_template_rows": null,
            "height": null,
            "justify_content": null,
            "justify_items": null,
            "left": null,
            "margin": null,
            "max_height": null,
            "max_width": null,
            "min_height": null,
            "min_width": null,
            "object_fit": null,
            "object_position": null,
            "order": null,
            "overflow": null,
            "overflow_x": null,
            "overflow_y": null,
            "padding": null,
            "right": null,
            "top": null,
            "visibility": null,
            "width": null
          }
        },
        "d82fd66799904b61be5071ccac1a6dd4": {
          "model_module": "@jupyter-widgets/controls",
          "model_name": "ProgressStyleModel",
          "model_module_version": "1.5.0",
          "state": {
            "_model_module": "@jupyter-widgets/controls",
            "_model_module_version": "1.5.0",
            "_model_name": "ProgressStyleModel",
            "_view_count": null,
            "_view_module": "@jupyter-widgets/base",
            "_view_module_version": "1.2.0",
            "_view_name": "StyleView",
            "bar_color": null,
            "description_width": ""
          }
        },
        "80ade2b941b2407f9d4718e5b0f96e95": {
          "model_module": "@jupyter-widgets/base",
          "model_name": "LayoutModel",
          "model_module_version": "1.2.0",
          "state": {
            "_model_module": "@jupyter-widgets/base",
            "_model_module_version": "1.2.0",
            "_model_name": "LayoutModel",
            "_view_count": null,
            "_view_module": "@jupyter-widgets/base",
            "_view_module_version": "1.2.0",
            "_view_name": "LayoutView",
            "align_content": null,
            "align_items": null,
            "align_self": null,
            "border": null,
            "bottom": null,
            "display": null,
            "flex": null,
            "flex_flow": null,
            "grid_area": null,
            "grid_auto_columns": null,
            "grid_auto_flow": null,
            "grid_auto_rows": null,
            "grid_column": null,
            "grid_gap": null,
            "grid_row": null,
            "grid_template_areas": null,
            "grid_template_columns": null,
            "grid_template_rows": null,
            "height": null,
            "justify_content": null,
            "justify_items": null,
            "left": null,
            "margin": null,
            "max_height": null,
            "max_width": null,
            "min_height": null,
            "min_width": null,
            "object_fit": null,
            "object_position": null,
            "order": null,
            "overflow": null,
            "overflow_x": null,
            "overflow_y": null,
            "padding": null,
            "right": null,
            "top": null,
            "visibility": null,
            "width": null
          }
        },
        "10871aa5cb62402db673579ab129e7cc": {
          "model_module": "@jupyter-widgets/controls",
          "model_name": "DescriptionStyleModel",
          "model_module_version": "1.5.0",
          "state": {
            "_model_module": "@jupyter-widgets/controls",
            "_model_module_version": "1.5.0",
            "_model_name": "DescriptionStyleModel",
            "_view_count": null,
            "_view_module": "@jupyter-widgets/base",
            "_view_module_version": "1.2.0",
            "_view_name": "StyleView",
            "description_width": ""
          }
        }
      }
    }
  },
  "nbformat": 4,
  "nbformat_minor": 0
}